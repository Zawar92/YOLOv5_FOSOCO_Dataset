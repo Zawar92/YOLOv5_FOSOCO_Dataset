{
 "cells": [
  {
   "cell_type": "code",
   "execution_count": 1,
   "id": "c4f396f9-1c96-4213-979e-4661d75f657d",
   "metadata": {},
   "outputs": [],
   "source": [
    "import os\n",
    "import shutil"
   ]
  },
  {
   "cell_type": "code",
   "execution_count": null,
   "id": "b2c98d80-0d3c-4638-8156-a05f9a142434",
   "metadata": {
    "scrolled": true
   },
   "outputs": [],
   "source": [
    "#! unzip archive.zip"
   ]
  },
  {
   "cell_type": "code",
   "execution_count": null,
   "id": "bf064db2-c0c3-481a-82fb-d795da398e98",
   "metadata": {},
   "outputs": [],
   "source": [
    "# Combine images and labels\n",
    "image_source_folder = \"./fsoco_yolo\""
   ]
  },
  {
   "cell_type": "code",
   "execution_count": null,
   "id": "54860748-a907-47ab-9e84-09022a062b5f",
   "metadata": {},
   "outputs": [],
   "source": [
    "images_source_folder = os.path.join(image_source_folder, 'images')\n",
    "images_destination_folder = os.path.join(image_source_folder, 'images')\n",
    "for subfolder in ['train', 'val']:\n",
    "    source_path = os.path.join(images_source_folder, subfolder)\n",
    "    shutil.copytree(source_path, images_destination_folder, dirs_exist_ok=True)"
   ]
  },
  {
   "cell_type": "code",
   "execution_count": null,
   "id": "2f0c7c6c-ae25-4ac3-afe8-c3fdec25af0e",
   "metadata": {},
   "outputs": [],
   "source": [
    "#! rm -r \"./fsoco_yolo/images/val\"\n",
    "#! rm -r \"./fsoco_yolo/images/train\""
   ]
  },
  {
   "cell_type": "code",
   "execution_count": 2,
   "id": "0e7918be-3581-4d8c-9f05-968e9a154d70",
   "metadata": {},
   "outputs": [],
   "source": [
    "labels_source_folder = \"./fsoco_yolo\""
   ]
  },
  {
   "cell_type": "code",
   "execution_count": 3,
   "id": "656067f9-2073-4861-8abe-1e85d80d95e7",
   "metadata": {},
   "outputs": [
    {
     "name": "stdout",
     "output_type": "stream",
     "text": [
      "source_path: ./fsoco_yolo/labels/train ./fsoco_yolo/labels\n",
      "source_path: ./fsoco_yolo/labels/val ./fsoco_yolo/labels\n"
     ]
    }
   ],
   "source": [
    "labels_source_folder = os.path.join(labels_source_folder, 'labels')\n",
    "labels_destination_folder = labels_source_folder\n",
    "for subfolder in ['train', 'val']:\n",
    "    source_path = os.path.join(labels_source_folder, subfolder)\n",
    "    print(\"source_path:\", source_path, labels_destination_folder)\n",
    "    shutil.copytree(source_path, labels_destination_folder, dirs_exist_ok=True)"
   ]
  },
  {
   "cell_type": "code",
   "execution_count": 4,
   "id": "498d33f3-8234-4d98-84e7-a856a850a922",
   "metadata": {},
   "outputs": [],
   "source": [
    "# ! rm -r \"./fsoco_yolo/labels/val\"\n",
    "# ! rm -r \"./fsoco_yolo/labels/train\""
   ]
  },
  {
   "cell_type": "code",
   "execution_count": null,
   "id": "8e206309-e043-4be1-be10-89fd2758153f",
   "metadata": {},
   "outputs": [],
   "source": [
    "# ! rm ./fsoco_yolo/labels/train.cache\n",
    "# ! rm ./fsoco_yolo/labels/val.cache "
   ]
  }
 ],
 "metadata": {
  "kernelspec": {
   "display_name": "Python 3 (ipykernel)",
   "language": "python",
   "name": "python3"
  },
  "language_info": {
   "codemirror_mode": {
    "name": "ipython",
    "version": 3
   },
   "file_extension": ".py",
   "mimetype": "text/x-python",
   "name": "python",
   "nbconvert_exporter": "python",
   "pygments_lexer": "ipython3",
   "version": "3.10.12"
  }
 },
 "nbformat": 4,
 "nbformat_minor": 5
}
