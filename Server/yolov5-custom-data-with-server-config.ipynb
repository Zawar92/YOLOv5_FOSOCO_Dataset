{
 "cells": [
  {
   "cell_type": "markdown",
   "id": "b6a405ac",
   "metadata": {},
   "source": [
    "# Preprocessing\n",
    " > **1. CUDA Setup**. --> Look at **README.md**\n",
    " \n",
    " > **2. Yolov5 Setup** --> **setup.ipynb**\n",
    " \n",
    " > **3. Preparing data**  --> For data preprocessing look at **data_preprocessing.ipynb** notebook."
   ]
  },
  {
   "cell_type": "markdown",
   "id": "c5ed0a6f",
   "metadata": {
    "papermill": {
     "duration": 0.008698,
     "end_time": "2022-06-29T17:55:25.222695",
     "exception": false,
     "start_time": "2022-06-29T17:55:25.213997",
     "status": "completed"
    },
    "tags": []
   },
   "source": [
    "# Import libraries"
   ]
  },
  {
   "cell_type": "code",
   "execution_count": null,
   "id": "685465a2",
   "metadata": {
    "ExecuteTime": {
     "end_time": "2023-11-28T21:58:50.515297Z",
     "start_time": "2023-11-28T21:58:48.430301Z"
    },
    "papermill": {
     "duration": 2.483532,
     "end_time": "2022-06-29T17:55:27.733029",
     "exception": false,
     "start_time": "2022-06-29T17:55:25.249497",
     "status": "completed"
    },
    "tags": []
   },
   "outputs": [],
   "source": [
    "import torch\n",
    "from yolov5 import utils\n",
    "import torch\n",
    "from IPython import display\n",
    "from IPython.display import clear_output\n",
    "from pathlib import Path\n",
    "import yaml\n",
    "import matplotlib.pyplot as plt\n",
    "import matplotlib.image as mpimg\n",
    "import glob\n",
    "import io\n",
    "import os\n",
    "import cv2\n",
    "import json\n",
    "import shutil\n",
    "import numpy as np\n",
    "from sklearn.model_selection import train_test_split\n",
    "\n",
    "%matplotlib inline"
   ]
  },
  {
   "cell_type": "markdown",
   "id": "652c311b",
   "metadata": {
    "papermill": {
     "duration": 0.006901,
     "end_time": "2022-06-29T17:55:10.000517",
     "exception": false,
     "start_time": "2022-06-29T17:55:09.993616",
     "status": "completed"
    },
    "tags": []
   },
   "source": [
    "# Initialize Static Hyperparameters."
   ]
  },
  {
   "cell_type": "code",
   "execution_count": null,
   "id": "957cd407",
   "metadata": {
    "ExecuteTime": {
     "end_time": "2023-11-28T21:58:54.329450Z",
     "start_time": "2023-11-28T21:58:54.323849Z"
    },
    "papermill": {
     "duration": 0.022968,
     "end_time": "2022-06-29T17:55:10.045179",
     "exception": false,
     "start_time": "2022-06-29T17:55:10.022211",
     "status": "completed"
    },
    "tags": []
   },
   "outputs": [],
   "source": [
    "PROJECT_NAME = \"yolov5_train\"\n",
    "BASE_MODEL = \"yolov5m6.pt\"\n",
    "TRAIN_BATCH = 32\n",
    "TRAIN_EPOCHS = 200\n",
    "VAL_BATCH = 64"
   ]
  },
  {
   "cell_type": "code",
   "execution_count": null,
   "id": "7485c4ca",
   "metadata": {
    "ExecuteTime": {
     "end_time": "2023-11-26T20:10:38.145924Z",
     "start_time": "2023-11-26T20:10:38.143837Z"
    },
    "papermill": {
     "duration": 0.016207,
     "end_time": "2022-06-29T17:55:27.776130",
     "exception": false,
     "start_time": "2022-06-29T17:55:27.759923",
     "status": "completed"
    },
    "tags": []
   },
   "outputs": [],
   "source": [
    "IMAGES_PATH = \"yolov5/data/train/images\"\n",
    "LABELS_PATH = \"yolov5/data/train/labels\"\n",
    "NOTES_PATH = \"yolov5/data/data.json\""
   ]
  },
  {
   "cell_type": "markdown",
   "id": "c2ad3dad",
   "metadata": {
    "papermill": {
     "duration": 0.008801,
     "end_time": "2022-06-29T17:55:37.203164",
     "exception": false,
     "start_time": "2022-06-29T17:55:37.194363",
     "status": "completed"
    },
    "tags": []
   },
   "source": [
    "# Train."
   ]
  },
  {
   "cell_type": "code",
   "execution_count": null,
   "id": "8ba25824",
   "metadata": {
    "ExecuteTime": {
     "end_time": "2023-11-26T20:10:52.270633Z",
     "start_time": "2023-11-26T20:10:52.141920Z"
    },
    "papermill": {
     "duration": 0.686094,
     "end_time": "2022-06-29T17:55:37.898146",
     "exception": false,
     "start_time": "2022-06-29T17:55:37.212052",
     "status": "completed"
    },
    "tags": []
   },
   "outputs": [],
   "source": [
    "# Delete old results if exists\n",
    "wildcard = f\"{PROJECT_NAME}/feature_extraction*\"\n",
    "! rm -r $wildcard"
   ]
  },
  {
   "cell_type": "code",
   "execution_count": null,
   "id": "e3d1c54c",
   "metadata": {
    "ExecuteTime": {
     "end_time": "2023-11-26T20:37:08.790349Z",
     "start_time": "2023-11-26T20:10:53.307881Z"
    },
    "papermill": {
     "duration": 3044.885428,
     "end_time": "2022-06-29T18:46:22.792944",
     "exception": false,
     "start_time": "2022-06-29T17:55:37.907516",
     "status": "completed"
    },
    "scrolled": true,
    "tags": []
   },
   "outputs": [],
   "source": [
    "! python3.10 yolov5/train.py --batch $TRAIN_BATCH --epochs $TRAIN_EPOCHS --data \"data.yaml\" --weights $BASE_MODEL --project $PROJECT_NAME --name 'feature_extraction' --cache --freeze 12"
   ]
  },
  {
   "cell_type": "markdown",
   "id": "78d09113",
   "metadata": {
    "papermill": {
     "duration": 0.324157,
     "end_time": "2022-06-29T18:46:23.388631",
     "exception": false,
     "start_time": "2022-06-29T18:46:23.064474",
     "status": "completed"
    },
    "tags": []
   },
   "source": [
    "# Validation"
   ]
  },
  {
   "cell_type": "code",
   "execution_count": null,
   "id": "f2bd7fa5",
   "metadata": {
    "ExecuteTime": {
     "end_time": "2023-11-26T22:16:41.685273Z",
     "start_time": "2023-11-26T22:16:41.554012Z"
    },
    "papermill": {
     "duration": 1.017769,
     "end_time": "2022-06-29T18:46:24.675605",
     "exception": false,
     "start_time": "2022-06-29T18:46:23.657836",
     "status": "completed"
    },
    "tags": []
   },
   "outputs": [],
   "source": [
    "# Delete old results\n",
    "wildcard = f\"{PROJECT_NAME}/validation_on_test_data*\"\n",
    "! rm -r $wildcard"
   ]
  },
  {
   "cell_type": "code",
   "execution_count": null,
   "id": "2f708f58",
   "metadata": {
    "ExecuteTime": {
     "end_time": "2023-11-26T22:17:08.486117Z",
     "start_time": "2023-11-26T22:16:43.852813Z"
    },
    "papermill": {
     "duration": 17.556236,
     "end_time": "2022-06-29T18:46:42.500659",
     "exception": false,
     "start_time": "2022-06-29T18:46:24.944423",
     "status": "completed"
    },
    "tags": []
   },
   "outputs": [],
   "source": [
    "WEIGHTS_BEST = f\"{PROJECT_NAME}/feature_extraction/weights/best.pt\"\n",
    "! python3.10 yolov5/val.py --weights $WEIGHTS_BEST --batch $VAL_BATCH --data 'data.yaml' --task test --project $PROJECT_NAME --name 'validation_on_test_data' --augment"
   ]
  },
  {
   "cell_type": "markdown",
   "id": "b37225ae",
   "metadata": {
    "papermill": {
     "duration": 0.267085,
     "end_time": "2022-06-29T18:46:43.033553",
     "exception": false,
     "start_time": "2022-06-29T18:46:42.766468",
     "status": "completed"
    },
    "tags": []
   },
   "source": [
    "# Test."
   ]
  },
  {
   "cell_type": "code",
   "execution_count": null,
   "id": "96f1c249",
   "metadata": {
    "ExecuteTime": {
     "end_time": "2023-11-26T23:19:23.508768Z",
     "start_time": "2023-11-26T23:19:23.388078Z"
    },
    "papermill": {
     "duration": 1.188124,
     "end_time": "2022-06-29T18:46:44.489858",
     "exception": false,
     "start_time": "2022-06-29T18:46:43.301734",
     "status": "completed"
    },
    "tags": []
   },
   "outputs": [],
   "source": [
    "# Delete old results\n",
    "wildcard = f\"{PROJECT_NAME}/detect_test*\"\n",
    "! rm -r $wildcard"
   ]
  },
  {
   "cell_type": "code",
   "execution_count": null,
   "id": "c8f3c434",
   "metadata": {
    "ExecuteTime": {
     "end_time": "2023-11-26T23:19:43.738022Z",
     "start_time": "2023-11-26T23:19:25.106638Z"
    },
    "papermill": {
     "duration": 11.349649,
     "end_time": "2022-06-29T18:46:56.118947",
     "exception": false,
     "start_time": "2022-06-29T18:46:44.769298",
     "status": "completed"
    },
    "tags": []
   },
   "outputs": [],
   "source": [
    "! python3.10 yolov5/detect.py --weights $WEIGHTS_BEST --conf 0.6 --source 'yolov5/data/test/images' --project $PROJECT_NAME --name 'detect_test' --augment --line=3"
   ]
  },
  {
   "cell_type": "markdown",
   "id": "980b85c0",
   "metadata": {},
   "source": [
    "# Inference"
   ]
  },
  {
   "cell_type": "code",
   "execution_count": null,
   "id": "9cf4a5e3",
   "metadata": {
    "ExecuteTime": {
     "end_time": "2023-11-28T22:02:51.873307Z",
     "start_time": "2023-11-28T22:02:24.117645Z"
    },
    "scrolled": true
   },
   "outputs": [],
   "source": [
    "WEIGHTS_BEST = f\"{PROJECT_NAME}/feature_extraction/weights/best.pt\"\n",
    "!python3.10 yolov5/detect.py --source 'yolov5/data/test/images' --weights $WEIGHTS_BEST --conf-thres 0.4"
   ]
  },
  {
   "cell_type": "code",
   "execution_count": null,
   "id": "55671666",
   "metadata": {
    "ExecuteTime": {
     "end_time": "2023-11-26T23:20:35.834782Z",
     "start_time": "2023-11-26T23:20:35.832075Z"
    },
    "papermill": {
     "duration": 0.281718,
     "end_time": "2022-06-29T18:46:56.678286",
     "exception": false,
     "start_time": "2022-06-29T18:46:56.396568",
     "status": "completed"
    },
    "tags": []
   },
   "outputs": [],
   "source": [
    "def read_images(dirpath):\n",
    "    images = []\n",
    "    for img_filename in os.listdir(dirpath):\n",
    "        if img_filename.endswith((\".jpg\", \".png\")):\n",
    "            images.append(mpimg.imread(f\"{dirpath}/{img_filename}\"))\n",
    "    return images"
   ]
  },
  {
   "cell_type": "code",
   "execution_count": null,
   "id": "f78cc86a",
   "metadata": {
    "ExecuteTime": {
     "end_time": "2023-11-26T23:20:37.164332Z",
     "start_time": "2023-11-26T23:20:37.152473Z"
    },
    "papermill": {
     "duration": 0.343036,
     "end_time": "2022-06-29T18:46:57.294323",
     "exception": false,
     "start_time": "2022-06-29T18:46:56.951287",
     "status": "completed"
    },
    "tags": []
   },
   "outputs": [],
   "source": [
    "def label_test_images(test_images_path, test_labels_path, classes):\n",
    "    test_images = os.listdir(test_images_path)\n",
    "    labeled_images = []\n",
    "\n",
    "    for idx, test_image_filename in enumerate(test_images):\n",
    "        image = mpimg.imread(f\"{test_images_path}/{test_image_filename}\")\n",
    "\n",
    "        x_shape, y_shape = image.shape[1], image.shape[0]\n",
    "\n",
    "        test_label_filename = f\"{test_image_filename[:-4]}.txt\"\n",
    "\n",
    "        with open(f\"{test_labels_path}/{test_label_filename}\", \"r\") as f:\n",
    "            lines = f.readlines()\n",
    "\n",
    "            for line in lines:\n",
    "                # Parse line\n",
    "                box = line.split()\n",
    "                class_idx = box[0]\n",
    "\n",
    "                class_name = names[int(class_idx)]\n",
    "                x_center, y_center, box_w, box_h = int(float(box[1])*x_shape), int(float(box[2])*y_shape), int(float(box[3])*x_shape), int(float(box[3])*y_shape)\n",
    "                x1, y1, x2, y2 = x_center-int(box_w/2), y_center-int(box_h/2), x_center+int(box_w/2), y_center+int(box_h/2)\n",
    "\n",
    "                cv2.rectangle(image, (x1, y1), (x2, y2), (0, 0, 255), 3)\n",
    "                cv2.putText(image, class_name, (x1, y1), cv2.FONT_HERSHEY_SIMPLEX, 0.9, (0, 0, 255), 3)\n",
    "\n",
    "        labeled_images.append(image)\n",
    "\n",
    "    return labeled_images\n"
   ]
  },
  {
   "cell_type": "code",
   "execution_count": null,
   "id": "23307a59",
   "metadata": {
    "ExecuteTime": {
     "end_time": "2023-11-26T23:20:41.674954Z",
     "start_time": "2023-11-26T23:20:41.670096Z"
    }
   },
   "outputs": [],
   "source": [
    "yaml_file_path = \"yolov5/data/data.yaml\"\n",
    "names = []\n",
    "with open(os.path.join(os.getcwd(), yaml_file_path), 'r') as file:\n",
    "    try:\n",
    "        data = yaml.safe_load(file)\n",
    "        names.extend(data[\"names\"])\n",
    "        print(\"YAML file content:\", data)\n",
    "    except yaml.YAMLError as e:\n",
    "        print(\"Error reading YAML file:\", e)\n",
    "        \n",
    "print(\"names\", names)"
   ]
  },
  {
   "cell_type": "code",
   "execution_count": null,
   "id": "d878337e",
   "metadata": {
    "ExecuteTime": {
     "end_time": "2023-11-26T23:20:49.245990Z",
     "start_time": "2023-11-26T23:20:43.756315Z"
    },
    "papermill": {
     "duration": 1.337203,
     "end_time": "2022-06-29T18:46:58.907998",
     "exception": false,
     "start_time": "2022-06-29T18:46:57.570795",
     "status": "completed"
    },
    "tags": []
   },
   "outputs": [],
   "source": [
    "detect_path = f\"{PROJECT_NAME}/detect_test\"\n",
    "test_images_path = f\"yolov5/data/test/images\"\n",
    "test_labels_path = f\"yolov5/data/test/labels\"\n",
    "\n",
    "detected_images = read_images(detect_path)\n",
    "test_labeled_images = label_test_images(test_images_path, test_labels_path, classes=names)\n",
    "\n",
    "stacked_images = [np.hstack([detected_images[idx], test_labeled_images[idx]]) for idx in range(len(detected_images))]"
   ]
  },
  {
   "cell_type": "code",
   "execution_count": null,
   "id": "a31a6c9b",
   "metadata": {
    "ExecuteTime": {
     "end_time": "2023-11-26T23:21:38.361765Z",
     "start_time": "2023-11-26T23:20:50.123820Z"
    },
    "papermill": {
     "duration": 11.682689,
     "end_time": "2022-06-29T18:47:10.880221",
     "exception": false,
     "start_time": "2022-06-29T18:46:59.197532",
     "status": "completed"
    },
    "scrolled": true,
    "tags": []
   },
   "outputs": [],
   "source": [
    "for image in stacked_images:\n",
    "    fig = plt.figure(figsize=(40, 15))\n",
    "    ax1 = fig.add_subplot(2,2,1)\n",
    "    ax1.imshow(image)"
   ]
  },
  {
   "cell_type": "markdown",
   "id": "89f1e89d",
   "metadata": {
    "papermill": {
     "duration": 0.358482,
     "end_time": "2022-06-29T18:47:11.591433",
     "exception": false,
     "start_time": "2022-06-29T18:47:11.232951",
     "status": "completed"
    },
    "tags": []
   },
   "source": [
    "# Save model"
   ]
  },
  {
   "cell_type": "markdown",
   "id": "7bd384eb",
   "metadata": {
    "papermill": {
     "duration": 0.353186,
     "end_time": "2022-06-29T18:47:12.341083",
     "exception": false,
     "start_time": "2022-06-29T18:47:11.987897",
     "status": "completed"
    },
    "tags": []
   },
   "source": [
    ">  - **PROJECT_FOLDER{yolov5_train}/feature_extraction/weights/best.pt**\n",
    "\n",
    ">  - **best.pt** will be used to load it in your project to predict."
   ]
  }
 ],
 "metadata": {
  "hide_input": false,
  "kernelspec": {
   "display_name": "Python 3 (ipykernel)",
   "language": "python",
   "name": "python3"
  },
  "language_info": {
   "codemirror_mode": {
    "name": "ipython",
    "version": 3
   },
   "file_extension": ".py",
   "mimetype": "text/x-python",
   "name": "python",
   "nbconvert_exporter": "python",
   "pygments_lexer": "ipython3",
   "version": "3.10.12"
  },
  "latex_envs": {
   "LaTeX_envs_menu_present": true,
   "autoclose": false,
   "autocomplete": true,
   "bibliofile": "biblio.bib",
   "cite_by": "apalike",
   "current_citInitial": 1,
   "eqLabelWithNumbers": true,
   "eqNumInitial": 1,
   "hotkeys": {
    "equation": "Ctrl-E",
    "itemize": "Ctrl-I"
   },
   "labels_anchors": false,
   "latex_user_defs": false,
   "report_style_numbering": false,
   "user_envs_cfg": false
  },
  "nbTranslate": {
   "displayLangs": [
    "*"
   ],
   "hotkey": "alt-t",
   "langInMainMenu": true,
   "sourceLang": "en",
   "targetLang": "fr",
   "useGoogleTranslate": true
  },
  "papermill": {
   "default_parameters": {},
   "duration": 3131.508917,
   "end_time": "2022-06-29T18:47:13.519249",
   "environment_variables": {},
   "exception": null,
   "input_path": "__notebook__.ipynb",
   "output_path": "__notebook__.ipynb",
   "parameters": {},
   "start_time": "2022-06-29T17:55:02.010332",
   "version": "2.3.4"
  },
  "toc": {
   "base_numbering": 1,
   "nav_menu": {},
   "number_sections": true,
   "sideBar": true,
   "skip_h1_title": false,
   "title_cell": "Table of Contents",
   "title_sidebar": "Contents",
   "toc_cell": false,
   "toc_position": {},
   "toc_section_display": true,
   "toc_window_display": false
  }
 },
 "nbformat": 4,
 "nbformat_minor": 5
}
