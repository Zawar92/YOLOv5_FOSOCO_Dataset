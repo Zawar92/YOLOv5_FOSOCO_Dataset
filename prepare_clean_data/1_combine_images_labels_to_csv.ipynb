{
 "cells": [
  {
   "cell_type": "code",
   "execution_count": 1,
   "id": "6c71e647-fb76-4230-a2c6-bf3f751150d9",
   "metadata": {},
   "outputs": [],
   "source": [
    "import pandas as pd\n",
    "import os\n",
    "import json"
   ]
  },
  {
   "cell_type": "code",
   "execution_count": 2,
   "id": "edaa3bec-9e7b-450c-bedf-7d3e047859a8",
   "metadata": {},
   "outputs": [],
   "source": [
    "def get_directories(folder_path):\n",
    "    directories = [d for d in os.listdir(folder_path) if os.path.isdir(os.path.join(folder_path, d))]\n",
    "    return directories"
   ]
  },
  {
   "cell_type": "code",
   "execution_count": 3,
   "id": "6b9791a0-f3f2-4838-9fc6-99091a5d360f",
   "metadata": {},
   "outputs": [],
   "source": [
    "folder_path = './fsoco_bounding_boxes_train'\n",
    "directories = get_directories(folder_path)"
   ]
  },
  {
   "cell_type": "code",
   "execution_count": 4,
   "id": "5376f070-3ea0-41f5-93ab-1b789d04e47b",
   "metadata": {},
   "outputs": [],
   "source": [
    "#print(directories)"
   ]
  },
  {
   "cell_type": "code",
   "execution_count": 5,
   "id": "a98696fe-3e2d-4f8d-ac57-35f7857d34ee",
   "metadata": {},
   "outputs": [],
   "source": [
    "def get_labels_path(directories):\n",
    "    labels_path_list = []\n",
    "    for dir in directories:\n",
    "        labels_path = os.path.join(folder_path, dir + \"/ann\")\n",
    "        json_files = [os.path.join(labels_path, f) for f in os.listdir(labels_path) if f.endswith('.json')]\n",
    "        # print(dir, \"Len:\", len(json_files))\n",
    "        labels_path_list.extend(json_files)\n",
    "    # print(\"Total Length:\", len(labels_path_list))\n",
    "    return labels_path_list"
   ]
  },
  {
   "cell_type": "code",
   "execution_count": 6,
   "id": "65cc8529-54ca-4142-bc14-06f8b8e4e5ec",
   "metadata": {},
   "outputs": [
    {
     "name": "stdout",
     "output_type": "stream",
     "text": [
      "length 11572\n"
     ]
    }
   ],
   "source": [
    "JSON_LABELS_PATH = get_labels_path(directories)\n",
    "print(\"length\", len(JSON_LABELS_PATH))"
   ]
  },
  {
   "cell_type": "code",
   "execution_count": 7,
   "id": "3a99b6a0-1b33-4efa-860c-cbf247b5c007",
   "metadata": {},
   "outputs": [],
   "source": [
    "def read_labels_data(json_files):\n",
    "    data = []\n",
    "    for json_file in json_files:\n",
    "        # new_pair = {\"path_to_file\" : str(json_file)}\n",
    "        with open(json_file, 'r') as f:\n",
    "            json_data = json.load(f)\n",
    "            # objects_collected = json_data[\"objects\"]\n",
    "            objects_collected = [d.update({\"path_to_file\" : str(json_file), \"img_height\": json_data[\"size\"][\"height\"], \"img_width\": json_data[\"size\"][\"width\"]}) or d for d in json_data[\"objects\"]]\n",
    "            # objects_collected.append(new_pair)\n",
    "            data.append(objects_collected)\n",
    "    return data"
   ]
  },
  {
   "cell_type": "code",
   "execution_count": 8,
   "id": "42ce0c3f-3cb1-4c4a-885f-69318f88bc18",
   "metadata": {},
   "outputs": [],
   "source": [
    "labels_json_objects = read_labels_data(JSON_LABELS_PATH)"
   ]
  },
  {
   "cell_type": "code",
   "execution_count": 9,
   "id": "25d7ceaf-3216-4333-b142-7fbf71f9709e",
   "metadata": {},
   "outputs": [
    {
     "data": {
      "text/plain": [
       "[{'id': 920614137,\n",
       "  'classId': 9993511,\n",
       "  'description': '',\n",
       "  'geometryType': 'rectangle',\n",
       "  'labelerLogin': 'vniclas',\n",
       "  'createdAt': '2022-04-20T07:30:56.238Z',\n",
       "  'updatedAt': '2022-04-20T07:30:56.238Z',\n",
       "  'tags': [],\n",
       "  'classTitle': 'blue_cone',\n",
       "  'points': {'exterior': [[602, 1039], [728, 1189]], 'interior': []},\n",
       "  'path_to_file': './fsoco_bounding_boxes_train/pwrrt/ann/pwrrt_00056.png.json',\n",
       "  'img_height': 1360,\n",
       "  'img_width': 2200},\n",
       " {'id': 920614136,\n",
       "  'classId': 9993511,\n",
       "  'description': '',\n",
       "  'geometryType': 'rectangle',\n",
       "  'labelerLogin': 'vniclas',\n",
       "  'createdAt': '2022-04-20T07:30:56.238Z',\n",
       "  'updatedAt': '2022-04-20T07:30:56.238Z',\n",
       "  'tags': [],\n",
       "  'classTitle': 'blue_cone',\n",
       "  'points': {'exterior': [[728, 935], [800, 1029]], 'interior': []},\n",
       "  'path_to_file': './fsoco_bounding_boxes_train/pwrrt/ann/pwrrt_00056.png.json',\n",
       "  'img_height': 1360,\n",
       "  'img_width': 2200},\n",
       " {'id': 920614135,\n",
       "  'classId': 9993511,\n",
       "  'description': '',\n",
       "  'geometryType': 'rectangle',\n",
       "  'labelerLogin': 'vniclas',\n",
       "  'createdAt': '2022-04-20T07:30:56.238Z',\n",
       "  'updatedAt': '2022-04-20T07:30:56.238Z',\n",
       "  'tags': [],\n",
       "  'classTitle': 'blue_cone',\n",
       "  'points': {'exterior': [[796, 876], [840, 936]], 'interior': []},\n",
       "  'path_to_file': './fsoco_bounding_boxes_train/pwrrt/ann/pwrrt_00056.png.json',\n",
       "  'img_height': 1360,\n",
       "  'img_width': 2200},\n",
       " {'id': 920614134,\n",
       "  'classId': 9993511,\n",
       "  'description': '',\n",
       "  'geometryType': 'rectangle',\n",
       "  'labelerLogin': 'vniclas',\n",
       "  'createdAt': '2022-04-20T07:30:56.238Z',\n",
       "  'updatedAt': '2022-04-20T07:30:56.238Z',\n",
       "  'tags': [{'id': 138455265,\n",
       "    'tagId': 30143182,\n",
       "    'name': 'truncated',\n",
       "    'value': None,\n",
       "    'labelerLogin': 'vniclas',\n",
       "    'createdAt': '2022-04-20T07:30:56.238Z',\n",
       "    'updatedAt': '2022-04-20T07:30:56.238Z'}],\n",
       "  'classTitle': 'blue_cone',\n",
       "  'points': {'exterior': [[806, 848], [840, 892]], 'interior': []},\n",
       "  'path_to_file': './fsoco_bounding_boxes_train/pwrrt/ann/pwrrt_00056.png.json',\n",
       "  'img_height': 1360,\n",
       "  'img_width': 2200},\n",
       " {'id': 920614133,\n",
       "  'classId': 9993511,\n",
       "  'description': '',\n",
       "  'geometryType': 'rectangle',\n",
       "  'labelerLogin': 'vniclas',\n",
       "  'createdAt': '2022-04-20T07:30:56.238Z',\n",
       "  'updatedAt': '2022-04-20T07:30:56.238Z',\n",
       "  'tags': [],\n",
       "  'classTitle': 'blue_cone',\n",
       "  'points': {'exterior': [[833, 834], [859, 874]], 'interior': []},\n",
       "  'path_to_file': './fsoco_bounding_boxes_train/pwrrt/ann/pwrrt_00056.png.json',\n",
       "  'img_height': 1360,\n",
       "  'img_width': 2200},\n",
       " {'id': 920614132,\n",
       "  'classId': 9993511,\n",
       "  'description': '',\n",
       "  'geometryType': 'rectangle',\n",
       "  'labelerLogin': 'vniclas',\n",
       "  'createdAt': '2022-04-20T07:30:56.238Z',\n",
       "  'updatedAt': '2022-04-20T07:30:56.238Z',\n",
       "  'tags': [],\n",
       "  'classTitle': 'blue_cone',\n",
       "  'points': {'exterior': [[975, 832], [1003, 870]], 'interior': []},\n",
       "  'path_to_file': './fsoco_bounding_boxes_train/pwrrt/ann/pwrrt_00056.png.json',\n",
       "  'img_height': 1360,\n",
       "  'img_width': 2200},\n",
       " {'id': 920614131,\n",
       "  'classId': 9993511,\n",
       "  'description': '',\n",
       "  'geometryType': 'rectangle',\n",
       "  'labelerLogin': 'vniclas',\n",
       "  'createdAt': '2022-04-20T07:30:56.238Z',\n",
       "  'updatedAt': '2022-04-20T07:30:56.238Z',\n",
       "  'tags': [],\n",
       "  'classTitle': 'blue_cone',\n",
       "  'points': {'exterior': [[1124, 828], [1152, 866]], 'interior': []},\n",
       "  'path_to_file': './fsoco_bounding_boxes_train/pwrrt/ann/pwrrt_00056.png.json',\n",
       "  'img_height': 1360,\n",
       "  'img_width': 2200},\n",
       " {'id': 920614130,\n",
       "  'classId': 9993511,\n",
       "  'description': '',\n",
       "  'geometryType': 'rectangle',\n",
       "  'labelerLogin': 'vniclas',\n",
       "  'createdAt': '2022-04-20T07:30:56.238Z',\n",
       "  'updatedAt': '2022-04-20T07:30:56.238Z',\n",
       "  'tags': [],\n",
       "  'classTitle': 'blue_cone',\n",
       "  'points': {'exterior': [[1160, 842], [1192, 886]], 'interior': []},\n",
       "  'path_to_file': './fsoco_bounding_boxes_train/pwrrt/ann/pwrrt_00056.png.json',\n",
       "  'img_height': 1360,\n",
       "  'img_width': 2200},\n",
       " {'id': 920614129,\n",
       "  'classId': 9993511,\n",
       "  'description': '',\n",
       "  'geometryType': 'rectangle',\n",
       "  'labelerLogin': 'vniclas',\n",
       "  'createdAt': '2022-04-20T07:30:56.238Z',\n",
       "  'updatedAt': '2022-04-20T07:30:56.238Z',\n",
       "  'tags': [],\n",
       "  'classTitle': 'blue_cone',\n",
       "  'points': {'exterior': [[1228, 866], [1268, 920]], 'interior': []},\n",
       "  'path_to_file': './fsoco_bounding_boxes_train/pwrrt/ann/pwrrt_00056.png.json',\n",
       "  'img_height': 1360,\n",
       "  'img_width': 2200},\n",
       " {'id': 920614128,\n",
       "  'classId': 9993511,\n",
       "  'description': '',\n",
       "  'geometryType': 'rectangle',\n",
       "  'labelerLogin': 'vniclas',\n",
       "  'createdAt': '2022-04-20T07:30:56.238Z',\n",
       "  'updatedAt': '2022-04-20T07:30:56.238Z',\n",
       "  'tags': [],\n",
       "  'classTitle': 'blue_cone',\n",
       "  'points': {'exterior': [[1335, 899], [1387, 971]], 'interior': []},\n",
       "  'path_to_file': './fsoco_bounding_boxes_train/pwrrt/ann/pwrrt_00056.png.json',\n",
       "  'img_height': 1360,\n",
       "  'img_width': 2200},\n",
       " {'id': 920614127,\n",
       "  'classId': 9993511,\n",
       "  'description': '',\n",
       "  'geometryType': 'rectangle',\n",
       "  'labelerLogin': 'vniclas',\n",
       "  'createdAt': '2022-04-20T07:30:56.238Z',\n",
       "  'updatedAt': '2022-04-20T07:30:56.238Z',\n",
       "  'tags': [],\n",
       "  'classTitle': 'blue_cone',\n",
       "  'points': {'exterior': [[1422, 950], [1500, 1050]], 'interior': []},\n",
       "  'path_to_file': './fsoco_bounding_boxes_train/pwrrt/ann/pwrrt_00056.png.json',\n",
       "  'img_height': 1360,\n",
       "  'img_width': 2200},\n",
       " {'id': 920614126,\n",
       "  'classId': 9993511,\n",
       "  'description': '',\n",
       "  'geometryType': 'rectangle',\n",
       "  'labelerLogin': 'vniclas',\n",
       "  'createdAt': '2022-04-20T07:30:56.238Z',\n",
       "  'updatedAt': '2022-04-20T07:30:56.238Z',\n",
       "  'tags': [],\n",
       "  'classTitle': 'blue_cone',\n",
       "  'points': {'exterior': [[1574, 1030], [1702, 1170]], 'interior': []},\n",
       "  'path_to_file': './fsoco_bounding_boxes_train/pwrrt/ann/pwrrt_00056.png.json',\n",
       "  'img_height': 1360,\n",
       "  'img_width': 2200},\n",
       " {'id': 920614125,\n",
       "  'classId': 9993513,\n",
       "  'description': '',\n",
       "  'geometryType': 'rectangle',\n",
       "  'labelerLogin': 'vniclas',\n",
       "  'createdAt': '2022-04-20T07:30:56.238Z',\n",
       "  'updatedAt': '2022-04-20T07:30:56.238Z',\n",
       "  'tags': [],\n",
       "  'classTitle': 'large_orange_cone',\n",
       "  'points': {'exterior': [[750, 836], [802, 924]], 'interior': []},\n",
       "  'path_to_file': './fsoco_bounding_boxes_train/pwrrt/ann/pwrrt_00056.png.json',\n",
       "  'img_height': 1360,\n",
       "  'img_width': 2200},\n",
       " {'id': 920614124,\n",
       "  'classId': 9993513,\n",
       "  'description': '',\n",
       "  'geometryType': 'rectangle',\n",
       "  'labelerLogin': 'vniclas',\n",
       "  'createdAt': '2022-04-20T07:30:56.238Z',\n",
       "  'updatedAt': '2022-04-20T07:30:56.238Z',\n",
       "  'tags': [],\n",
       "  'classTitle': 'large_orange_cone',\n",
       "  'points': {'exterior': [[858, 808], [892, 868]], 'interior': []},\n",
       "  'path_to_file': './fsoco_bounding_boxes_train/pwrrt/ann/pwrrt_00056.png.json',\n",
       "  'img_height': 1360,\n",
       "  'img_width': 2200},\n",
       " {'id': 920614123,\n",
       "  'classId': 9993513,\n",
       "  'description': '',\n",
       "  'geometryType': 'rectangle',\n",
       "  'labelerLogin': 'vniclas',\n",
       "  'createdAt': '2022-04-20T07:30:56.238Z',\n",
       "  'updatedAt': '2022-04-20T07:30:56.238Z',\n",
       "  'tags': [],\n",
       "  'classTitle': 'large_orange_cone',\n",
       "  'points': {'exterior': [[1104, 808], [1132, 864]], 'interior': []},\n",
       "  'path_to_file': './fsoco_bounding_boxes_train/pwrrt/ann/pwrrt_00056.png.json',\n",
       "  'img_height': 1360,\n",
       "  'img_width': 2200},\n",
       " {'id': 920614122,\n",
       "  'classId': 9993513,\n",
       "  'description': '',\n",
       "  'geometryType': 'rectangle',\n",
       "  'labelerLogin': 'vniclas',\n",
       "  'createdAt': '2022-04-20T07:30:56.238Z',\n",
       "  'updatedAt': '2022-04-20T07:30:56.238Z',\n",
       "  'tags': [{'id': 138455264,\n",
       "    'tagId': 30143182,\n",
       "    'name': 'truncated',\n",
       "    'value': None,\n",
       "    'labelerLogin': 'vniclas',\n",
       "    'createdAt': '2022-04-20T07:30:56.238Z',\n",
       "    'updatedAt': '2022-04-20T07:30:56.238Z'}],\n",
       "  'classTitle': 'large_orange_cone',\n",
       "  'points': {'exterior': [[1230, 830], [1282, 914]], 'interior': []},\n",
       "  'path_to_file': './fsoco_bounding_boxes_train/pwrrt/ann/pwrrt_00056.png.json',\n",
       "  'img_height': 1360,\n",
       "  'img_width': 2200}]"
      ]
     },
     "execution_count": 9,
     "metadata": {},
     "output_type": "execute_result"
    }
   ],
   "source": [
    "labels_json_objects[0]"
   ]
  },
  {
   "cell_type": "code",
   "execution_count": 10,
   "id": "4ab2ff2d-f213-49c7-83fd-0562e5aa8c0e",
   "metadata": {},
   "outputs": [],
   "source": [
    "def get_required_objects(data_list):\n",
    "    data_collection = []\n",
    "    for items in data_list: \n",
    "        for obj in items:\n",
    "            data_collection.append([ obj[\"classTitle\"], obj[\"points\"][\"exterior\"][0][0], obj[\"points\"][\"exterior\"][0][1], obj[\"points\"][\"exterior\"][1][0], obj[\"points\"][\"exterior\"][1][1], obj[\"path_to_file\"], obj[\"img_height\"], obj[\"img_width\"] ])\n",
    "    return data_collection"
   ]
  },
  {
   "cell_type": "code",
   "execution_count": 11,
   "id": "5526da4e-c74c-403b-9346-f5fec236751d",
   "metadata": {},
   "outputs": [],
   "source": [
    "data = get_required_objects(labels_json_objects)"
   ]
  },
  {
   "cell_type": "code",
   "execution_count": 12,
   "id": "c1f1d3a9-dd77-47cf-9c25-8e2884df4c0f",
   "metadata": {},
   "outputs": [],
   "source": [
    "def replace_ann_with_img(path):\n",
    "    return path.replace('ann', 'img').replace('.json', '')"
   ]
  },
  {
   "cell_type": "markdown",
   "id": "3a6f4746-3fc0-4f50-bcd2-9c69fa1dcc7d",
   "metadata": {},
   "source": [
    "# Data Frame"
   ]
  },
  {
   "cell_type": "code",
   "execution_count": 13,
   "id": "af01038d-b48c-4c36-bb4b-dc1de840621d",
   "metadata": {},
   "outputs": [],
   "source": [
    "columns = ['name', 'box_x1', 'box_y1', 'box_x2', 'box_y2', 'path', 'height', 'width']\n",
    "df = pd.DataFrame(data, columns=columns)"
   ]
  },
  {
   "cell_type": "code",
   "execution_count": 14,
   "id": "70c12e1c-1525-4fba-bebb-2617e3bd732e",
   "metadata": {},
   "outputs": [
    {
     "name": "stdout",
     "output_type": "stream",
     "text": [
      "        name  box_x1  box_y1  box_x2  box_y2  \\\n",
      "0  blue_cone     602    1039     728    1189   \n",
      "1  blue_cone     728     935     800    1029   \n",
      "\n",
      "                                                path  height  width  \n",
      "0  ./fsoco_bounding_boxes_train/pwrrt/ann/pwrrt_0...    1360   2200  \n",
      "1  ./fsoco_bounding_boxes_train/pwrrt/ann/pwrrt_0...    1360   2200  \n",
      "Shape: (220862, 8)\n"
     ]
    }
   ],
   "source": [
    "print(df.head(2))\n",
    "print(\"Shape:\", df.shape)"
   ]
  },
  {
   "cell_type": "code",
   "execution_count": 15,
   "id": "f588290b-022e-4921-88d3-a0b3d657070a",
   "metadata": {},
   "outputs": [
    {
     "name": "stdout",
     "output_type": "stream",
     "text": [
      "['blue_cone' 'large_orange_cone' 'yellow_cone' 'orange_cone'\n",
      " 'unknown_cone']\n"
     ]
    }
   ],
   "source": [
    "print(df.name.unique())"
   ]
  },
  {
   "cell_type": "markdown",
   "id": "1cc54932-cd8c-4083-b68e-943fce9f29ff",
   "metadata": {},
   "source": [
    "### Transform"
   ]
  },
  {
   "cell_type": "code",
   "execution_count": 16,
   "id": "cb1e234a-6339-43ad-9ff7-048203894ae5",
   "metadata": {},
   "outputs": [],
   "source": [
    "df['name'] = df['name'].astype(\"string\")\n",
    "df['path'] = df['path'].astype(\"string\")"
   ]
  },
  {
   "cell_type": "code",
   "execution_count": 17,
   "id": "516c281d-4f2f-4326-9b2f-e4541ebb260a",
   "metadata": {},
   "outputs": [
    {
     "data": {
      "text/plain": [
       "name      string[python]\n",
       "box_x1             int64\n",
       "box_y1             int64\n",
       "box_x2             int64\n",
       "box_y2             int64\n",
       "path      string[python]\n",
       "height             int64\n",
       "width              int64\n",
       "dtype: object"
      ]
     },
     "execution_count": 17,
     "metadata": {},
     "output_type": "execute_result"
    }
   ],
   "source": [
    "df.dtypes"
   ]
  },
  {
   "cell_type": "code",
   "execution_count": 18,
   "id": "364438bb-fb29-4352-bd0c-dce0c50338b7",
   "metadata": {},
   "outputs": [
    {
     "data": {
      "text/html": [
       "<div>\n",
       "<style scoped>\n",
       "    .dataframe tbody tr th:only-of-type {\n",
       "        vertical-align: middle;\n",
       "    }\n",
       "\n",
       "    .dataframe tbody tr th {\n",
       "        vertical-align: top;\n",
       "    }\n",
       "\n",
       "    .dataframe thead th {\n",
       "        text-align: right;\n",
       "    }\n",
       "</style>\n",
       "<table border=\"1\" class=\"dataframe\">\n",
       "  <thead>\n",
       "    <tr style=\"text-align: right;\">\n",
       "      <th></th>\n",
       "      <th>name</th>\n",
       "      <th>box_x1</th>\n",
       "      <th>box_y1</th>\n",
       "      <th>box_x2</th>\n",
       "      <th>box_y2</th>\n",
       "      <th>path</th>\n",
       "      <th>height</th>\n",
       "      <th>width</th>\n",
       "    </tr>\n",
       "  </thead>\n",
       "  <tbody>\n",
       "    <tr>\n",
       "      <th>0</th>\n",
       "      <td>blue_cone</td>\n",
       "      <td>602</td>\n",
       "      <td>1039</td>\n",
       "      <td>728</td>\n",
       "      <td>1189</td>\n",
       "      <td>./fsoco_bounding_boxes_train/pwrrt/ann/pwrrt_0...</td>\n",
       "      <td>1360</td>\n",
       "      <td>2200</td>\n",
       "    </tr>\n",
       "    <tr>\n",
       "      <th>1</th>\n",
       "      <td>blue_cone</td>\n",
       "      <td>728</td>\n",
       "      <td>935</td>\n",
       "      <td>800</td>\n",
       "      <td>1029</td>\n",
       "      <td>./fsoco_bounding_boxes_train/pwrrt/ann/pwrrt_0...</td>\n",
       "      <td>1360</td>\n",
       "      <td>2200</td>\n",
       "    </tr>\n",
       "    <tr>\n",
       "      <th>2</th>\n",
       "      <td>blue_cone</td>\n",
       "      <td>796</td>\n",
       "      <td>876</td>\n",
       "      <td>840</td>\n",
       "      <td>936</td>\n",
       "      <td>./fsoco_bounding_boxes_train/pwrrt/ann/pwrrt_0...</td>\n",
       "      <td>1360</td>\n",
       "      <td>2200</td>\n",
       "    </tr>\n",
       "    <tr>\n",
       "      <th>3</th>\n",
       "      <td>blue_cone</td>\n",
       "      <td>806</td>\n",
       "      <td>848</td>\n",
       "      <td>840</td>\n",
       "      <td>892</td>\n",
       "      <td>./fsoco_bounding_boxes_train/pwrrt/ann/pwrrt_0...</td>\n",
       "      <td>1360</td>\n",
       "      <td>2200</td>\n",
       "    </tr>\n",
       "    <tr>\n",
       "      <th>4</th>\n",
       "      <td>blue_cone</td>\n",
       "      <td>833</td>\n",
       "      <td>834</td>\n",
       "      <td>859</td>\n",
       "      <td>874</td>\n",
       "      <td>./fsoco_bounding_boxes_train/pwrrt/ann/pwrrt_0...</td>\n",
       "      <td>1360</td>\n",
       "      <td>2200</td>\n",
       "    </tr>\n",
       "  </tbody>\n",
       "</table>\n",
       "</div>"
      ],
      "text/plain": [
       "        name  box_x1  box_y1  box_x2  box_y2  \\\n",
       "0  blue_cone     602    1039     728    1189   \n",
       "1  blue_cone     728     935     800    1029   \n",
       "2  blue_cone     796     876     840     936   \n",
       "3  blue_cone     806     848     840     892   \n",
       "4  blue_cone     833     834     859     874   \n",
       "\n",
       "                                                path  height  width  \n",
       "0  ./fsoco_bounding_boxes_train/pwrrt/ann/pwrrt_0...    1360   2200  \n",
       "1  ./fsoco_bounding_boxes_train/pwrrt/ann/pwrrt_0...    1360   2200  \n",
       "2  ./fsoco_bounding_boxes_train/pwrrt/ann/pwrrt_0...    1360   2200  \n",
       "3  ./fsoco_bounding_boxes_train/pwrrt/ann/pwrrt_0...    1360   2200  \n",
       "4  ./fsoco_bounding_boxes_train/pwrrt/ann/pwrrt_0...    1360   2200  "
      ]
     },
     "execution_count": 18,
     "metadata": {},
     "output_type": "execute_result"
    }
   ],
   "source": [
    "df.head(5)"
   ]
  },
  {
   "cell_type": "code",
   "execution_count": 19,
   "id": "4ed8b939-9255-4840-958a-675549189ce6",
   "metadata": {},
   "outputs": [
    {
     "data": {
      "text/plain": [
       "'./fsoco_bounding_boxes_train/pwrrt/ann/pwrrt_00056.png.json'"
      ]
     },
     "execution_count": 19,
     "metadata": {},
     "output_type": "execute_result"
    }
   ],
   "source": [
    "df.path[0]"
   ]
  },
  {
   "cell_type": "markdown",
   "id": "6d2f289a-3bff-4c2d-a070-ae91c950c917",
   "metadata": {},
   "source": [
    "## yellow_cone"
   ]
  },
  {
   "cell_type": "code",
   "execution_count": null,
   "id": "edabafb1-a1a0-4fb8-af18-0904ef8278cf",
   "metadata": {},
   "outputs": [],
   "source": [
    "yellow_cone_df = df[df['name'] == 'yellow_cone']\n",
    "yellow_cone_df[\"class_label\"] = 4\n",
    "yellow_cone_df['image_path'] = yellow_cone_df['path'].apply(replace_ann_with_img)"
   ]
  },
  {
   "cell_type": "code",
   "execution_count": null,
   "id": "65ee0b17-8db0-45ba-8328-10c8b0bf8bfe",
   "metadata": {},
   "outputs": [],
   "source": [
    "print(yellow_cone_df.name.unique())\n",
    "print(yellow_cone_df.describe(include='all').loc[\"count\"])"
   ]
  },
  {
   "cell_type": "markdown",
   "id": "c14bf5df-653a-4729-b276-260c6727edee",
   "metadata": {},
   "source": [
    "### blue_cone"
   ]
  },
  {
   "cell_type": "code",
   "execution_count": null,
   "id": "79976ce0-7657-4567-8df0-32eb841f52a5",
   "metadata": {},
   "outputs": [],
   "source": [
    "blue_cone_df = df[df['name'] == 'blue_cone']\n",
    "blue_cone_df[\"class_label\"] = 0\n",
    "blue_cone_df['image_path'] = blue_cone_df['path'].apply(replace_ann_with_img)"
   ]
  },
  {
   "cell_type": "code",
   "execution_count": null,
   "id": "22c9aa9e-2075-4705-8231-eb74b86e46d7",
   "metadata": {
    "scrolled": true
   },
   "outputs": [],
   "source": [
    "print(blue_cone_df.name.unique())\n",
    "print(blue_cone_df.describe(include='all').loc[\"count\"])"
   ]
  },
  {
   "cell_type": "markdown",
   "id": "ce4da08d-db8f-455e-824f-c8885f6614d4",
   "metadata": {},
   "source": [
    "### large_orange_cone"
   ]
  },
  {
   "cell_type": "code",
   "execution_count": null,
   "id": "f653f847-95ae-475b-9322-a5dfc4279a4e",
   "metadata": {},
   "outputs": [],
   "source": [
    "large_orange_cone_df = df[df['name'] == 'large_orange_cone']\n",
    "large_orange_cone_df[\"class_label\"] = 1\n",
    "large_orange_cone_df['image_path'] = large_orange_cone_df['path'].apply(replace_ann_with_img)"
   ]
  },
  {
   "cell_type": "code",
   "execution_count": null,
   "id": "4f329731-98b0-4950-b444-b0e7e44fa599",
   "metadata": {},
   "outputs": [],
   "source": [
    "print(large_orange_cone_df.name.unique())\n",
    "print(large_orange_cone_df.describe(include='all').loc[\"count\"])"
   ]
  },
  {
   "cell_type": "markdown",
   "id": "11b15afe-6e98-498d-8d5a-09b07b8c32a4",
   "metadata": {},
   "source": [
    "### orange_cone"
   ]
  },
  {
   "cell_type": "code",
   "execution_count": null,
   "id": "bcd487e2-08a7-4356-8bea-84784e8e09b8",
   "metadata": {},
   "outputs": [],
   "source": [
    "orange_cone_df = df[df['name'] == 'orange_cone']\n",
    "orange_cone_df[\"class_label\"] = 2\n",
    "orange_cone_df['image_path'] = orange_cone_df['path'].apply(replace_ann_with_img)"
   ]
  },
  {
   "cell_type": "code",
   "execution_count": null,
   "id": "c156e24d-9186-4153-ae96-63e0552d77ea",
   "metadata": {},
   "outputs": [],
   "source": [
    "print(orange_cone_df.name.unique())\n",
    "print(orange_cone_df.describe(include='all').loc[\"count\"])"
   ]
  },
  {
   "cell_type": "markdown",
   "id": "a59bd03b-1912-416d-b811-77bb110838df",
   "metadata": {},
   "source": [
    "### unknown_cone"
   ]
  },
  {
   "cell_type": "code",
   "execution_count": null,
   "id": "0e50c473-ddd1-4261-9761-4547371b4d58",
   "metadata": {},
   "outputs": [],
   "source": [
    "unknown_cone_df = df[df['name'] == 'unknown_cone']\n",
    "unknown_cone_df[\"class_label\"] = 3\n",
    "unknown_cone_df['image_path'] = unknown_cone_df['path'].apply(replace_ann_with_img)"
   ]
  },
  {
   "cell_type": "code",
   "execution_count": null,
   "id": "db35955a-ea53-4ca3-8df8-02da9ce275f1",
   "metadata": {},
   "outputs": [],
   "source": [
    "print(unknown_cone_df.name.unique())\n",
    "print(unknown_cone_df.describe(include='all').loc[\"count\"])"
   ]
  },
  {
   "cell_type": "markdown",
   "id": "4413d5cb-4b26-4ad7-b24d-02b9e1a47c73",
   "metadata": {},
   "source": [
    "#### Combine multiple df"
   ]
  },
  {
   "cell_type": "code",
   "execution_count": null,
   "id": "33a85f67-96a0-4a78-93c1-d3c16a31014f",
   "metadata": {},
   "outputs": [],
   "source": [
    "combined_df = pd.concat([blue_cone_df, large_orange_cone_df, orange_cone_df, unknown_cone_df, yellow_cone_df], ignore_index=True)"
   ]
  },
  {
   "cell_type": "code",
   "execution_count": null,
   "id": "ef6f8d8a-153c-4f2d-a64a-381f3a2d903a",
   "metadata": {},
   "outputs": [],
   "source": [
    "combined_df"
   ]
  },
  {
   "cell_type": "code",
   "execution_count": null,
   "id": "508c951c-6d78-495b-abaf-1c61e1ed388e",
   "metadata": {},
   "outputs": [],
   "source": [
    "combined_df.to_csv(\"combined.csv\", index=False)"
   ]
  },
  {
   "cell_type": "code",
   "execution_count": null,
   "id": "cc851d06-ae96-4a9c-a0ea-ff58b7248990",
   "metadata": {},
   "outputs": [],
   "source": []
  }
 ],
 "metadata": {
  "kernelspec": {
   "display_name": "Python 3 (ipykernel)",
   "language": "python",
   "name": "python3"
  },
  "language_info": {
   "codemirror_mode": {
    "name": "ipython",
    "version": 3
   },
   "file_extension": ".py",
   "mimetype": "text/x-python",
   "name": "python",
   "nbconvert_exporter": "python",
   "pygments_lexer": "ipython3",
   "version": "3.10.12"
  }
 },
 "nbformat": 4,
 "nbformat_minor": 5
}
