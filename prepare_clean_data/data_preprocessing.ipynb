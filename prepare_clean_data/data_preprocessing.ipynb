{
 "cells": [
  {
   "cell_type": "markdown",
   "metadata": {},
   "source": [
    "# Convert data to yolov5 Pytorch format\n",
    "\n",
    "> **1. Set path for your data that you want to prepare.**\n",
    "\n",
    "> **2. Break data in Train,test, validation data.**\n",
    "\n",
    "> **3. Move to respected folders.**\n",
    "\n",
    "> **4. Read .json file and prepare .yaml file accordingly.**"
   ]
  },
  {
   "cell_type": "code",
   "execution_count": 1,
   "metadata": {
    "ExecuteTime": {
     "end_time": "2023-11-26T00:39:05.372824Z",
     "start_time": "2023-11-26T00:39:05.350379Z"
    }
   },
   "outputs": [],
   "source": [
    "import os\n",
    "import json\n",
    "import yaml\n",
    "import shutil\n",
    "from tqdm import tqdm\n",
    "from sklearn.model_selection import train_test_split"
   ]
  },
  {
   "cell_type": "code",
   "execution_count": 2,
   "metadata": {},
   "outputs": [
    {
     "name": "stdout",
     "output_type": "stream",
     "text": [
      "Absolute Path: /home/zkhan1/YOLOv5_FOSOCO_Dataset/Yolov5/data\n"
     ]
    }
   ],
   "source": [
    "import os\n",
    "\n",
    "# Specify the relative path to the folder in another directory\n",
    "relative_path = \"../Yolov5/data\"\n",
    "\n",
    "# Get the absolute path\n",
    "absolute_path = os.path.abspath(relative_path)\n",
    "\n",
    "# Print the absolute path\n",
    "print(\"Absolute Path:\", absolute_path)"
   ]
  },
  {
   "cell_type": "code",
   "execution_count": 2,
   "metadata": {
    "ExecuteTime": {
     "end_time": "2023-11-26T00:35:05.630332Z",
     "start_time": "2023-11-26T00:35:05.624674Z"
    }
   },
   "outputs": [],
   "source": [
    "IMAGES_PATH = \"./data/images\"\n",
    "LABELS_PATH = \"./data/labels\""
   ]
  },
  {
   "cell_type": "code",
   "execution_count": 3,
   "metadata": {
    "ExecuteTime": {
     "end_time": "2023-11-26T00:35:05.780136Z",
     "start_time": "2023-11-26T00:35:05.746217Z"
    }
   },
   "outputs": [
    {
     "name": "stdout",
     "output_type": "stream",
     "text": [
      "train: 96055; valid: 13560; test: 3391; images: 113006; labels: 113006\n"
     ]
    }
   ],
   "source": [
    "# Images\n",
    "images = os.listdir(IMAGES_PATH)\n",
    "\n",
    "# Read labels\n",
    "labels = os.listdir(LABELS_PATH)\n",
    "\n",
    "# Split data\n",
    "train, test = train_test_split(labels, test_size=0.15, shuffle=True)\n",
    "valid, test = train_test_split(test, test_size=0.2)\n",
    "\n",
    "print(f\"train: {len(train)}; valid: {len(valid)}; test: {len(test)}; images: {len(images)}; labels: {len(labels)}\")"
   ]
  },
  {
   "cell_type": "code",
   "execution_count": null,
   "metadata": {
    "ExecuteTime": {
     "end_time": "2023-11-26T00:35:40.522082Z",
     "start_time": "2023-11-26T00:35:40.518851Z"
    }
   },
   "outputs": [],
   "source": [
    "os.makedirs(\"./data/test/images\")\n",
    "os.makedirs(\"./data/test/labels\")\n",
    "os.makedirs(\"./data/train/images\")\n",
    "os.makedirs(\"./data/train/labels\")\n",
    "os.makedirs(\"./data/valid/images\")\n",
    "os.makedirs(\"./data/valid/labels\")"
   ]
  },
  {
   "cell_type": "code",
   "execution_count": null,
   "metadata": {},
   "outputs": [],
   "source": [
    "def find_files_by_name(directory_path, target_name):\n",
    "    for filename in os.listdir(directory_path):\n",
    "        if os.path.isfile(os.path.join(directory_path, filename)):\n",
    "            base_name, _ = os.path.splitext(filename)\n",
    "            if base_name == target_name:\n",
    "                print(f\"File found: {filename}\")\n",
    "                if filename.split('.')[-1] == \"png\":\n",
    "                    return True, \"png\"\n",
    "                elif filename.split('.')[-1] == \"jpg\":\n",
    "                    return True, \"jpg\"\n",
    "                else:\n",
    "                    return False, filename"
   ]
  },
  {
   "cell_type": "code",
   "execution_count": null,
   "metadata": {
    "ExecuteTime": {
     "end_time": "2023-11-26T00:36:41.027159Z",
     "start_time": "2023-11-26T00:36:41.011288Z"
    },
    "scrolled": true
   },
   "outputs": [],
   "source": [
    "def move_files_to_dir(files, dirname):\n",
    "    for label_filename in tqdm(files):\n",
    "        print(label_filename)\n",
    "        if label_filename.endswith(\".txt\"): \n",
    "            check, extension = find_files_by_name(IMAGES_PATH, label_filename[:-4])\n",
    "            if check:\n",
    "                image_filename = f\"{label_filename[:-4]}.{extension}\"\n",
    "                # print(\"Source: \",f\"{IMAGES_PATH}/{image_filename}\")\n",
    "                # print(\"Destination: \",f\"{dirname}/images/{image_filename}\")\n",
    "                shutil.move(f\"{IMAGES_PATH}/{image_filename}\", f\"{dirname}/images/{image_filename}\")\n",
    "                shutil.move(f\"{LABELS_PATH}/{label_filename}\", f\"{dirname}/labels/{label_filename}\")\n",
    "            else:\n",
    "                print(f\"Irregular File found: {extension}\")\n",
    "        else:\n",
    "            print(\"File with wrong extension.\")\n",
    "\n",
    "# Move splits to folders\n",
    "move_files_to_dir(train, \"./data/train\")\n",
    "# move_files_to_dir(test, \"./data/test\")\n",
    "# move_files_to_dir(valid, \"./data/valid\")"
   ]
  },
  {
   "cell_type": "code",
   "execution_count": null,
   "metadata": {
    "ExecuteTime": {
     "end_time": "2023-11-26T00:38:41.107340Z",
     "start_time": "2023-11-26T00:38:41.102480Z"
    }
   },
   "outputs": [],
   "source": [
    "descr_darknet = json.load(open(NOTES_PATH))\n",
    "\n",
    "train_path = \"./data/train/images\"\n",
    "test_path = \"./data/test/images\"\n",
    "valid_path = \"./data/valid/images\"\n",
    "\n",
    "nc = len(descr_darknet[\"categories\"])\n",
    "names = [category for category in descr_darknet[\"categories\"]]\n",
    "\n",
    "print(\n",
    "    f\"train: {train_path}\\n\"\n",
    "    f\"test: {test_path}\\n\"\n",
    "    f\"val: {valid_path}\\n\\n\"\n",
    "    f\"nc: {nc}\\n\"\n",
    "    f\"names: {names}\",\n",
    ")"
   ]
  },
  {
   "cell_type": "code",
   "execution_count": null,
   "metadata": {
    "ExecuteTime": {
     "end_time": "2023-11-26T00:40:12.987628Z",
     "start_time": "2023-11-26T00:40:12.980818Z"
    }
   },
   "outputs": [],
   "source": [
    "with open(\"./data_testing/data.yaml\", \"w\") as file:\n",
    "    yaml.dump({\n",
    "        \"train\": train_path,\n",
    "        \"test\": test_path,\n",
    "        \"val\": valid_path,\n",
    "        \"nc\": nc,\n",
    "        \"names\": [f'{name}' for name in names]\n",
    "    }, stream=file, default_flow_style=None)"
   ]
  },
  {
   "cell_type": "code",
   "execution_count": null,
   "metadata": {},
   "outputs": [],
   "source": []
  }
 ],
 "metadata": {
  "hide_input": false,
  "kernelspec": {
   "display_name": "Python 3 (ipykernel)",
   "language": "python",
   "name": "python3"
  },
  "language_info": {
   "codemirror_mode": {
    "name": "ipython",
    "version": 3
   },
   "file_extension": ".py",
   "mimetype": "text/x-python",
   "name": "python",
   "nbconvert_exporter": "python",
   "pygments_lexer": "ipython3",
   "version": "3.10.12"
  },
  "latex_envs": {
   "LaTeX_envs_menu_present": true,
   "autoclose": false,
   "autocomplete": true,
   "bibliofile": "biblio.bib",
   "cite_by": "apalike",
   "current_citInitial": 1,
   "eqLabelWithNumbers": true,
   "eqNumInitial": 1,
   "hotkeys": {
    "equation": "Ctrl-E",
    "itemize": "Ctrl-I"
   },
   "labels_anchors": false,
   "latex_user_defs": false,
   "report_style_numbering": false,
   "user_envs_cfg": false
  },
  "nbTranslate": {
   "displayLangs": [
    "*"
   ],
   "hotkey": "alt-t",
   "langInMainMenu": true,
   "sourceLang": "en",
   "targetLang": "fr",
   "useGoogleTranslate": true
  }
 },
 "nbformat": 4,
 "nbformat_minor": 4
}
