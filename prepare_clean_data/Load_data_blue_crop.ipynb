{
 "cells": [
  {
   "cell_type": "code",
   "execution_count": null,
   "id": "c12bb22e-f5da-40f3-ae8d-30c986859d94",
   "metadata": {},
   "outputs": [],
   "source": [
    "import os\n",
    "from PIL import Image, ImageFilter, ImageEnhance\n",
    "import pandas as pd"
   ]
  },
  {
   "cell_type": "code",
   "execution_count": null,
   "id": "eb4bd66f-03fb-4837-a714-7d7f84c8b2b2",
   "metadata": {},
   "outputs": [],
   "source": [
    "df = pd.read_csv(\"blue_cone.csv\")"
   ]
  },
  {
   "cell_type": "code",
   "execution_count": null,
   "id": "885a53ee-8b1d-4d56-8872-1c2acbde8180",
   "metadata": {},
   "outputs": [],
   "source": [
    "df.describe().loc[\"count\"]"
   ]
  },
  {
   "cell_type": "markdown",
   "id": "1be475d6-6c1c-4540-9dcd-8534159cf41a",
   "metadata": {},
   "source": [
    "##### 1. Current instances present in old set are: 17485\n",
    "##### 2. CSV data instances are: 86116\n",
    "##### 3. (86116 - 2568) = 83548\n",
    "##### 4. Required from csv are : 86116 - 83548 = 2568 rows\n",
    "##### 5. 2568 + 17485 = 20053"
   ]
  },
  {
   "cell_type": "code",
   "execution_count": null,
   "id": "60044c1a-6b0b-4d2a-8432-1898b048cd59",
   "metadata": {},
   "outputs": [],
   "source": [
    "# df_b = df.iloc[-1264:].reset_index(drop=True)\n",
    "df_b = df.iloc[0:2568].reset_index(drop=True)"
   ]
  },
  {
   "cell_type": "code",
   "execution_count": null,
   "id": "af21d0c5-63dd-4c52-834c-01198f303264",
   "metadata": {},
   "outputs": [],
   "source": [
    "df_b.describe().loc[\"count\"]"
   ]
  },
  {
   "cell_type": "code",
   "execution_count": null,
   "id": "582291f6-1845-4005-b1c5-62218f925ac3",
   "metadata": {},
   "outputs": [],
   "source": [
    "df_b.index"
   ]
  },
  {
   "cell_type": "code",
   "execution_count": null,
   "id": "961bad05-6c5e-4d28-ab32-3ab93d3f84b0",
   "metadata": {},
   "outputs": [],
   "source": [
    "df_b.head(3)"
   ]
  },
  {
   "cell_type": "markdown",
   "id": "5ba8fcac-47da-400b-9188-004631115e5a",
   "metadata": {},
   "source": [
    "### load image and crop image"
   ]
  },
  {
   "cell_type": "code",
   "execution_count": null,
   "id": "48c5440c-5e3f-4db7-979e-ea56f23ce441",
   "metadata": {},
   "outputs": [],
   "source": [
    "print(\"image path\", df_b.image_path[0])\n",
    "print(\"label path\", df_b.path[0])"
   ]
  },
  {
   "cell_type": "code",
   "execution_count": null,
   "id": "a696fc62-e854-4995-9591-1e107b76c10b",
   "metadata": {},
   "outputs": [],
   "source": [
    "def crop_and_save(image_path, label_path, box, img_output_folder, label_output_folder, class_label, counter):\n",
    "    img = Image.open(image_path)\n",
    "    # cropped_img = img.crop(box)\n",
    "    # resized_img = cropped_img.resize((640, 640), resample=Image.BICUBIC)\n",
    "    # enhancer = ImageEnhance.Contrast(resized_img)\n",
    "    # contrasted_img = enhancer.enhance(1.5)\n",
    "    # sharpened_img = contrasted_img.filter(ImageFilter.SHARPEN)\n",
    "\n",
    "    # Get the new bounding box coordinates in the cropped image\n",
    "    # new_box = (0, 0, box[2] - box[0], box[3] - box[1])\n",
    "    # new_box = (0, 0, 640, 640)\n",
    "    new_box, cropped_img = convert_to_normalized_coordinates(box, img)\n",
    "    \n",
    "    # Create output folder if not exists\n",
    "    os.makedirs(img_output_folder, exist_ok=True)\n",
    "    os.makedirs(label_output_folder, exist_ok=True)\n",
    "    \n",
    "    # Save cropped image and labels to output folder\n",
    "    img_output_folder = os.path.join(img_output_folder, os.path.basename(image_path))\n",
    "    label_output_folder = os.path.join(label_output_folder, f\"{os.path.basename(image_path)}.txt\")\n",
    "\n",
    "    # Image new name.\n",
    "    image_new_name = img_new_name(img_output_folder, counter)\n",
    "    \n",
    "    cropped_img.save(image_new_name)\n",
    "\n",
    "    # Write new bounding box coordinates to a text file\n",
    "    text_file_path = label_output_folder\n",
    "    label_name_update = label_new_name(text_file_path, counter)\n",
    "    with open(text_file_path, 'w') as text_file:\n",
    "        text_file.write(f\"{class_label} {new_box[0]} {new_box[1]} {new_box[2]} {new_box[3]}\")\n",
    "    os.rename(text_file_path, label_name_update)\n",
    "\n",
    "    print(\"Saved image: \", image_new_name)\n",
    "    print(\"Saved label: \", label_name_update)\n",
    "\n",
    "def img_new_name(path, counter):\n",
    "    ext = os.path.basename(path).split(\".\")[-1]\n",
    "    dir_name = os.path.dirname(path)\n",
    "    parent_dir_name = os.path.basename(os.path.dirname(os.path.dirname(path)))\n",
    "    new_image_path = os.path.join(dir_name, str(parent_dir_name) +\"_\"+ str(counter) +\"_\"+ str(ext) +\".\"+ str(ext))\n",
    "    return new_image_path\n",
    "\n",
    "def label_new_name(path, counter):\n",
    "    ext_1 = os.path.basename(path).split(\".\")[-1]\n",
    "    ext_2 = os.path.basename(path).split(\".\")[-2]\n",
    "    parent_dir_name = os.path.basename(os.path.dirname(os.path.dirname(path)))\n",
    "    dir_name = os.path.dirname(path)\n",
    "    new_label_path = os.path.join(dir_name, str(parent_dir_name) +\"_\"+ str(counter) +\"_\"+ str(ext_2) +\".\"+ str(ext_1))\n",
    "    return new_label_path\n",
    "\n",
    "\n",
    "# def clamp(value, min_value, max_value):\n",
    "#     return max(min(value, max_value), min_value)\n",
    "\n",
    "# def new_box_coordinates(box, img):\n",
    "#     # Extracting values from the box\n",
    "#     left, upper, right, lower = box\n",
    "\n",
    "#     # Original bounding box in pixel coordinates\n",
    "#     original_box = (\n",
    "#         clamp(left, 0, img.width),\n",
    "#         clamp(upper, 0, img.height),\n",
    "#         clamp(right, 0, img.width),\n",
    "#         clamp(lower, 0, img.height)\n",
    "#     )\n",
    "#     print(\"Original Bounding Box in Pixel Coordinates:\", original_box)\n",
    "\n",
    "#     # Apply cropping\n",
    "#     cropped_img = img.crop(original_box)\n",
    "\n",
    "#     new_box = (\n",
    "#         original_box[0] / img.width,\n",
    "#         original_box[1] / img.height,\n",
    "#         (original_box[2] - original_box[0]) / img.width,\n",
    "#         (original_box[3] - original_box[1]) / img.height\n",
    "#     )\n",
    "\n",
    "#     print(\"New Bounding Box in Normalized Coordinates:\", new_box)\n",
    "#     return new_box, cropped_img\n",
    "\n",
    "def convert_to_normalized_coordinates(box, img):\n",
    "    cropped_img = img.crop(box)\n",
    "    image_width, image_height = 1000, 1500\n",
    "    box_x1, box_y1, box_x2, box_y2 = box\n",
    "    \n",
    "    # Calculate normalized coordinates\n",
    "    x_center = (box_x1 + box_x2) / (2.0 * image_width)\n",
    "    y_center = (box_y1 + box_y2) / (2.0 * image_height)\n",
    "    width = (box_x2 - box_x1) / image_width\n",
    "    height = (box_y2 - box_y1) / image_height\n",
    "\n",
    "    # Format the result as a string\n",
    "    new_box = f\"{x_center:.3f} {y_center:.3f} {width:.3f} {height:.3f}\"\n",
    "    print(\"New Bounding Box in Normalized Coordinates:\", new_box)\n",
    "    return new_box, cropped_img\n",
    "\n",
    "\n",
    "# def clamp(value, min_value, max_value):\n",
    "#     return max(min(value, max_value), min_value)\n",
    "\n",
    "# def new_box_coordinates(box, img):\n",
    "#     # Extracting values from the box\n",
    "#     left, upper, right, lower = box\n",
    "\n",
    "#     # Normalize pixel coordinates\n",
    "#     original_width, original_height = img.size  # Replace with the actual dimensions of the original image\n",
    "\n",
    "#     x_center = (left + right) / (2 * original_width)\n",
    "#     y_center = (upper + lower) / (2 * original_height)\n",
    "#     width = (right - left) / original_width\n",
    "#     height = (lower - upper) / original_height\n",
    "\n",
    "#     # Original bounding box in normalized form\n",
    "#     original_box = (\n",
    "#         clamp(x_center - width / 2, 0, 1),\n",
    "#         clamp(y_center - height / 2, 0, 1),\n",
    "#         clamp(x_center + width / 2, 0, 1),\n",
    "#         clamp(y_center + height / 2, 0, 1)\n",
    "#     )\n",
    "#     print(\"Original Bounding Box in Normalized Coordinates:\", original_box)\n",
    "\n",
    "#     # Convert normalized coordinates to pixel coordinates after cropping\n",
    "#     left = int(original_box[0] * original_width)\n",
    "#     upper = int(original_box[1] * original_height)\n",
    "#     right = int(original_box[2] * original_width)\n",
    "#     lower = int(original_box[3] * original_height)\n",
    "\n",
    "#     # Clamp coordinates to ensure they are within the image boundaries\n",
    "#     left = clamp(left, 0, original_width - 1)\n",
    "#     upper = clamp(upper, 0, original_height - 1)\n",
    "#     right = clamp(right, 0, original_width - 1)\n",
    "#     lower = clamp(lower, 0, original_height - 1)\n",
    "\n",
    "#     # Check if the cropped region is valid\n",
    "#     if left >= right or upper >= lower:\n",
    "#         raise ValueError(f\"Invalid bounding box or dimensions for cropping. Bounding box: {original_box}, Image size: {original_width}x{original_height}\")\n",
    "\n",
    "#     # Apply cropping\n",
    "#     cropped_img = img.crop((left, upper, right, lower))\n",
    "\n",
    "#     new_box = (0, 0, right - left, lower - upper)\n",
    "\n",
    "#     print(\"New Bounding Box in Pixel Coordinates:\", new_box)\n",
    "#     return new_box, cropped_img\n",
    "\n"
   ]
  },
  {
   "cell_type": "code",
   "execution_count": null,
   "id": "e77bf47a-1610-4464-a989-71370fbea5cd",
   "metadata": {
    "scrolled": true
   },
   "outputs": [],
   "source": [
    "# Specify output folder for cropped images and labels\n",
    "img_output_folder = 'blue_crop/images'\n",
    "label_output_folder = 'blue_crop/labels'\n",
    "\n",
    "# Iterate through rows and crop/save images\n",
    "for index, row in df_b.iterrows():\n",
    "    image_path = row['image_path']\n",
    "    label_path = row['path']\n",
    "    class_label = row[\"class_label\"]\n",
    "    box = (row['box_x1'], row['box_y1'], row['box_x2'], row['box_y2'])\n",
    "    \n",
    "    crop_and_save(image_path, label_path, box, img_output_folder, label_output_folder, class_label, index)\n",
    "    \n",
    "    print(\"Cropping and saving complete.\", index)"
   ]
  },
  {
   "cell_type": "markdown",
   "id": "9239ad0a-0f7c-4a33-8bdf-6d4a174d9f4e",
   "metadata": {},
   "source": [
    "#### Verify Bonding box on sample image"
   ]
  },
  {
   "cell_type": "code",
   "execution_count": null,
   "id": "5709cce6-006f-4888-96a3-f05d173f8bd0",
   "metadata": {},
   "outputs": [],
   "source": [
    "from PIL import Image, ImageDraw\n",
    "from IPython.display import display\n",
    "\n",
    "# Open the image\n",
    "img = Image.open('blue_crop/images/blue_crop_16_png.png')\n",
    "\n",
    "draw = ImageDraw.Draw(img)\n",
    "normalized_coordinates=\"0.761,0.713,0.081,0.075\"\n",
    "# Split normalized coordinates\n",
    "x_center, y_center, width, height = map(float, normalized_coordinates.split(','))\n",
    "\n",
    "# Calculate box coordinates in pixel values\n",
    "box_x1 = int((x_center - width / 2) * img.width)\n",
    "box_y1 = int((y_center - height / 2) * img.height)\n",
    "box_x2 = int((x_center + width / 2) * img.width)\n",
    "box_y2 = int((y_center + height / 2) * img.height)\n",
    "\n",
    "# Draw rectangle on the image\n",
    "draw.rectangle([box_x1, box_y1, box_x2, box_y2], outline=(0, 255, 0), width=2)\n",
    "\n",
    "# Display the image in the notebook\n",
    "display(img)\n"
   ]
  },
  {
   "cell_type": "code",
   "execution_count": null,
   "id": "a67b72dc-ed16-445c-bfb9-9b54cc405f28",
   "metadata": {},
   "outputs": [],
   "source": []
  },
  {
   "cell_type": "code",
   "execution_count": null,
   "id": "3650380b-7c1b-4299-887d-1ffc3cd2d4fe",
   "metadata": {},
   "outputs": [],
   "source": []
  }
 ],
 "metadata": {
  "kernelspec": {
   "display_name": "Python 3 (ipykernel)",
   "language": "python",
   "name": "python3"
  },
  "language_info": {
   "codemirror_mode": {
    "name": "ipython",
    "version": 3
   },
   "file_extension": ".py",
   "mimetype": "text/x-python",
   "name": "python",
   "nbconvert_exporter": "python",
   "pygments_lexer": "ipython3",
   "version": "3.10.12"
  }
 },
 "nbformat": 4,
 "nbformat_minor": 5
}
