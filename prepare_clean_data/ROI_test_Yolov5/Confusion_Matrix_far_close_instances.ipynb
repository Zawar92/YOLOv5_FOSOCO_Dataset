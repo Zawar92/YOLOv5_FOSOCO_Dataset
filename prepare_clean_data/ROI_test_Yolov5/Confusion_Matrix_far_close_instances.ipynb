{
 "cells": [
  {
   "cell_type": "code",
   "execution_count": 2,
   "id": "7da3d590",
   "metadata": {},
   "outputs": [],
   "source": [
    "import pandas as pd\n",
    "from tqdm import tqdm\n",
    "import warnings\n",
    "import os\n",
    "import numpy as np\n",
    "import matplotlib.pyplot as plt\n",
    "\n",
    "warnings.simplefilter(\"ignore\", category=pd.errors.SettingWithCopyWarning)\n",
    "warnings.simplefilter(\"ignore\", category=FutureWarning)\n",
    "pd.set_option('display.max_columns', None)\n",
    "pd.set_option('display.max_rows', None)\n"
   ]
  },
  {
   "cell_type": "code",
   "execution_count": 2,
   "id": "042f67ed",
   "metadata": {},
   "outputs": [],
   "source": [
    "#PRED Dataframe\n",
    "df_pred = pd.read_csv('roi_distance.csv', sep=',')\n",
    "df_pred = df_pred.loc[:, ~df_pred.columns.str.contains('^Unnamed')]\n",
    "\n",
    "#TRUTH Dataframe\n",
    "df_gtruth = pd.read_csv('ground_truth.csv', sep=',')\n",
    "df_gtruth = df_gtruth.loc[:, ~df_gtruth.columns.str.contains('^Unnamed')]\n",
    "df_gtruth['image_name'] = df_gtruth['image_name'].apply(lambda x: os.path.basename(x))\n",
    "df_gtruth['label_name'] = df_gtruth['label_name'].apply(lambda x: os.path.basename(x))\n"
   ]
  },
  {
   "cell_type": "markdown",
   "id": "542eea01",
   "metadata": {},
   "source": [
    "### Convert GroundTruth Coordinates To Pixel"
   ]
  },
  {
   "cell_type": "code",
   "execution_count": 3,
   "id": "0091305a",
   "metadata": {},
   "outputs": [
    {
     "name": "stderr",
     "output_type": "stream",
     "text": [
      "227867it [02:07, 1792.90it/s]\n"
     ]
    }
   ],
   "source": [
    "def convert_ground_truth(df_gtruth):\n",
    "    # Initialize new columns in the DataFrame\n",
    "    df_gtruth['xcenter_truth'] = 0\n",
    "    df_gtruth['ycenter_truth'] = 0\n",
    "    df_gtruth['width_truth'] = 0\n",
    "    df_gtruth['height_truth'] = 0\n",
    "    df_gtruth['class_truth'] = 0\n",
    "    \n",
    "    for index, row in tqdm(df_gtruth.iterrows()):\n",
    "        class_truth = row['class']\n",
    "        image_width = row['image_width']\n",
    "        image_height = row['image_height']\n",
    "        xcenter_truth = int(row['xcenter'] * image_width)\n",
    "        ycenter_truth = int(row['ycenter'] * image_height)\n",
    "        width_truth = int(row['width'] * image_width)\n",
    "        height_truth = int(row['height'] * image_height)\n",
    "#       print(class_truth, xcenter_truth, ycenter_truth, width_truth, height_truth)\n",
    "\n",
    "        # Update the new columns in the DataFrame\n",
    "        df_gtruth.at[index, 'xcenter_truth'] = xcenter_truth\n",
    "        df_gtruth.at[index, 'ycenter_truth'] = ycenter_truth\n",
    "        df_gtruth.at[index, 'width_truth'] = width_truth\n",
    "        df_gtruth.at[index, 'height_truth'] = height_truth\n",
    "        df_gtruth.at[index, 'class_truth'] = class_truth\n",
    "    return df_gtruth\n",
    "df_gtruth = convert_ground_truth(df_gtruth)"
   ]
  },
  {
   "cell_type": "code",
   "execution_count": 4,
   "id": "84c4c97e",
   "metadata": {},
   "outputs": [
    {
     "name": "stdout",
     "output_type": "stream",
     "text": [
      "(227867, 14)\n",
      "(174786, 11)\n"
     ]
    }
   ],
   "source": [
    "print(df_gtruth.shape)\n",
    "print(df_pred.shape)"
   ]
  },
  {
   "cell_type": "markdown",
   "id": "ea3efae2",
   "metadata": {},
   "source": [
    "# FInal Logic"
   ]
  },
  {
   "cell_type": "code",
   "execution_count": 34,
   "id": "e58221a2",
   "metadata": {},
   "outputs": [
    {
     "name": "stderr",
     "output_type": "stream",
     "text": [
      "100%|██████████████████████████████████| 11923/11923 [20:53:07<00:00,  6.31s/it]\n"
     ]
    }
   ],
   "source": [
    "def euclidean_distance(point1, point2):\n",
    "    return np.sqrt(np.sum((abs(point1 - point2))**2))\n",
    "\n",
    "def compare_points(point1, point2, threshold_same, threshold_different):\n",
    "    distance = euclidean_distance(point1, point2)\n",
    "    \n",
    "    if distance < threshold_same:\n",
    "        return True\n",
    "    elif distance > threshold_different:\n",
    "        return False\n",
    "    else:\n",
    "        return True\n",
    "\n",
    "def get_close_match(df_pred_sample, df_gtruth_sample):\n",
    "    image_name_list = df_pred.image_name.unique()\n",
    "    threshold_same = 6.0\n",
    "    threshold_different = 10.0\n",
    "    close_matches = pd.DataFrame()\n",
    "\n",
    "    all_close_matches = []\n",
    "    for image_name in tqdm(image_name_list):\n",
    "        for index1, row1 in df_pred_sample[df_pred_sample['image_name']==image_name][['xcenter', 'ycenter']].iterrows():\n",
    "            for index2, row2 in df_gtruth_sample[df_gtruth_sample['image_name']==image_name][['xcenter_truth', 'ycenter_truth']].iterrows():\n",
    "                result = compare_points(np.array(row1), np.array(row2), threshold_same, threshold_different)\n",
    "                if result:\n",
    "                    df_1 = df_pred_sample[['xcenter', 'ycenter', 'width', 'height','class','confidence','name','area','depth_id','depth_name','image_name']].iloc[index1]\n",
    "                    df_2 = df_gtruth_sample[['xcenter_truth', 'ycenter_truth', 'width_truth', 'height_truth', 'class_truth']].iloc[index2]\n",
    "\n",
    "                    df_11 = pd.DataFrame(df_1).transpose()\n",
    "                    df_22 = pd.DataFrame(df_2).transpose()\n",
    "                    close_matches = pd.concat([df_1, df_2], axis=0)\n",
    "                    all_close_matches.append(close_matches)\n",
    "        close_matches = pd.concat(all_close_matches, axis=1).transpose().reset_index(drop=True)\n",
    "    return close_matches\n",
    "\n",
    "# close_matches['class']= close_matches['class'].astype('int')\n",
    "resultant = get_close_match(df_pred, df_gtruth) "
   ]
  },
  {
   "cell_type": "code",
   "execution_count": 36,
   "id": "1b862508",
   "metadata": {},
   "outputs": [],
   "source": [
    "resultant.to_csv('roi_distances_updated.csv', sep=',')"
   ]
  },
  {
   "cell_type": "code",
   "execution_count": 20,
   "id": "4e3ac241",
   "metadata": {},
   "outputs": [],
   "source": []
  },
  {
   "cell_type": "code",
   "execution_count": 4,
   "id": "ff9f66a2",
   "metadata": {},
   "outputs": [],
   "source": [
    "df = pd.read_csv('roi_distances_updated.csv', sep=',')\n",
    "df = df.loc[:, ~df.columns.str.contains('^Unnamed')]"
   ]
  },
  {
   "cell_type": "code",
   "execution_count": 5,
   "id": "07199f2d",
   "metadata": {},
   "outputs": [
    {
     "data": {
      "text/html": [
       "<div>\n",
       "<style scoped>\n",
       "    .dataframe tbody tr th:only-of-type {\n",
       "        vertical-align: middle;\n",
       "    }\n",
       "\n",
       "    .dataframe tbody tr th {\n",
       "        vertical-align: top;\n",
       "    }\n",
       "\n",
       "    .dataframe thead th {\n",
       "        text-align: right;\n",
       "    }\n",
       "</style>\n",
       "<table border=\"1\" class=\"dataframe\">\n",
       "  <thead>\n",
       "    <tr style=\"text-align: right;\">\n",
       "      <th></th>\n",
       "      <th>xcenter</th>\n",
       "      <th>ycenter</th>\n",
       "      <th>width</th>\n",
       "      <th>height</th>\n",
       "      <th>class</th>\n",
       "      <th>confidence</th>\n",
       "      <th>name</th>\n",
       "      <th>area</th>\n",
       "      <th>depth_id</th>\n",
       "      <th>depth_name</th>\n",
       "      <th>image_name</th>\n",
       "      <th>xcenter_truth</th>\n",
       "      <th>ycenter_truth</th>\n",
       "      <th>width_truth</th>\n",
       "      <th>height_truth</th>\n",
       "      <th>class_truth</th>\n",
       "    </tr>\n",
       "  </thead>\n",
       "  <tbody>\n",
       "    <tr>\n",
       "      <th>0</th>\n",
       "      <td>354.030640</td>\n",
       "      <td>680.527527</td>\n",
       "      <td>116.334442</td>\n",
       "      <td>126.692017</td>\n",
       "      <td>4</td>\n",
       "      <td>0.917122</td>\n",
       "      <td>yellow_cone</td>\n",
       "      <td>14738.645075</td>\n",
       "      <td>0</td>\n",
       "      <td>close_from_cam</td>\n",
       "      <td>gfr_00544_jpg.jpg</td>\n",
       "      <td>352</td>\n",
       "      <td>679</td>\n",
       "      <td>112</td>\n",
       "      <td>123</td>\n",
       "      <td>4</td>\n",
       "    </tr>\n",
       "    <tr>\n",
       "      <th>1</th>\n",
       "      <td>1556.451660</td>\n",
       "      <td>912.496704</td>\n",
       "      <td>143.378784</td>\n",
       "      <td>190.541870</td>\n",
       "      <td>0</td>\n",
       "      <td>0.911995</td>\n",
       "      <td>blue_cone</td>\n",
       "      <td>27319.661673</td>\n",
       "      <td>0</td>\n",
       "      <td>close_from_cam</td>\n",
       "      <td>gfr_00544_jpg.jpg</td>\n",
       "      <td>1556</td>\n",
       "      <td>911</td>\n",
       "      <td>140</td>\n",
       "      <td>191</td>\n",
       "      <td>0</td>\n",
       "    </tr>\n",
       "    <tr>\n",
       "      <th>2</th>\n",
       "      <td>688.939575</td>\n",
       "      <td>758.156433</td>\n",
       "      <td>119.413635</td>\n",
       "      <td>144.132568</td>\n",
       "      <td>2</td>\n",
       "      <td>0.901687</td>\n",
       "      <td>orange_cone</td>\n",
       "      <td>17211.393946</td>\n",
       "      <td>0</td>\n",
       "      <td>close_from_cam</td>\n",
       "      <td>gfr_00544_jpg.jpg</td>\n",
       "      <td>689</td>\n",
       "      <td>756</td>\n",
       "      <td>122</td>\n",
       "      <td>145</td>\n",
       "      <td>2</td>\n",
       "    </tr>\n",
       "    <tr>\n",
       "      <th>3</th>\n",
       "      <td>1153.819580</td>\n",
       "      <td>710.862671</td>\n",
       "      <td>111.585693</td>\n",
       "      <td>122.757141</td>\n",
       "      <td>4</td>\n",
       "      <td>0.900037</td>\n",
       "      <td>yellow_cone</td>\n",
       "      <td>13697.940706</td>\n",
       "      <td>0</td>\n",
       "      <td>close_from_cam</td>\n",
       "      <td>gfr_00544_jpg.jpg</td>\n",
       "      <td>1154</td>\n",
       "      <td>710</td>\n",
       "      <td>107</td>\n",
       "      <td>123</td>\n",
       "      <td>4</td>\n",
       "    </tr>\n",
       "    <tr>\n",
       "      <th>4</th>\n",
       "      <td>497.007996</td>\n",
       "      <td>550.327332</td>\n",
       "      <td>67.068726</td>\n",
       "      <td>76.685883</td>\n",
       "      <td>0</td>\n",
       "      <td>0.895754</td>\n",
       "      <td>blue_cone</td>\n",
       "      <td>5143.224414</td>\n",
       "      <td>0</td>\n",
       "      <td>close_from_cam</td>\n",
       "      <td>gfr_00544_jpg.jpg</td>\n",
       "      <td>498</td>\n",
       "      <td>550</td>\n",
       "      <td>67</td>\n",
       "      <td>75</td>\n",
       "      <td>0</td>\n",
       "    </tr>\n",
       "  </tbody>\n",
       "</table>\n",
       "</div>"
      ],
      "text/plain": [
       "       xcenter     ycenter       width      height  class  confidence  \\\n",
       "0   354.030640  680.527527  116.334442  126.692017      4    0.917122   \n",
       "1  1556.451660  912.496704  143.378784  190.541870      0    0.911995   \n",
       "2   688.939575  758.156433  119.413635  144.132568      2    0.901687   \n",
       "3  1153.819580  710.862671  111.585693  122.757141      4    0.900037   \n",
       "4   497.007996  550.327332   67.068726   76.685883      0    0.895754   \n",
       "\n",
       "          name          area  depth_id      depth_name         image_name  \\\n",
       "0  yellow_cone  14738.645075         0  close_from_cam  gfr_00544_jpg.jpg   \n",
       "1    blue_cone  27319.661673         0  close_from_cam  gfr_00544_jpg.jpg   \n",
       "2  orange_cone  17211.393946         0  close_from_cam  gfr_00544_jpg.jpg   \n",
       "3  yellow_cone  13697.940706         0  close_from_cam  gfr_00544_jpg.jpg   \n",
       "4    blue_cone   5143.224414         0  close_from_cam  gfr_00544_jpg.jpg   \n",
       "\n",
       "   xcenter_truth  ycenter_truth  width_truth  height_truth  class_truth  \n",
       "0            352            679          112           123            4  \n",
       "1           1556            911          140           191            0  \n",
       "2            689            756          122           145            2  \n",
       "3           1154            710          107           123            4  \n",
       "4            498            550           67            75            0  "
      ]
     },
     "execution_count": 5,
     "metadata": {},
     "output_type": "execute_result"
    }
   ],
   "source": [
    "df.head()"
   ]
  },
  {
   "cell_type": "code",
   "execution_count": 6,
   "id": "03dc5bdc",
   "metadata": {},
   "outputs": [
    {
     "data": {
      "text/plain": [
       "(171877, 16)"
      ]
     },
     "execution_count": 6,
     "metadata": {},
     "output_type": "execute_result"
    }
   ],
   "source": [
    "df.shape"
   ]
  },
  {
   "cell_type": "code",
   "execution_count": 7,
   "id": "0b524aad",
   "metadata": {},
   "outputs": [
    {
     "name": "stdout",
     "output_type": "stream",
     "text": [
      "(36276, 16)\n",
      "(135601, 16)\n"
     ]
    }
   ],
   "source": [
    "close_df = df[(df['depth_id']==0) & (df['depth_name']=='close_from_cam')]\n",
    "far_df = df[(df['depth_id']==1) & (df['depth_name']=='far_from_cam')]\n",
    "\n",
    "print(close_df.shape)\n",
    "print(far_df.shape)"
   ]
  },
  {
   "cell_type": "code",
   "execution_count": 9,
   "id": "a66ab2c2-fecf-4dd4-b885-3371552644f4",
   "metadata": {},
   "outputs": [],
   "source": [
    "# CLOSE INSTANCES"
   ]
  },
  {
   "cell_type": "code",
   "execution_count": 11,
   "id": "2fb6eb00-488f-4d22-93c2-f014542e2a92",
   "metadata": {},
   "outputs": [
    {
     "data": {
      "application/vnd.plotly.v1+json": {
       "config": {
        "plotlyServerURL": "https://plot.ly"
       },
       "data": [
        {
         "colorbar": {
          "tickangle": -45,
          "tickmode": "array",
          "ticktext": [
           "0%",
           "25%",
           "50%",
           "75%",
           "100%"
          ],
          "tickvals": [
           0,
           25,
           50,
           75,
           100
          ]
         },
         "colorscale": [
          [
           0,
           "rgb(247,251,255)"
          ],
          [
           0.125,
           "rgb(222,235,247)"
          ],
          [
           0.25,
           "rgb(198,219,239)"
          ],
          [
           0.375,
           "rgb(158,202,225)"
          ],
          [
           0.5,
           "rgb(107,174,214)"
          ],
          [
           0.625,
           "rgb(66,146,198)"
          ],
          [
           0.75,
           "rgb(33,113,181)"
          ],
          [
           0.875,
           "rgb(8,81,156)"
          ],
          [
           1,
           "rgb(8,48,107)"
          ]
         ],
         "hoverongaps": false,
         "type": "heatmap",
         "x": [
          0,
          1,
          2,
          3,
          4
         ],
         "y": [
          0,
          1,
          2,
          3,
          4
         ],
         "z": [
          [
           98.17543323917857,
           0.18322009313688067,
           0.4580502328422017,
           0.12214672875792046,
           1.061149706084434
          ],
          [
           1.8483283500951346,
           83.935852133732,
           2.038597444957869,
           0,
           12.177222071215004
          ],
          [
           0.9587020648967551,
           2.359882005899705,
           95.87020648967551,
           0.07374631268436578,
           0.7374631268436578
          ],
          [
           2.287581699346405,
           3.594771241830065,
           57.84313725490197,
           34.64052287581699,
           1.6339869281045754
          ],
          [
           1.3582219639744335,
           0.10894828588030214,
           0.5883207437536316,
           0.05084253341080767,
           97.89366647298083
          ]
         ],
         "zmax": 100,
         "zmin": 0
        }
       ],
       "layout": {
        "annotations": [
         {
          "font": {
           "color": "black"
          },
          "showarrow": false,
          "text": "98.18%",
          "x": 0,
          "y": 0
         },
         {
          "font": {
           "color": "black"
          },
          "showarrow": false,
          "text": "0.18%",
          "x": 1,
          "y": 0
         },
         {
          "font": {
           "color": "black"
          },
          "showarrow": false,
          "text": "0.46%",
          "x": 2,
          "y": 0
         },
         {
          "font": {
           "color": "black"
          },
          "showarrow": false,
          "text": "0.12%",
          "x": 3,
          "y": 0
         },
         {
          "font": {
           "color": "black"
          },
          "showarrow": false,
          "text": "1.06%",
          "x": 4,
          "y": 0
         },
         {
          "font": {
           "color": "black"
          },
          "showarrow": false,
          "text": "1.85%",
          "x": 0,
          "y": 1
         },
         {
          "font": {
           "color": "black"
          },
          "showarrow": false,
          "text": "83.94%",
          "x": 1,
          "y": 1
         },
         {
          "font": {
           "color": "black"
          },
          "showarrow": false,
          "text": "2.04%",
          "x": 2,
          "y": 1
         },
         {
          "font": {
           "color": "black"
          },
          "showarrow": false,
          "text": "0.00%",
          "x": 3,
          "y": 1
         },
         {
          "font": {
           "color": "black"
          },
          "showarrow": false,
          "text": "12.18%",
          "x": 4,
          "y": 1
         },
         {
          "font": {
           "color": "black"
          },
          "showarrow": false,
          "text": "0.96%",
          "x": 0,
          "y": 2
         },
         {
          "font": {
           "color": "black"
          },
          "showarrow": false,
          "text": "2.36%",
          "x": 1,
          "y": 2
         },
         {
          "font": {
           "color": "black"
          },
          "showarrow": false,
          "text": "95.87%",
          "x": 2,
          "y": 2
         },
         {
          "font": {
           "color": "black"
          },
          "showarrow": false,
          "text": "0.07%",
          "x": 3,
          "y": 2
         },
         {
          "font": {
           "color": "black"
          },
          "showarrow": false,
          "text": "0.74%",
          "x": 4,
          "y": 2
         },
         {
          "font": {
           "color": "black"
          },
          "showarrow": false,
          "text": "2.29%",
          "x": 0,
          "y": 3
         },
         {
          "font": {
           "color": "black"
          },
          "showarrow": false,
          "text": "3.59%",
          "x": 1,
          "y": 3
         },
         {
          "font": {
           "color": "black"
          },
          "showarrow": false,
          "text": "57.84%",
          "x": 2,
          "y": 3
         },
         {
          "font": {
           "color": "black"
          },
          "showarrow": false,
          "text": "34.64%",
          "x": 3,
          "y": 3
         },
         {
          "font": {
           "color": "black"
          },
          "showarrow": false,
          "text": "1.63%",
          "x": 4,
          "y": 3
         },
         {
          "font": {
           "color": "black"
          },
          "showarrow": false,
          "text": "1.36%",
          "x": 0,
          "y": 4
         },
         {
          "font": {
           "color": "black"
          },
          "showarrow": false,
          "text": "0.11%",
          "x": 1,
          "y": 4
         },
         {
          "font": {
           "color": "black"
          },
          "showarrow": false,
          "text": "0.59%",
          "x": 2,
          "y": 4
         },
         {
          "font": {
           "color": "black"
          },
          "showarrow": false,
          "text": "0.05%",
          "x": 3,
          "y": 4
         },
         {
          "font": {
           "color": "black"
          },
          "showarrow": false,
          "text": "97.89%",
          "x": 4,
          "y": 4
         }
        ],
        "autosize": true,
        "template": {
         "data": {
          "bar": [
           {
            "error_x": {
             "color": "#2a3f5f"
            },
            "error_y": {
             "color": "#2a3f5f"
            },
            "marker": {
             "line": {
              "color": "#E5ECF6",
              "width": 0.5
             },
             "pattern": {
              "fillmode": "overlay",
              "size": 10,
              "solidity": 0.2
             }
            },
            "type": "bar"
           }
          ],
          "barpolar": [
           {
            "marker": {
             "line": {
              "color": "#E5ECF6",
              "width": 0.5
             },
             "pattern": {
              "fillmode": "overlay",
              "size": 10,
              "solidity": 0.2
             }
            },
            "type": "barpolar"
           }
          ],
          "carpet": [
           {
            "aaxis": {
             "endlinecolor": "#2a3f5f",
             "gridcolor": "white",
             "linecolor": "white",
             "minorgridcolor": "white",
             "startlinecolor": "#2a3f5f"
            },
            "baxis": {
             "endlinecolor": "#2a3f5f",
             "gridcolor": "white",
             "linecolor": "white",
             "minorgridcolor": "white",
             "startlinecolor": "#2a3f5f"
            },
            "type": "carpet"
           }
          ],
          "choropleth": [
           {
            "colorbar": {
             "outlinewidth": 0,
             "ticks": ""
            },
            "type": "choropleth"
           }
          ],
          "contour": [
           {
            "colorbar": {
             "outlinewidth": 0,
             "ticks": ""
            },
            "colorscale": [
             [
              0,
              "#0d0887"
             ],
             [
              0.1111111111111111,
              "#46039f"
             ],
             [
              0.2222222222222222,
              "#7201a8"
             ],
             [
              0.3333333333333333,
              "#9c179e"
             ],
             [
              0.4444444444444444,
              "#bd3786"
             ],
             [
              0.5555555555555556,
              "#d8576b"
             ],
             [
              0.6666666666666666,
              "#ed7953"
             ],
             [
              0.7777777777777778,
              "#fb9f3a"
             ],
             [
              0.8888888888888888,
              "#fdca26"
             ],
             [
              1,
              "#f0f921"
             ]
            ],
            "type": "contour"
           }
          ],
          "contourcarpet": [
           {
            "colorbar": {
             "outlinewidth": 0,
             "ticks": ""
            },
            "type": "contourcarpet"
           }
          ],
          "heatmap": [
           {
            "colorbar": {
             "outlinewidth": 0,
             "ticks": ""
            },
            "colorscale": [
             [
              0,
              "#0d0887"
             ],
             [
              0.1111111111111111,
              "#46039f"
             ],
             [
              0.2222222222222222,
              "#7201a8"
             ],
             [
              0.3333333333333333,
              "#9c179e"
             ],
             [
              0.4444444444444444,
              "#bd3786"
             ],
             [
              0.5555555555555556,
              "#d8576b"
             ],
             [
              0.6666666666666666,
              "#ed7953"
             ],
             [
              0.7777777777777778,
              "#fb9f3a"
             ],
             [
              0.8888888888888888,
              "#fdca26"
             ],
             [
              1,
              "#f0f921"
             ]
            ],
            "type": "heatmap"
           }
          ],
          "heatmapgl": [
           {
            "colorbar": {
             "outlinewidth": 0,
             "ticks": ""
            },
            "colorscale": [
             [
              0,
              "#0d0887"
             ],
             [
              0.1111111111111111,
              "#46039f"
             ],
             [
              0.2222222222222222,
              "#7201a8"
             ],
             [
              0.3333333333333333,
              "#9c179e"
             ],
             [
              0.4444444444444444,
              "#bd3786"
             ],
             [
              0.5555555555555556,
              "#d8576b"
             ],
             [
              0.6666666666666666,
              "#ed7953"
             ],
             [
              0.7777777777777778,
              "#fb9f3a"
             ],
             [
              0.8888888888888888,
              "#fdca26"
             ],
             [
              1,
              "#f0f921"
             ]
            ],
            "type": "heatmapgl"
           }
          ],
          "histogram": [
           {
            "marker": {
             "pattern": {
              "fillmode": "overlay",
              "size": 10,
              "solidity": 0.2
             }
            },
            "type": "histogram"
           }
          ],
          "histogram2d": [
           {
            "colorbar": {
             "outlinewidth": 0,
             "ticks": ""
            },
            "colorscale": [
             [
              0,
              "#0d0887"
             ],
             [
              0.1111111111111111,
              "#46039f"
             ],
             [
              0.2222222222222222,
              "#7201a8"
             ],
             [
              0.3333333333333333,
              "#9c179e"
             ],
             [
              0.4444444444444444,
              "#bd3786"
             ],
             [
              0.5555555555555556,
              "#d8576b"
             ],
             [
              0.6666666666666666,
              "#ed7953"
             ],
             [
              0.7777777777777778,
              "#fb9f3a"
             ],
             [
              0.8888888888888888,
              "#fdca26"
             ],
             [
              1,
              "#f0f921"
             ]
            ],
            "type": "histogram2d"
           }
          ],
          "histogram2dcontour": [
           {
            "colorbar": {
             "outlinewidth": 0,
             "ticks": ""
            },
            "colorscale": [
             [
              0,
              "#0d0887"
             ],
             [
              0.1111111111111111,
              "#46039f"
             ],
             [
              0.2222222222222222,
              "#7201a8"
             ],
             [
              0.3333333333333333,
              "#9c179e"
             ],
             [
              0.4444444444444444,
              "#bd3786"
             ],
             [
              0.5555555555555556,
              "#d8576b"
             ],
             [
              0.6666666666666666,
              "#ed7953"
             ],
             [
              0.7777777777777778,
              "#fb9f3a"
             ],
             [
              0.8888888888888888,
              "#fdca26"
             ],
             [
              1,
              "#f0f921"
             ]
            ],
            "type": "histogram2dcontour"
           }
          ],
          "mesh3d": [
           {
            "colorbar": {
             "outlinewidth": 0,
             "ticks": ""
            },
            "type": "mesh3d"
           }
          ],
          "parcoords": [
           {
            "line": {
             "colorbar": {
              "outlinewidth": 0,
              "ticks": ""
             }
            },
            "type": "parcoords"
           }
          ],
          "pie": [
           {
            "automargin": true,
            "type": "pie"
           }
          ],
          "scatter": [
           {
            "fillpattern": {
             "fillmode": "overlay",
             "size": 10,
             "solidity": 0.2
            },
            "type": "scatter"
           }
          ],
          "scatter3d": [
           {
            "line": {
             "colorbar": {
              "outlinewidth": 0,
              "ticks": ""
             }
            },
            "marker": {
             "colorbar": {
              "outlinewidth": 0,
              "ticks": ""
             }
            },
            "type": "scatter3d"
           }
          ],
          "scattercarpet": [
           {
            "marker": {
             "colorbar": {
              "outlinewidth": 0,
              "ticks": ""
             }
            },
            "type": "scattercarpet"
           }
          ],
          "scattergeo": [
           {
            "marker": {
             "colorbar": {
              "outlinewidth": 0,
              "ticks": ""
             }
            },
            "type": "scattergeo"
           }
          ],
          "scattergl": [
           {
            "marker": {
             "colorbar": {
              "outlinewidth": 0,
              "ticks": ""
             }
            },
            "type": "scattergl"
           }
          ],
          "scattermapbox": [
           {
            "marker": {
             "colorbar": {
              "outlinewidth": 0,
              "ticks": ""
             }
            },
            "type": "scattermapbox"
           }
          ],
          "scatterpolar": [
           {
            "marker": {
             "colorbar": {
              "outlinewidth": 0,
              "ticks": ""
             }
            },
            "type": "scatterpolar"
           }
          ],
          "scatterpolargl": [
           {
            "marker": {
             "colorbar": {
              "outlinewidth": 0,
              "ticks": ""
             }
            },
            "type": "scatterpolargl"
           }
          ],
          "scatterternary": [
           {
            "marker": {
             "colorbar": {
              "outlinewidth": 0,
              "ticks": ""
             }
            },
            "type": "scatterternary"
           }
          ],
          "surface": [
           {
            "colorbar": {
             "outlinewidth": 0,
             "ticks": ""
            },
            "colorscale": [
             [
              0,
              "#0d0887"
             ],
             [
              0.1111111111111111,
              "#46039f"
             ],
             [
              0.2222222222222222,
              "#7201a8"
             ],
             [
              0.3333333333333333,
              "#9c179e"
             ],
             [
              0.4444444444444444,
              "#bd3786"
             ],
             [
              0.5555555555555556,
              "#d8576b"
             ],
             [
              0.6666666666666666,
              "#ed7953"
             ],
             [
              0.7777777777777778,
              "#fb9f3a"
             ],
             [
              0.8888888888888888,
              "#fdca26"
             ],
             [
              1,
              "#f0f921"
             ]
            ],
            "type": "surface"
           }
          ],
          "table": [
           {
            "cells": {
             "fill": {
              "color": "#EBF0F8"
             },
             "line": {
              "color": "white"
             }
            },
            "header": {
             "fill": {
              "color": "#C8D4E3"
             },
             "line": {
              "color": "white"
             }
            },
            "type": "table"
           }
          ]
         },
         "layout": {
          "annotationdefaults": {
           "arrowcolor": "#2a3f5f",
           "arrowhead": 0,
           "arrowwidth": 1
          },
          "autotypenumbers": "strict",
          "coloraxis": {
           "colorbar": {
            "outlinewidth": 0,
            "ticks": ""
           }
          },
          "colorscale": {
           "diverging": [
            [
             0,
             "#8e0152"
            ],
            [
             0.1,
             "#c51b7d"
            ],
            [
             0.2,
             "#de77ae"
            ],
            [
             0.3,
             "#f1b6da"
            ],
            [
             0.4,
             "#fde0ef"
            ],
            [
             0.5,
             "#f7f7f7"
            ],
            [
             0.6,
             "#e6f5d0"
            ],
            [
             0.7,
             "#b8e186"
            ],
            [
             0.8,
             "#7fbc41"
            ],
            [
             0.9,
             "#4d9221"
            ],
            [
             1,
             "#276419"
            ]
           ],
           "sequential": [
            [
             0,
             "#0d0887"
            ],
            [
             0.1111111111111111,
             "#46039f"
            ],
            [
             0.2222222222222222,
             "#7201a8"
            ],
            [
             0.3333333333333333,
             "#9c179e"
            ],
            [
             0.4444444444444444,
             "#bd3786"
            ],
            [
             0.5555555555555556,
             "#d8576b"
            ],
            [
             0.6666666666666666,
             "#ed7953"
            ],
            [
             0.7777777777777778,
             "#fb9f3a"
            ],
            [
             0.8888888888888888,
             "#fdca26"
            ],
            [
             1,
             "#f0f921"
            ]
           ],
           "sequentialminus": [
            [
             0,
             "#0d0887"
            ],
            [
             0.1111111111111111,
             "#46039f"
            ],
            [
             0.2222222222222222,
             "#7201a8"
            ],
            [
             0.3333333333333333,
             "#9c179e"
            ],
            [
             0.4444444444444444,
             "#bd3786"
            ],
            [
             0.5555555555555556,
             "#d8576b"
            ],
            [
             0.6666666666666666,
             "#ed7953"
            ],
            [
             0.7777777777777778,
             "#fb9f3a"
            ],
            [
             0.8888888888888888,
             "#fdca26"
            ],
            [
             1,
             "#f0f921"
            ]
           ]
          },
          "colorway": [
           "#636efa",
           "#EF553B",
           "#00cc96",
           "#ab63fa",
           "#FFA15A",
           "#19d3f3",
           "#FF6692",
           "#B6E880",
           "#FF97FF",
           "#FECB52"
          ],
          "font": {
           "color": "#2a3f5f"
          },
          "geo": {
           "bgcolor": "white",
           "lakecolor": "white",
           "landcolor": "#E5ECF6",
           "showlakes": true,
           "showland": true,
           "subunitcolor": "white"
          },
          "hoverlabel": {
           "align": "left"
          },
          "hovermode": "closest",
          "mapbox": {
           "style": "light"
          },
          "paper_bgcolor": "white",
          "plot_bgcolor": "#E5ECF6",
          "polar": {
           "angularaxis": {
            "gridcolor": "white",
            "linecolor": "white",
            "ticks": ""
           },
           "bgcolor": "#E5ECF6",
           "radialaxis": {
            "gridcolor": "white",
            "linecolor": "white",
            "ticks": ""
           }
          },
          "scene": {
           "xaxis": {
            "backgroundcolor": "#E5ECF6",
            "gridcolor": "white",
            "gridwidth": 2,
            "linecolor": "white",
            "showbackground": true,
            "ticks": "",
            "zerolinecolor": "white"
           },
           "yaxis": {
            "backgroundcolor": "#E5ECF6",
            "gridcolor": "white",
            "gridwidth": 2,
            "linecolor": "white",
            "showbackground": true,
            "ticks": "",
            "zerolinecolor": "white"
           },
           "zaxis": {
            "backgroundcolor": "#E5ECF6",
            "gridcolor": "white",
            "gridwidth": 2,
            "linecolor": "white",
            "showbackground": true,
            "ticks": "",
            "zerolinecolor": "white"
           }
          },
          "shapedefaults": {
           "line": {
            "color": "#2a3f5f"
           }
          },
          "ternary": {
           "aaxis": {
            "gridcolor": "white",
            "linecolor": "white",
            "ticks": ""
           },
           "baxis": {
            "gridcolor": "white",
            "linecolor": "white",
            "ticks": ""
           },
           "bgcolor": "#E5ECF6",
           "caxis": {
            "gridcolor": "white",
            "linecolor": "white",
            "ticks": ""
           }
          },
          "title": {
           "x": 0.05
          },
          "xaxis": {
           "automargin": true,
           "gridcolor": "white",
           "linecolor": "white",
           "ticks": "",
           "title": {
            "standoff": 15
           },
           "zerolinecolor": "white",
           "zerolinewidth": 2
          },
          "yaxis": {
           "automargin": true,
           "gridcolor": "white",
           "linecolor": "white",
           "ticks": "",
           "title": {
            "standoff": 15
           },
           "zerolinecolor": "white",
           "zerolinewidth": 2
          }
         }
        },
        "title": {
         "text": "Confusion Matrix (Percentage) CLOSE INSTANCES"
        },
        "xaxis": {
         "autorange": true,
         "range": [
          -0.5,
          4.5
         ],
         "title": {
          "text": "Predicted Class"
         },
         "type": "linear"
        },
        "yaxis": {
         "autorange": true,
         "range": [
          -0.5,
          4.5
         ],
         "title": {
          "text": "True Class"
         },
         "type": "linear"
        }
       }
      },
      "image/png": "[encoded data removed]",
      "text/html": [
       "<div>                            <div id=\"0838a2a2-8ab6-4d7a-be1a-7c4f67f6d1f6\" class=\"plotly-graph-div\" style=\"height:525px; width:100%;\"></div>            <script type=\"text/javascript\">                require([\"plotly\"], function(Plotly) {                    window.PLOTLYENV=window.PLOTLYENV || {};                                    if (document.getElementById(\"0838a2a2-8ab6-4d7a-be1a-7c4f67f6d1f6\")) {                    Plotly.newPlot(                        \"0838a2a2-8ab6-4d7a-be1a-7c4f67f6d1f6\",                        [{\"colorbar\":{\"tickangle\":-45,\"tickmode\":\"array\",\"ticktext\":[\"0%\",\"25%\",\"50%\",\"75%\",\"100%\"],\"tickvals\":[0,25,50,75,100]},\"colorscale\":[[0.0,\"rgb(247,251,255)\"],[0.125,\"rgb(222,235,247)\"],[0.25,\"rgb(198,219,239)\"],[0.375,\"rgb(158,202,225)\"],[0.5,\"rgb(107,174,214)\"],[0.625,\"rgb(66,146,198)\"],[0.75,\"rgb(33,113,181)\"],[0.875,\"rgb(8,81,156)\"],[1.0,\"rgb(8,48,107)\"]],\"hoverongaps\":false,\"x\":[0,1,2,3,4],\"y\":[0,1,2,3,4],\"z\":[[98.17543323917857,0.18322009313688067,0.4580502328422017,0.12214672875792046,1.061149706084434],[1.8483283500951346,83.935852133732,2.038597444957869,0.0,12.177222071215004],[0.9587020648967551,2.359882005899705,95.87020648967551,0.07374631268436578,0.7374631268436578],[2.287581699346405,3.594771241830065,57.84313725490197,34.64052287581699,1.6339869281045754],[1.3582219639744335,0.10894828588030214,0.5883207437536316,0.05084253341080767,97.89366647298083]],\"zmax\":100,\"zmin\":0,\"type\":\"heatmap\"}],                        {\"template\":{\"data\":{\"histogram2dcontour\":[{\"type\":\"histogram2dcontour\",\"colorbar\":{\"outlinewidth\":0,\"ticks\":\"\"},\"colorscale\":[[0.0,\"#0d0887\"],[0.1111111111111111,\"#46039f\"],[0.2222222222222222,\"#7201a8\"],[0.3333333333333333,\"#9c179e\"],[0.4444444444444444,\"#bd3786\"],[0.5555555555555556,\"#d8576b\"],[0.6666666666666666,\"#ed7953\"],[0.7777777777777778,\"#fb9f3a\"],[0.8888888888888888,\"#fdca26\"],[1.0,\"#f0f921\"]]}],\"choropleth\":[{\"type\":\"choropleth\",\"colorbar\":{\"outlinewidth\":0,\"ticks\":\"\"}}],\"histogram2d\":[{\"type\":\"histogram2d\",\"colorbar\":{\"outlinewidth\":0,\"ticks\":\"\"},\"colorscale\":[[0.0,\"#0d0887\"],[0.1111111111111111,\"#46039f\"],[0.2222222222222222,\"#7201a8\"],[0.3333333333333333,\"#9c179e\"],[0.4444444444444444,\"#bd3786\"],[0.5555555555555556,\"#d8576b\"],[0.6666666666666666,\"#ed7953\"],[0.7777777777777778,\"#fb9f3a\"],[0.8888888888888888,\"#fdca26\"],[1.0,\"#f0f921\"]]}],\"heatmap\":[{\"type\":\"heatmap\",\"colorbar\":{\"outlinewidth\":0,\"ticks\":\"\"},\"colorscale\":[[0.0,\"#0d0887\"],[0.1111111111111111,\"#46039f\"],[0.2222222222222222,\"#7201a8\"],[0.3333333333333333,\"#9c179e\"],[0.4444444444444444,\"#bd3786\"],[0.5555555555555556,\"#d8576b\"],[0.6666666666666666,\"#ed7953\"],[0.7777777777777778,\"#fb9f3a\"],[0.8888888888888888,\"#fdca26\"],[1.0,\"#f0f921\"]]}],\"heatmapgl\":[{\"type\":\"heatmapgl\",\"colorbar\":{\"outlinewidth\":0,\"ticks\":\"\"},\"colorscale\":[[0.0,\"#0d0887\"],[0.1111111111111111,\"#46039f\"],[0.2222222222222222,\"#7201a8\"],[0.3333333333333333,\"#9c179e\"],[0.4444444444444444,\"#bd3786\"],[0.5555555555555556,\"#d8576b\"],[0.6666666666666666,\"#ed7953\"],[0.7777777777777778,\"#fb9f3a\"],[0.8888888888888888,\"#fdca26\"],[1.0,\"#f0f921\"]]}],\"contourcarpet\":[{\"type\":\"contourcarpet\",\"colorbar\":{\"outlinewidth\":0,\"ticks\":\"\"}}],\"contour\":[{\"type\":\"contour\",\"colorbar\":{\"outlinewidth\":0,\"ticks\":\"\"},\"colorscale\":[[0.0,\"#0d0887\"],[0.1111111111111111,\"#46039f\"],[0.2222222222222222,\"#7201a8\"],[0.3333333333333333,\"#9c179e\"],[0.4444444444444444,\"#bd3786\"],[0.5555555555555556,\"#d8576b\"],[0.6666666666666666,\"#ed7953\"],[0.7777777777777778,\"#fb9f3a\"],[0.8888888888888888,\"#fdca26\"],[1.0,\"#f0f921\"]]}],\"surface\":[{\"type\":\"surface\",\"colorbar\":{\"outlinewidth\":0,\"ticks\":\"\"},\"colorscale\":[[0.0,\"#0d0887\"],[0.1111111111111111,\"#46039f\"],[0.2222222222222222,\"#7201a8\"],[0.3333333333333333,\"#9c179e\"],[0.4444444444444444,\"#bd3786\"],[0.5555555555555556,\"#d8576b\"],[0.6666666666666666,\"#ed7953\"],[0.7777777777777778,\"#fb9f3a\"],[0.8888888888888888,\"#fdca26\"],[1.0,\"#f0f921\"]]}],\"mesh3d\":[{\"type\":\"mesh3d\",\"colorbar\":{\"outlinewidth\":0,\"ticks\":\"\"}}],\"scatter\":[{\"fillpattern\":{\"fillmode\":\"overlay\",\"size\":10,\"solidity\":0.2},\"type\":\"scatter\"}],\"parcoords\":[{\"type\":\"parcoords\",\"line\":{\"colorbar\":{\"outlinewidth\":0,\"ticks\":\"\"}}}],\"scatterpolargl\":[{\"type\":\"scatterpolargl\",\"marker\":{\"colorbar\":{\"outlinewidth\":0,\"ticks\":\"\"}}}],\"bar\":[{\"error_x\":{\"color\":\"#2a3f5f\"},\"error_y\":{\"color\":\"#2a3f5f\"},\"marker\":{\"line\":{\"color\":\"#E5ECF6\",\"width\":0.5},\"pattern\":{\"fillmode\":\"overlay\",\"size\":10,\"solidity\":0.2}},\"type\":\"bar\"}],\"scattergeo\":[{\"type\":\"scattergeo\",\"marker\":{\"colorbar\":{\"outlinewidth\":0,\"ticks\":\"\"}}}],\"scatterpolar\":[{\"type\":\"scatterpolar\",\"marker\":{\"colorbar\":{\"outlinewidth\":0,\"ticks\":\"\"}}}],\"histogram\":[{\"marker\":{\"pattern\":{\"fillmode\":\"overlay\",\"size\":10,\"solidity\":0.2}},\"type\":\"histogram\"}],\"scattergl\":[{\"type\":\"scattergl\",\"marker\":{\"colorbar\":{\"outlinewidth\":0,\"ticks\":\"\"}}}],\"scatter3d\":[{\"type\":\"scatter3d\",\"line\":{\"colorbar\":{\"outlinewidth\":0,\"ticks\":\"\"}},\"marker\":{\"colorbar\":{\"outlinewidth\":0,\"ticks\":\"\"}}}],\"scattermapbox\":[{\"type\":\"scattermapbox\",\"marker\":{\"colorbar\":{\"outlinewidth\":0,\"ticks\":\"\"}}}],\"scatterternary\":[{\"type\":\"scatterternary\",\"marker\":{\"colorbar\":{\"outlinewidth\":0,\"ticks\":\"\"}}}],\"scattercarpet\":[{\"type\":\"scattercarpet\",\"marker\":{\"colorbar\":{\"outlinewidth\":0,\"ticks\":\"\"}}}],\"carpet\":[{\"aaxis\":{\"endlinecolor\":\"#2a3f5f\",\"gridcolor\":\"white\",\"linecolor\":\"white\",\"minorgridcolor\":\"white\",\"startlinecolor\":\"#2a3f5f\"},\"baxis\":{\"endlinecolor\":\"#2a3f5f\",\"gridcolor\":\"white\",\"linecolor\":\"white\",\"minorgridcolor\":\"white\",\"startlinecolor\":\"#2a3f5f\"},\"type\":\"carpet\"}],\"table\":[{\"cells\":{\"fill\":{\"color\":\"#EBF0F8\"},\"line\":{\"color\":\"white\"}},\"header\":{\"fill\":{\"color\":\"#C8D4E3\"},\"line\":{\"color\":\"white\"}},\"type\":\"table\"}],\"barpolar\":[{\"marker\":{\"line\":{\"color\":\"#E5ECF6\",\"width\":0.5},\"pattern\":{\"fillmode\":\"overlay\",\"size\":10,\"solidity\":0.2}},\"type\":\"barpolar\"}],\"pie\":[{\"automargin\":true,\"type\":\"pie\"}]},\"layout\":{\"autotypenumbers\":\"strict\",\"colorway\":[\"#636efa\",\"#EF553B\",\"#00cc96\",\"#ab63fa\",\"#FFA15A\",\"#19d3f3\",\"#FF6692\",\"#B6E880\",\"#FF97FF\",\"#FECB52\"],\"font\":{\"color\":\"#2a3f5f\"},\"hovermode\":\"closest\",\"hoverlabel\":{\"align\":\"left\"},\"paper_bgcolor\":\"white\",\"plot_bgcolor\":\"#E5ECF6\",\"polar\":{\"bgcolor\":\"#E5ECF6\",\"angularaxis\":{\"gridcolor\":\"white\",\"linecolor\":\"white\",\"ticks\":\"\"},\"radialaxis\":{\"gridcolor\":\"white\",\"linecolor\":\"white\",\"ticks\":\"\"}},\"ternary\":{\"bgcolor\":\"#E5ECF6\",\"aaxis\":{\"gridcolor\":\"white\",\"linecolor\":\"white\",\"ticks\":\"\"},\"baxis\":{\"gridcolor\":\"white\",\"linecolor\":\"white\",\"ticks\":\"\"},\"caxis\":{\"gridcolor\":\"white\",\"linecolor\":\"white\",\"ticks\":\"\"}},\"coloraxis\":{\"colorbar\":{\"outlinewidth\":0,\"ticks\":\"\"}},\"colorscale\":{\"sequential\":[[0.0,\"#0d0887\"],[0.1111111111111111,\"#46039f\"],[0.2222222222222222,\"#7201a8\"],[0.3333333333333333,\"#9c179e\"],[0.4444444444444444,\"#bd3786\"],[0.5555555555555556,\"#d8576b\"],[0.6666666666666666,\"#ed7953\"],[0.7777777777777778,\"#fb9f3a\"],[0.8888888888888888,\"#fdca26\"],[1.0,\"#f0f921\"]],\"sequentialminus\":[[0.0,\"#0d0887\"],[0.1111111111111111,\"#46039f\"],[0.2222222222222222,\"#7201a8\"],[0.3333333333333333,\"#9c179e\"],[0.4444444444444444,\"#bd3786\"],[0.5555555555555556,\"#d8576b\"],[0.6666666666666666,\"#ed7953\"],[0.7777777777777778,\"#fb9f3a\"],[0.8888888888888888,\"#fdca26\"],[1.0,\"#f0f921\"]],\"diverging\":[[0,\"#8e0152\"],[0.1,\"#c51b7d\"],[0.2,\"#de77ae\"],[0.3,\"#f1b6da\"],[0.4,\"#fde0ef\"],[0.5,\"#f7f7f7\"],[0.6,\"#e6f5d0\"],[0.7,\"#b8e186\"],[0.8,\"#7fbc41\"],[0.9,\"#4d9221\"],[1,\"#276419\"]]},\"xaxis\":{\"gridcolor\":\"white\",\"linecolor\":\"white\",\"ticks\":\"\",\"title\":{\"standoff\":15},\"zerolinecolor\":\"white\",\"automargin\":true,\"zerolinewidth\":2},\"yaxis\":{\"gridcolor\":\"white\",\"linecolor\":\"white\",\"ticks\":\"\",\"title\":{\"standoff\":15},\"zerolinecolor\":\"white\",\"automargin\":true,\"zerolinewidth\":2},\"scene\":{\"xaxis\":{\"backgroundcolor\":\"#E5ECF6\",\"gridcolor\":\"white\",\"linecolor\":\"white\",\"showbackground\":true,\"ticks\":\"\",\"zerolinecolor\":\"white\",\"gridwidth\":2},\"yaxis\":{\"backgroundcolor\":\"#E5ECF6\",\"gridcolor\":\"white\",\"linecolor\":\"white\",\"showbackground\":true,\"ticks\":\"\",\"zerolinecolor\":\"white\",\"gridwidth\":2},\"zaxis\":{\"backgroundcolor\":\"#E5ECF6\",\"gridcolor\":\"white\",\"linecolor\":\"white\",\"showbackground\":true,\"ticks\":\"\",\"zerolinecolor\":\"white\",\"gridwidth\":2}},\"shapedefaults\":{\"line\":{\"color\":\"#2a3f5f\"}},\"annotationdefaults\":{\"arrowcolor\":\"#2a3f5f\",\"arrowhead\":0,\"arrowwidth\":1},\"geo\":{\"bgcolor\":\"white\",\"landcolor\":\"#E5ECF6\",\"subunitcolor\":\"white\",\"showland\":true,\"showlakes\":true,\"lakecolor\":\"white\"},\"title\":{\"x\":0.05},\"mapbox\":{\"style\":\"light\"}}},\"title\":{\"text\":\"Confusion Matrix (Percentage) CLOSE INSTANCES\"},\"xaxis\":{\"title\":{\"text\":\"Predicted Class\"}},\"yaxis\":{\"title\":{\"text\":\"True Class\"}},\"annotations\":[{\"font\":{\"color\":\"black\"},\"showarrow\":false,\"text\":\"98.18%\",\"x\":0,\"y\":0},{\"font\":{\"color\":\"black\"},\"showarrow\":false,\"text\":\"0.18%\",\"x\":1,\"y\":0},{\"font\":{\"color\":\"black\"},\"showarrow\":false,\"text\":\"0.46%\",\"x\":2,\"y\":0},{\"font\":{\"color\":\"black\"},\"showarrow\":false,\"text\":\"0.12%\",\"x\":3,\"y\":0},{\"font\":{\"color\":\"black\"},\"showarrow\":false,\"text\":\"1.06%\",\"x\":4,\"y\":0},{\"font\":{\"color\":\"black\"},\"showarrow\":false,\"text\":\"1.85%\",\"x\":0,\"y\":1},{\"font\":{\"color\":\"black\"},\"showarrow\":false,\"text\":\"83.94%\",\"x\":1,\"y\":1},{\"font\":{\"color\":\"black\"},\"showarrow\":false,\"text\":\"2.04%\",\"x\":2,\"y\":1},{\"font\":{\"color\":\"black\"},\"showarrow\":false,\"text\":\"0.00%\",\"x\":3,\"y\":1},{\"font\":{\"color\":\"black\"},\"showarrow\":false,\"text\":\"12.18%\",\"x\":4,\"y\":1},{\"font\":{\"color\":\"black\"},\"showarrow\":false,\"text\":\"0.96%\",\"x\":0,\"y\":2},{\"font\":{\"color\":\"black\"},\"showarrow\":false,\"text\":\"2.36%\",\"x\":1,\"y\":2},{\"font\":{\"color\":\"black\"},\"showarrow\":false,\"text\":\"95.87%\",\"x\":2,\"y\":2},{\"font\":{\"color\":\"black\"},\"showarrow\":false,\"text\":\"0.07%\",\"x\":3,\"y\":2},{\"font\":{\"color\":\"black\"},\"showarrow\":false,\"text\":\"0.74%\",\"x\":4,\"y\":2},{\"font\":{\"color\":\"black\"},\"showarrow\":false,\"text\":\"2.29%\",\"x\":0,\"y\":3},{\"font\":{\"color\":\"black\"},\"showarrow\":false,\"text\":\"3.59%\",\"x\":1,\"y\":3},{\"font\":{\"color\":\"black\"},\"showarrow\":false,\"text\":\"57.84%\",\"x\":2,\"y\":3},{\"font\":{\"color\":\"black\"},\"showarrow\":false,\"text\":\"34.64%\",\"x\":3,\"y\":3},{\"font\":{\"color\":\"black\"},\"showarrow\":false,\"text\":\"1.63%\",\"x\":4,\"y\":3},{\"font\":{\"color\":\"black\"},\"showarrow\":false,\"text\":\"1.36%\",\"x\":0,\"y\":4},{\"font\":{\"color\":\"black\"},\"showarrow\":false,\"text\":\"0.11%\",\"x\":1,\"y\":4},{\"font\":{\"color\":\"black\"},\"showarrow\":false,\"text\":\"0.59%\",\"x\":2,\"y\":4},{\"font\":{\"color\":\"black\"},\"showarrow\":false,\"text\":\"0.05%\",\"x\":3,\"y\":4},{\"font\":{\"color\":\"black\"},\"showarrow\":false,\"text\":\"97.89%\",\"x\":4,\"y\":4}]},                        {\"responsive\": true}                    ).then(function(){\n",
       "                            \n",
       "var gd = document.getElementById('0838a2a2-8ab6-4d7a-be1a-7c4f67f6d1f6');\n",
       "var x = new MutationObserver(function (mutations, observer) {{\n",
       "        var display = window.getComputedStyle(gd).display;\n",
       "        if (!display || display === 'none') {{\n",
       "            console.log([gd, 'removed!']);\n",
       "            Plotly.purge(gd);\n",
       "            observer.disconnect();\n",
       "        }}\n",
       "}});\n",
       "\n",
       "// Listen for the removal of the full notebook cells\n",
       "var notebookContainer = gd.closest('#notebook-container');\n",
       "if (notebookContainer) {{\n",
       "    x.observe(notebookContainer, {childList: true});\n",
       "}}\n",
       "\n",
       "// Listen for the clearing of the current output cell\n",
       "var outputEl = gd.closest('.output');\n",
       "if (outputEl) {{\n",
       "    x.observe(outputEl, {childList: true});\n",
       "}}\n",
       "\n",
       "                        })                };                });            </script>        </div>"
      ]
     },
     "metadata": {},
     "output_type": "display_data"
    }
   ],
   "source": [
    "import plotly.graph_objects as go\n",
    "\n",
    "# Assuming you have a DataFrame 'close_matches' with 'class' and 'class_truth' columns\n",
    "conf_matrix_data = close_df[['class', 'class_truth']]\n",
    "\n",
    "# Compute the confusion matrix\n",
    "conf_matrix = pd.crosstab(conf_matrix_data['class_truth'], conf_matrix_data['class'], rownames=['True'], colnames=['Predicted'], normalize='index') * 100\n",
    "\n",
    "# Create a heatmap\n",
    "fig = go.Figure(data=go.Heatmap(\n",
    "    z=conf_matrix.values,\n",
    "    x=conf_matrix.columns,\n",
    "    y=conf_matrix.index,\n",
    "    colorscale='Blues',  # You can change the color scale as needed\n",
    "    hoverongaps=False,\n",
    "    zmin=0,\n",
    "    zmax=100,\n",
    "    colorbar=dict(\n",
    "        tickmode='array',\n",
    "        tickvals=[0, 25, 50, 75, 100],\n",
    "        ticktext=['0%', '25%', '50%', '75%', '100%'],\n",
    "        tickangle=-45,\n",
    "    )\n",
    "))\n",
    "\n",
    "# Add text annotations with percentage values\n",
    "annotations = []\n",
    "for i, true_class in enumerate(conf_matrix.index):\n",
    "    for j, pred_class in enumerate(conf_matrix.columns):\n",
    "        annotations.append(\n",
    "            dict(\n",
    "                x=pred_class,\n",
    "                y=true_class,\n",
    "                text=f'{conf_matrix.iloc[i, j]:.2f}%',  # Format as percentage with two decimal places\n",
    "                showarrow=False,\n",
    "                font=dict(color='black')  # Change the font color as needed\n",
    "            )\n",
    "        )\n",
    "\n",
    "fig.update_layout(\n",
    "    title='Confusion Matrix (Percentage) CLOSE INSTANCES',\n",
    "    xaxis_title='Predicted Class',\n",
    "    yaxis_title='True Class',\n",
    "    annotations=annotations\n",
    ")\n",
    "\n",
    "# Show the figure\n",
    "fig.show()\n"
   ]
  },
  {
   "cell_type": "code",
   "execution_count": 8,
   "id": "c6efe94a-4323-4a4c-bee0-6d208977db43",
   "metadata": {},
   "outputs": [],
   "source": [
    "# FAR AWAY INSTANCES"
   ]
  },
  {
   "cell_type": "code",
   "execution_count": 12,
   "id": "895ac684",
   "metadata": {},
   "outputs": [
    {
     "data": {
      "application/vnd.plotly.v1+json": {
       "config": {
        "plotlyServerURL": "https://plot.ly"
       },
       "data": [
        {
         "colorbar": {
          "tickangle": -45,
          "tickmode": "array",
          "ticktext": [
           "0%",
           "25%",
           "50%",
           "75%",
           "100%"
          ],
          "tickvals": [
           0,
           25,
           50,
           75,
           100
          ]
         },
         "colorscale": [
          [
           0,
           "rgb(247,251,255)"
          ],
          [
           0.125,
           "rgb(222,235,247)"
          ],
          [
           0.25,
           "rgb(198,219,239)"
          ],
          [
           0.375,
           "rgb(158,202,225)"
          ],
          [
           0.5,
           "rgb(107,174,214)"
          ],
          [
           0.625,
           "rgb(66,146,198)"
          ],
          [
           0.75,
           "rgb(33,113,181)"
          ],
          [
           0.875,
           "rgb(8,81,156)"
          ],
          [
           1,
           "rgb(8,48,107)"
          ]
         ],
         "hoverongaps": false,
         "type": "heatmap",
         "x": [
          0,
          1,
          2,
          3,
          4
         ],
         "y": [
          0,
          1,
          2,
          3,
          4
         ],
         "z": [
          [
           96.5697172359307,
           0.11023940323736381,
           0.2811104782552777,
           0.11942602017381079,
           2.9195068624028515
          ],
          [
           3.019213174748399,
           48.83348581884721,
           7.525160109789571,
           0,
           40.62214089661482
          ],
          [
           0.4087552742616034,
           0.8241033755274262,
           96.88159282700421,
           0.5208333333333333,
           1.3647151898734178
          ],
          [
           1.1531531531531531,
           0.18018018018018017,
           23.35135135135135,
           72.21621621621621,
           3.099099099099099
          ],
          [
           3.4217366927742567,
           0.09684160451247897,
           0.5623608963794832,
           0.17159652729404168,
           95.74746427903975
          ]
         ],
         "zmax": 100,
         "zmin": 0
        }
       ],
       "layout": {
        "annotations": [
         {
          "font": {
           "color": "black"
          },
          "showarrow": false,
          "text": "96.57%",
          "x": 0,
          "y": 0
         },
         {
          "font": {
           "color": "black"
          },
          "showarrow": false,
          "text": "0.11%",
          "x": 1,
          "y": 0
         },
         {
          "font": {
           "color": "black"
          },
          "showarrow": false,
          "text": "0.28%",
          "x": 2,
          "y": 0
         },
         {
          "font": {
           "color": "black"
          },
          "showarrow": false,
          "text": "0.12%",
          "x": 3,
          "y": 0
         },
         {
          "font": {
           "color": "black"
          },
          "showarrow": false,
          "text": "2.92%",
          "x": 4,
          "y": 0
         },
         {
          "font": {
           "color": "black"
          },
          "showarrow": false,
          "text": "3.02%",
          "x": 0,
          "y": 1
         },
         {
          "font": {
           "color": "black"
          },
          "showarrow": false,
          "text": "48.83%",
          "x": 1,
          "y": 1
         },
         {
          "font": {
           "color": "black"
          },
          "showarrow": false,
          "text": "7.53%",
          "x": 2,
          "y": 1
         },
         {
          "font": {
           "color": "black"
          },
          "showarrow": false,
          "text": "0.00%",
          "x": 3,
          "y": 1
         },
         {
          "font": {
           "color": "black"
          },
          "showarrow": false,
          "text": "40.62%",
          "x": 4,
          "y": 1
         },
         {
          "font": {
           "color": "black"
          },
          "showarrow": false,
          "text": "0.41%",
          "x": 0,
          "y": 2
         },
         {
          "font": {
           "color": "black"
          },
          "showarrow": false,
          "text": "0.82%",
          "x": 1,
          "y": 2
         },
         {
          "font": {
           "color": "black"
          },
          "showarrow": false,
          "text": "96.88%",
          "x": 2,
          "y": 2
         },
         {
          "font": {
           "color": "black"
          },
          "showarrow": false,
          "text": "0.52%",
          "x": 3,
          "y": 2
         },
         {
          "font": {
           "color": "black"
          },
          "showarrow": false,
          "text": "1.36%",
          "x": 4,
          "y": 2
         },
         {
          "font": {
           "color": "black"
          },
          "showarrow": false,
          "text": "1.15%",
          "x": 0,
          "y": 3
         },
         {
          "font": {
           "color": "black"
          },
          "showarrow": false,
          "text": "0.18%",
          "x": 1,
          "y": 3
         },
         {
          "font": {
           "color": "black"
          },
          "showarrow": false,
          "text": "23.35%",
          "x": 2,
          "y": 3
         },
         {
          "font": {
           "color": "black"
          },
          "showarrow": false,
          "text": "72.22%",
          "x": 3,
          "y": 3
         },
         {
          "font": {
           "color": "black"
          },
          "showarrow": false,
          "text": "3.10%",
          "x": 4,
          "y": 3
         },
         {
          "font": {
           "color": "black"
          },
          "showarrow": false,
          "text": "3.42%",
          "x": 0,
          "y": 4
         },
         {
          "font": {
           "color": "black"
          },
          "showarrow": false,
          "text": "0.10%",
          "x": 1,
          "y": 4
         },
         {
          "font": {
           "color": "black"
          },
          "showarrow": false,
          "text": "0.56%",
          "x": 2,
          "y": 4
         },
         {
          "font": {
           "color": "black"
          },
          "showarrow": false,
          "text": "0.17%",
          "x": 3,
          "y": 4
         },
         {
          "font": {
           "color": "black"
          },
          "showarrow": false,
          "text": "95.75%",
          "x": 4,
          "y": 4
         }
        ],
        "autosize": true,
        "template": {
         "data": {
          "bar": [
           {
            "error_x": {
             "color": "#2a3f5f"
            },
            "error_y": {
             "color": "#2a3f5f"
            },
            "marker": {
             "line": {
              "color": "#E5ECF6",
              "width": 0.5
             },
             "pattern": {
              "fillmode": "overlay",
              "size": 10,
              "solidity": 0.2
             }
            },
            "type": "bar"
           }
          ],
          "barpolar": [
           {
            "marker": {
             "line": {
              "color": "#E5ECF6",
              "width": 0.5
             },
             "pattern": {
              "fillmode": "overlay",
              "size": 10,
              "solidity": 0.2
             }
            },
            "type": "barpolar"
           }
          ],
          "carpet": [
           {
            "aaxis": {
             "endlinecolor": "#2a3f5f",
             "gridcolor": "white",
             "linecolor": "white",
             "minorgridcolor": "white",
             "startlinecolor": "#2a3f5f"
            },
            "baxis": {
             "endlinecolor": "#2a3f5f",
             "gridcolor": "white",
             "linecolor": "white",
             "minorgridcolor": "white",
             "startlinecolor": "#2a3f5f"
            },
            "type": "carpet"
           }
          ],
          "choropleth": [
           {
            "colorbar": {
             "outlinewidth": 0,
             "ticks": ""
            },
            "type": "choropleth"
           }
          ],
          "contour": [
           {
            "colorbar": {
             "outlinewidth": 0,
             "ticks": ""
            },
            "colorscale": [
             [
              0,
              "#0d0887"
             ],
             [
              0.1111111111111111,
              "#46039f"
             ],
             [
              0.2222222222222222,
              "#7201a8"
             ],
             [
              0.3333333333333333,
              "#9c179e"
             ],
             [
              0.4444444444444444,
              "#bd3786"
             ],
             [
              0.5555555555555556,
              "#d8576b"
             ],
             [
              0.6666666666666666,
              "#ed7953"
             ],
             [
              0.7777777777777778,
              "#fb9f3a"
             ],
             [
              0.8888888888888888,
              "#fdca26"
             ],
             [
              1,
              "#f0f921"
             ]
            ],
            "type": "contour"
           }
          ],
          "contourcarpet": [
           {
            "colorbar": {
             "outlinewidth": 0,
             "ticks": ""
            },
            "type": "contourcarpet"
           }
          ],
          "heatmap": [
           {
            "colorbar": {
             "outlinewidth": 0,
             "ticks": ""
            },
            "colorscale": [
             [
              0,
              "#0d0887"
             ],
             [
              0.1111111111111111,
              "#46039f"
             ],
             [
              0.2222222222222222,
              "#7201a8"
             ],
             [
              0.3333333333333333,
              "#9c179e"
             ],
             [
              0.4444444444444444,
              "#bd3786"
             ],
             [
              0.5555555555555556,
              "#d8576b"
             ],
             [
              0.6666666666666666,
              "#ed7953"
             ],
             [
              0.7777777777777778,
              "#fb9f3a"
             ],
             [
              0.8888888888888888,
              "#fdca26"
             ],
             [
              1,
              "#f0f921"
             ]
            ],
            "type": "heatmap"
           }
          ],
          "heatmapgl": [
           {
            "colorbar": {
             "outlinewidth": 0,
             "ticks": ""
            },
            "colorscale": [
             [
              0,
              "#0d0887"
             ],
             [
              0.1111111111111111,
              "#46039f"
             ],
             [
              0.2222222222222222,
              "#7201a8"
             ],
             [
              0.3333333333333333,
              "#9c179e"
             ],
             [
              0.4444444444444444,
              "#bd3786"
             ],
             [
              0.5555555555555556,
              "#d8576b"
             ],
             [
              0.6666666666666666,
              "#ed7953"
             ],
             [
              0.7777777777777778,
              "#fb9f3a"
             ],
             [
              0.8888888888888888,
              "#fdca26"
             ],
             [
              1,
              "#f0f921"
             ]
            ],
            "type": "heatmapgl"
           }
          ],
          "histogram": [
           {
            "marker": {
             "pattern": {
              "fillmode": "overlay",
              "size": 10,
              "solidity": 0.2
             }
            },
            "type": "histogram"
           }
          ],
          "histogram2d": [
           {
            "colorbar": {
             "outlinewidth": 0,
             "ticks": ""
            },
            "colorscale": [
             [
              0,
              "#0d0887"
             ],
             [
              0.1111111111111111,
              "#46039f"
             ],
             [
              0.2222222222222222,
              "#7201a8"
             ],
             [
              0.3333333333333333,
              "#9c179e"
             ],
             [
              0.4444444444444444,
              "#bd3786"
             ],
             [
              0.5555555555555556,
              "#d8576b"
             ],
             [
              0.6666666666666666,
              "#ed7953"
             ],
             [
              0.7777777777777778,
              "#fb9f3a"
             ],
             [
              0.8888888888888888,
              "#fdca26"
             ],
             [
              1,
              "#f0f921"
             ]
            ],
            "type": "histogram2d"
           }
          ],
          "histogram2dcontour": [
           {
            "colorbar": {
             "outlinewidth": 0,
             "ticks": ""
            },
            "colorscale": [
             [
              0,
              "#0d0887"
             ],
             [
              0.1111111111111111,
              "#46039f"
             ],
             [
              0.2222222222222222,
              "#7201a8"
             ],
             [
              0.3333333333333333,
              "#9c179e"
             ],
             [
              0.4444444444444444,
              "#bd3786"
             ],
             [
              0.5555555555555556,
              "#d8576b"
             ],
             [
              0.6666666666666666,
              "#ed7953"
             ],
             [
              0.7777777777777778,
              "#fb9f3a"
             ],
             [
              0.8888888888888888,
              "#fdca26"
             ],
             [
              1,
              "#f0f921"
             ]
            ],
            "type": "histogram2dcontour"
           }
          ],
          "mesh3d": [
           {
            "colorbar": {
             "outlinewidth": 0,
             "ticks": ""
            },
            "type": "mesh3d"
           }
          ],
          "parcoords": [
           {
            "line": {
             "colorbar": {
              "outlinewidth": 0,
              "ticks": ""
             }
            },
            "type": "parcoords"
           }
          ],
          "pie": [
           {
            "automargin": true,
            "type": "pie"
           }
          ],
          "scatter": [
           {
            "fillpattern": {
             "fillmode": "overlay",
             "size": 10,
             "solidity": 0.2
            },
            "type": "scatter"
           }
          ],
          "scatter3d": [
           {
            "line": {
             "colorbar": {
              "outlinewidth": 0,
              "ticks": ""
             }
            },
            "marker": {
             "colorbar": {
              "outlinewidth": 0,
              "ticks": ""
             }
            },
            "type": "scatter3d"
           }
          ],
          "scattercarpet": [
           {
            "marker": {
             "colorbar": {
              "outlinewidth": 0,
              "ticks": ""
             }
            },
            "type": "scattercarpet"
           }
          ],
          "scattergeo": [
           {
            "marker": {
             "colorbar": {
              "outlinewidth": 0,
              "ticks": ""
             }
            },
            "type": "scattergeo"
           }
          ],
          "scattergl": [
           {
            "marker": {
             "colorbar": {
              "outlinewidth": 0,
              "ticks": ""
             }
            },
            "type": "scattergl"
           }
          ],
          "scattermapbox": [
           {
            "marker": {
             "colorbar": {
              "outlinewidth": 0,
              "ticks": ""
             }
            },
            "type": "scattermapbox"
           }
          ],
          "scatterpolar": [
           {
            "marker": {
             "colorbar": {
              "outlinewidth": 0,
              "ticks": ""
             }
            },
            "type": "scatterpolar"
           }
          ],
          "scatterpolargl": [
           {
            "marker": {
             "colorbar": {
              "outlinewidth": 0,
              "ticks": ""
             }
            },
            "type": "scatterpolargl"
           }
          ],
          "scatterternary": [
           {
            "marker": {
             "colorbar": {
              "outlinewidth": 0,
              "ticks": ""
             }
            },
            "type": "scatterternary"
           }
          ],
          "surface": [
           {
            "colorbar": {
             "outlinewidth": 0,
             "ticks": ""
            },
            "colorscale": [
             [
              0,
              "#0d0887"
             ],
             [
              0.1111111111111111,
              "#46039f"
             ],
             [
              0.2222222222222222,
              "#7201a8"
             ],
             [
              0.3333333333333333,
              "#9c179e"
             ],
             [
              0.4444444444444444,
              "#bd3786"
             ],
             [
              0.5555555555555556,
              "#d8576b"
             ],
             [
              0.6666666666666666,
              "#ed7953"
             ],
             [
              0.7777777777777778,
              "#fb9f3a"
             ],
             [
              0.8888888888888888,
              "#fdca26"
             ],
             [
              1,
              "#f0f921"
             ]
            ],
            "type": "surface"
           }
          ],
          "table": [
           {
            "cells": {
             "fill": {
              "color": "#EBF0F8"
             },
             "line": {
              "color": "white"
             }
            },
            "header": {
             "fill": {
              "color": "#C8D4E3"
             },
             "line": {
              "color": "white"
             }
            },
            "type": "table"
           }
          ]
         },
         "layout": {
          "annotationdefaults": {
           "arrowcolor": "#2a3f5f",
           "arrowhead": 0,
           "arrowwidth": 1
          },
          "autotypenumbers": "strict",
          "coloraxis": {
           "colorbar": {
            "outlinewidth": 0,
            "ticks": ""
           }
          },
          "colorscale": {
           "diverging": [
            [
             0,
             "#8e0152"
            ],
            [
             0.1,
             "#c51b7d"
            ],
            [
             0.2,
             "#de77ae"
            ],
            [
             0.3,
             "#f1b6da"
            ],
            [
             0.4,
             "#fde0ef"
            ],
            [
             0.5,
             "#f7f7f7"
            ],
            [
             0.6,
             "#e6f5d0"
            ],
            [
             0.7,
             "#b8e186"
            ],
            [
             0.8,
             "#7fbc41"
            ],
            [
             0.9,
             "#4d9221"
            ],
            [
             1,
             "#276419"
            ]
           ],
           "sequential": [
            [
             0,
             "#0d0887"
            ],
            [
             0.1111111111111111,
             "#46039f"
            ],
            [
             0.2222222222222222,
             "#7201a8"
            ],
            [
             0.3333333333333333,
             "#9c179e"
            ],
            [
             0.4444444444444444,
             "#bd3786"
            ],
            [
             0.5555555555555556,
             "#d8576b"
            ],
            [
             0.6666666666666666,
             "#ed7953"
            ],
            [
             0.7777777777777778,
             "#fb9f3a"
            ],
            [
             0.8888888888888888,
             "#fdca26"
            ],
            [
             1,
             "#f0f921"
            ]
           ],
           "sequentialminus": [
            [
             0,
             "#0d0887"
            ],
            [
             0.1111111111111111,
             "#46039f"
            ],
            [
             0.2222222222222222,
             "#7201a8"
            ],
            [
             0.3333333333333333,
             "#9c179e"
            ],
            [
             0.4444444444444444,
             "#bd3786"
            ],
            [
             0.5555555555555556,
             "#d8576b"
            ],
            [
             0.6666666666666666,
             "#ed7953"
            ],
            [
             0.7777777777777778,
             "#fb9f3a"
            ],
            [
             0.8888888888888888,
             "#fdca26"
            ],
            [
             1,
             "#f0f921"
            ]
           ]
          },
          "colorway": [
           "#636efa",
           "#EF553B",
           "#00cc96",
           "#ab63fa",
           "#FFA15A",
           "#19d3f3",
           "#FF6692",
           "#B6E880",
           "#FF97FF",
           "#FECB52"
          ],
          "font": {
           "color": "#2a3f5f"
          },
          "geo": {
           "bgcolor": "white",
           "lakecolor": "white",
           "landcolor": "#E5ECF6",
           "showlakes": true,
           "showland": true,
           "subunitcolor": "white"
          },
          "hoverlabel": {
           "align": "left"
          },
          "hovermode": "closest",
          "mapbox": {
           "style": "light"
          },
          "paper_bgcolor": "white",
          "plot_bgcolor": "#E5ECF6",
          "polar": {
           "angularaxis": {
            "gridcolor": "white",
            "linecolor": "white",
            "ticks": ""
           },
           "bgcolor": "#E5ECF6",
           "radialaxis": {
            "gridcolor": "white",
            "linecolor": "white",
            "ticks": ""
           }
          },
          "scene": {
           "xaxis": {
            "backgroundcolor": "#E5ECF6",
            "gridcolor": "white",
            "gridwidth": 2,
            "linecolor": "white",
            "showbackground": true,
            "ticks": "",
            "zerolinecolor": "white"
           },
           "yaxis": {
            "backgroundcolor": "#E5ECF6",
            "gridcolor": "white",
            "gridwidth": 2,
            "linecolor": "white",
            "showbackground": true,
            "ticks": "",
            "zerolinecolor": "white"
           },
           "zaxis": {
            "backgroundcolor": "#E5ECF6",
            "gridcolor": "white",
            "gridwidth": 2,
            "linecolor": "white",
            "showbackground": true,
            "ticks": "",
            "zerolinecolor": "white"
           }
          },
          "shapedefaults": {
           "line": {
            "color": "#2a3f5f"
           }
          },
          "ternary": {
           "aaxis": {
            "gridcolor": "white",
            "linecolor": "white",
            "ticks": ""
           },
           "baxis": {
            "gridcolor": "white",
            "linecolor": "white",
            "ticks": ""
           },
           "bgcolor": "#E5ECF6",
           "caxis": {
            "gridcolor": "white",
            "linecolor": "white",
            "ticks": ""
           }
          },
          "title": {
           "x": 0.05
          },
          "xaxis": {
           "automargin": true,
           "gridcolor": "white",
           "linecolor": "white",
           "ticks": "",
           "title": {
            "standoff": 15
           },
           "zerolinecolor": "white",
           "zerolinewidth": 2
          },
          "yaxis": {
           "automargin": true,
           "gridcolor": "white",
           "linecolor": "white",
           "ticks": "",
           "title": {
            "standoff": 15
           },
           "zerolinecolor": "white",
           "zerolinewidth": 2
          }
         }
        },
        "title": {
         "text": "Confusion Matrix (Percentage) FAR AWAY INSTANCES"
        },
        "xaxis": {
         "autorange": true,
         "range": [
          -0.5,
          4.5
         ],
         "title": {
          "text": "Predicted Class"
         },
         "type": "linear"
        },
        "yaxis": {
         "autorange": true,
         "range": [
          -0.5,
          4.5
         ],
         "title": {
          "text": "True Class"
         },
         "type": "linear"
        }
       }
      },
      "image/png": "[encoded data removed]",
      "text/html": [
       "<div>                            <div id=\"6803274d-733a-4152-92ee-3ee6d81cf87d\" class=\"plotly-graph-div\" style=\"height:525px; width:100%;\"></div>            <script type=\"text/javascript\">                require([\"plotly\"], function(Plotly) {                    window.PLOTLYENV=window.PLOTLYENV || {};                                    if (document.getElementById(\"6803274d-733a-4152-92ee-3ee6d81cf87d\")) {                    Plotly.newPlot(                        \"6803274d-733a-4152-92ee-3ee6d81cf87d\",                        [{\"colorbar\":{\"tickangle\":-45,\"tickmode\":\"array\",\"ticktext\":[\"0%\",\"25%\",\"50%\",\"75%\",\"100%\"],\"tickvals\":[0,25,50,75,100]},\"colorscale\":[[0.0,\"rgb(247,251,255)\"],[0.125,\"rgb(222,235,247)\"],[0.25,\"rgb(198,219,239)\"],[0.375,\"rgb(158,202,225)\"],[0.5,\"rgb(107,174,214)\"],[0.625,\"rgb(66,146,198)\"],[0.75,\"rgb(33,113,181)\"],[0.875,\"rgb(8,81,156)\"],[1.0,\"rgb(8,48,107)\"]],\"hoverongaps\":false,\"x\":[0,1,2,3,4],\"y\":[0,1,2,3,4],\"z\":[[96.5697172359307,0.11023940323736381,0.2811104782552777,0.11942602017381079,2.9195068624028515],[3.019213174748399,48.83348581884721,7.525160109789571,0.0,40.62214089661482],[0.4087552742616034,0.8241033755274262,96.88159282700421,0.5208333333333333,1.3647151898734178],[1.1531531531531531,0.18018018018018017,23.35135135135135,72.21621621621621,3.099099099099099],[3.4217366927742567,0.09684160451247897,0.5623608963794832,0.17159652729404168,95.74746427903975]],\"zmax\":100,\"zmin\":0,\"type\":\"heatmap\"}],                        {\"template\":{\"data\":{\"histogram2dcontour\":[{\"type\":\"histogram2dcontour\",\"colorbar\":{\"outlinewidth\":0,\"ticks\":\"\"},\"colorscale\":[[0.0,\"#0d0887\"],[0.1111111111111111,\"#46039f\"],[0.2222222222222222,\"#7201a8\"],[0.3333333333333333,\"#9c179e\"],[0.4444444444444444,\"#bd3786\"],[0.5555555555555556,\"#d8576b\"],[0.6666666666666666,\"#ed7953\"],[0.7777777777777778,\"#fb9f3a\"],[0.8888888888888888,\"#fdca26\"],[1.0,\"#f0f921\"]]}],\"choropleth\":[{\"type\":\"choropleth\",\"colorbar\":{\"outlinewidth\":0,\"ticks\":\"\"}}],\"histogram2d\":[{\"type\":\"histogram2d\",\"colorbar\":{\"outlinewidth\":0,\"ticks\":\"\"},\"colorscale\":[[0.0,\"#0d0887\"],[0.1111111111111111,\"#46039f\"],[0.2222222222222222,\"#7201a8\"],[0.3333333333333333,\"#9c179e\"],[0.4444444444444444,\"#bd3786\"],[0.5555555555555556,\"#d8576b\"],[0.6666666666666666,\"#ed7953\"],[0.7777777777777778,\"#fb9f3a\"],[0.8888888888888888,\"#fdca26\"],[1.0,\"#f0f921\"]]}],\"heatmap\":[{\"type\":\"heatmap\",\"colorbar\":{\"outlinewidth\":0,\"ticks\":\"\"},\"colorscale\":[[0.0,\"#0d0887\"],[0.1111111111111111,\"#46039f\"],[0.2222222222222222,\"#7201a8\"],[0.3333333333333333,\"#9c179e\"],[0.4444444444444444,\"#bd3786\"],[0.5555555555555556,\"#d8576b\"],[0.6666666666666666,\"#ed7953\"],[0.7777777777777778,\"#fb9f3a\"],[0.8888888888888888,\"#fdca26\"],[1.0,\"#f0f921\"]]}],\"heatmapgl\":[{\"type\":\"heatmapgl\",\"colorbar\":{\"outlinewidth\":0,\"ticks\":\"\"},\"colorscale\":[[0.0,\"#0d0887\"],[0.1111111111111111,\"#46039f\"],[0.2222222222222222,\"#7201a8\"],[0.3333333333333333,\"#9c179e\"],[0.4444444444444444,\"#bd3786\"],[0.5555555555555556,\"#d8576b\"],[0.6666666666666666,\"#ed7953\"],[0.7777777777777778,\"#fb9f3a\"],[0.8888888888888888,\"#fdca26\"],[1.0,\"#f0f921\"]]}],\"contourcarpet\":[{\"type\":\"contourcarpet\",\"colorbar\":{\"outlinewidth\":0,\"ticks\":\"\"}}],\"contour\":[{\"type\":\"contour\",\"colorbar\":{\"outlinewidth\":0,\"ticks\":\"\"},\"colorscale\":[[0.0,\"#0d0887\"],[0.1111111111111111,\"#46039f\"],[0.2222222222222222,\"#7201a8\"],[0.3333333333333333,\"#9c179e\"],[0.4444444444444444,\"#bd3786\"],[0.5555555555555556,\"#d8576b\"],[0.6666666666666666,\"#ed7953\"],[0.7777777777777778,\"#fb9f3a\"],[0.8888888888888888,\"#fdca26\"],[1.0,\"#f0f921\"]]}],\"surface\":[{\"type\":\"surface\",\"colorbar\":{\"outlinewidth\":0,\"ticks\":\"\"},\"colorscale\":[[0.0,\"#0d0887\"],[0.1111111111111111,\"#46039f\"],[0.2222222222222222,\"#7201a8\"],[0.3333333333333333,\"#9c179e\"],[0.4444444444444444,\"#bd3786\"],[0.5555555555555556,\"#d8576b\"],[0.6666666666666666,\"#ed7953\"],[0.7777777777777778,\"#fb9f3a\"],[0.8888888888888888,\"#fdca26\"],[1.0,\"#f0f921\"]]}],\"mesh3d\":[{\"type\":\"mesh3d\",\"colorbar\":{\"outlinewidth\":0,\"ticks\":\"\"}}],\"scatter\":[{\"fillpattern\":{\"fillmode\":\"overlay\",\"size\":10,\"solidity\":0.2},\"type\":\"scatter\"}],\"parcoords\":[{\"type\":\"parcoords\",\"line\":{\"colorbar\":{\"outlinewidth\":0,\"ticks\":\"\"}}}],\"scatterpolargl\":[{\"type\":\"scatterpolargl\",\"marker\":{\"colorbar\":{\"outlinewidth\":0,\"ticks\":\"\"}}}],\"bar\":[{\"error_x\":{\"color\":\"#2a3f5f\"},\"error_y\":{\"color\":\"#2a3f5f\"},\"marker\":{\"line\":{\"color\":\"#E5ECF6\",\"width\":0.5},\"pattern\":{\"fillmode\":\"overlay\",\"size\":10,\"solidity\":0.2}},\"type\":\"bar\"}],\"scattergeo\":[{\"type\":\"scattergeo\",\"marker\":{\"colorbar\":{\"outlinewidth\":0,\"ticks\":\"\"}}}],\"scatterpolar\":[{\"type\":\"scatterpolar\",\"marker\":{\"colorbar\":{\"outlinewidth\":0,\"ticks\":\"\"}}}],\"histogram\":[{\"marker\":{\"pattern\":{\"fillmode\":\"overlay\",\"size\":10,\"solidity\":0.2}},\"type\":\"histogram\"}],\"scattergl\":[{\"type\":\"scattergl\",\"marker\":{\"colorbar\":{\"outlinewidth\":0,\"ticks\":\"\"}}}],\"scatter3d\":[{\"type\":\"scatter3d\",\"line\":{\"colorbar\":{\"outlinewidth\":0,\"ticks\":\"\"}},\"marker\":{\"colorbar\":{\"outlinewidth\":0,\"ticks\":\"\"}}}],\"scattermapbox\":[{\"type\":\"scattermapbox\",\"marker\":{\"colorbar\":{\"outlinewidth\":0,\"ticks\":\"\"}}}],\"scatterternary\":[{\"type\":\"scatterternary\",\"marker\":{\"colorbar\":{\"outlinewidth\":0,\"ticks\":\"\"}}}],\"scattercarpet\":[{\"type\":\"scattercarpet\",\"marker\":{\"colorbar\":{\"outlinewidth\":0,\"ticks\":\"\"}}}],\"carpet\":[{\"aaxis\":{\"endlinecolor\":\"#2a3f5f\",\"gridcolor\":\"white\",\"linecolor\":\"white\",\"minorgridcolor\":\"white\",\"startlinecolor\":\"#2a3f5f\"},\"baxis\":{\"endlinecolor\":\"#2a3f5f\",\"gridcolor\":\"white\",\"linecolor\":\"white\",\"minorgridcolor\":\"white\",\"startlinecolor\":\"#2a3f5f\"},\"type\":\"carpet\"}],\"table\":[{\"cells\":{\"fill\":{\"color\":\"#EBF0F8\"},\"line\":{\"color\":\"white\"}},\"header\":{\"fill\":{\"color\":\"#C8D4E3\"},\"line\":{\"color\":\"white\"}},\"type\":\"table\"}],\"barpolar\":[{\"marker\":{\"line\":{\"color\":\"#E5ECF6\",\"width\":0.5},\"pattern\":{\"fillmode\":\"overlay\",\"size\":10,\"solidity\":0.2}},\"type\":\"barpolar\"}],\"pie\":[{\"automargin\":true,\"type\":\"pie\"}]},\"layout\":{\"autotypenumbers\":\"strict\",\"colorway\":[\"#636efa\",\"#EF553B\",\"#00cc96\",\"#ab63fa\",\"#FFA15A\",\"#19d3f3\",\"#FF6692\",\"#B6E880\",\"#FF97FF\",\"#FECB52\"],\"font\":{\"color\":\"#2a3f5f\"},\"hovermode\":\"closest\",\"hoverlabel\":{\"align\":\"left\"},\"paper_bgcolor\":\"white\",\"plot_bgcolor\":\"#E5ECF6\",\"polar\":{\"bgcolor\":\"#E5ECF6\",\"angularaxis\":{\"gridcolor\":\"white\",\"linecolor\":\"white\",\"ticks\":\"\"},\"radialaxis\":{\"gridcolor\":\"white\",\"linecolor\":\"white\",\"ticks\":\"\"}},\"ternary\":{\"bgcolor\":\"#E5ECF6\",\"aaxis\":{\"gridcolor\":\"white\",\"linecolor\":\"white\",\"ticks\":\"\"},\"baxis\":{\"gridcolor\":\"white\",\"linecolor\":\"white\",\"ticks\":\"\"},\"caxis\":{\"gridcolor\":\"white\",\"linecolor\":\"white\",\"ticks\":\"\"}},\"coloraxis\":{\"colorbar\":{\"outlinewidth\":0,\"ticks\":\"\"}},\"colorscale\":{\"sequential\":[[0.0,\"#0d0887\"],[0.1111111111111111,\"#46039f\"],[0.2222222222222222,\"#7201a8\"],[0.3333333333333333,\"#9c179e\"],[0.4444444444444444,\"#bd3786\"],[0.5555555555555556,\"#d8576b\"],[0.6666666666666666,\"#ed7953\"],[0.7777777777777778,\"#fb9f3a\"],[0.8888888888888888,\"#fdca26\"],[1.0,\"#f0f921\"]],\"sequentialminus\":[[0.0,\"#0d0887\"],[0.1111111111111111,\"#46039f\"],[0.2222222222222222,\"#7201a8\"],[0.3333333333333333,\"#9c179e\"],[0.4444444444444444,\"#bd3786\"],[0.5555555555555556,\"#d8576b\"],[0.6666666666666666,\"#ed7953\"],[0.7777777777777778,\"#fb9f3a\"],[0.8888888888888888,\"#fdca26\"],[1.0,\"#f0f921\"]],\"diverging\":[[0,\"#8e0152\"],[0.1,\"#c51b7d\"],[0.2,\"#de77ae\"],[0.3,\"#f1b6da\"],[0.4,\"#fde0ef\"],[0.5,\"#f7f7f7\"],[0.6,\"#e6f5d0\"],[0.7,\"#b8e186\"],[0.8,\"#7fbc41\"],[0.9,\"#4d9221\"],[1,\"#276419\"]]},\"xaxis\":{\"gridcolor\":\"white\",\"linecolor\":\"white\",\"ticks\":\"\",\"title\":{\"standoff\":15},\"zerolinecolor\":\"white\",\"automargin\":true,\"zerolinewidth\":2},\"yaxis\":{\"gridcolor\":\"white\",\"linecolor\":\"white\",\"ticks\":\"\",\"title\":{\"standoff\":15},\"zerolinecolor\":\"white\",\"automargin\":true,\"zerolinewidth\":2},\"scene\":{\"xaxis\":{\"backgroundcolor\":\"#E5ECF6\",\"gridcolor\":\"white\",\"linecolor\":\"white\",\"showbackground\":true,\"ticks\":\"\",\"zerolinecolor\":\"white\",\"gridwidth\":2},\"yaxis\":{\"backgroundcolor\":\"#E5ECF6\",\"gridcolor\":\"white\",\"linecolor\":\"white\",\"showbackground\":true,\"ticks\":\"\",\"zerolinecolor\":\"white\",\"gridwidth\":2},\"zaxis\":{\"backgroundcolor\":\"#E5ECF6\",\"gridcolor\":\"white\",\"linecolor\":\"white\",\"showbackground\":true,\"ticks\":\"\",\"zerolinecolor\":\"white\",\"gridwidth\":2}},\"shapedefaults\":{\"line\":{\"color\":\"#2a3f5f\"}},\"annotationdefaults\":{\"arrowcolor\":\"#2a3f5f\",\"arrowhead\":0,\"arrowwidth\":1},\"geo\":{\"bgcolor\":\"white\",\"landcolor\":\"#E5ECF6\",\"subunitcolor\":\"white\",\"showland\":true,\"showlakes\":true,\"lakecolor\":\"white\"},\"title\":{\"x\":0.05},\"mapbox\":{\"style\":\"light\"}}},\"title\":{\"text\":\"Confusion Matrix (Percentage) FAR AWAY INSTANCES\"},\"xaxis\":{\"title\":{\"text\":\"Predicted Class\"}},\"yaxis\":{\"title\":{\"text\":\"True Class\"}},\"annotations\":[{\"font\":{\"color\":\"black\"},\"showarrow\":false,\"text\":\"96.57%\",\"x\":0,\"y\":0},{\"font\":{\"color\":\"black\"},\"showarrow\":false,\"text\":\"0.11%\",\"x\":1,\"y\":0},{\"font\":{\"color\":\"black\"},\"showarrow\":false,\"text\":\"0.28%\",\"x\":2,\"y\":0},{\"font\":{\"color\":\"black\"},\"showarrow\":false,\"text\":\"0.12%\",\"x\":3,\"y\":0},{\"font\":{\"color\":\"black\"},\"showarrow\":false,\"text\":\"2.92%\",\"x\":4,\"y\":0},{\"font\":{\"color\":\"black\"},\"showarrow\":false,\"text\":\"3.02%\",\"x\":0,\"y\":1},{\"font\":{\"color\":\"black\"},\"showarrow\":false,\"text\":\"48.83%\",\"x\":1,\"y\":1},{\"font\":{\"color\":\"black\"},\"showarrow\":false,\"text\":\"7.53%\",\"x\":2,\"y\":1},{\"font\":{\"color\":\"black\"},\"showarrow\":false,\"text\":\"0.00%\",\"x\":3,\"y\":1},{\"font\":{\"color\":\"black\"},\"showarrow\":false,\"text\":\"40.62%\",\"x\":4,\"y\":1},{\"font\":{\"color\":\"black\"},\"showarrow\":false,\"text\":\"0.41%\",\"x\":0,\"y\":2},{\"font\":{\"color\":\"black\"},\"showarrow\":false,\"text\":\"0.82%\",\"x\":1,\"y\":2},{\"font\":{\"color\":\"black\"},\"showarrow\":false,\"text\":\"96.88%\",\"x\":2,\"y\":2},{\"font\":{\"color\":\"black\"},\"showarrow\":false,\"text\":\"0.52%\",\"x\":3,\"y\":2},{\"font\":{\"color\":\"black\"},\"showarrow\":false,\"text\":\"1.36%\",\"x\":4,\"y\":2},{\"font\":{\"color\":\"black\"},\"showarrow\":false,\"text\":\"1.15%\",\"x\":0,\"y\":3},{\"font\":{\"color\":\"black\"},\"showarrow\":false,\"text\":\"0.18%\",\"x\":1,\"y\":3},{\"font\":{\"color\":\"black\"},\"showarrow\":false,\"text\":\"23.35%\",\"x\":2,\"y\":3},{\"font\":{\"color\":\"black\"},\"showarrow\":false,\"text\":\"72.22%\",\"x\":3,\"y\":3},{\"font\":{\"color\":\"black\"},\"showarrow\":false,\"text\":\"3.10%\",\"x\":4,\"y\":3},{\"font\":{\"color\":\"black\"},\"showarrow\":false,\"text\":\"3.42%\",\"x\":0,\"y\":4},{\"font\":{\"color\":\"black\"},\"showarrow\":false,\"text\":\"0.10%\",\"x\":1,\"y\":4},{\"font\":{\"color\":\"black\"},\"showarrow\":false,\"text\":\"0.56%\",\"x\":2,\"y\":4},{\"font\":{\"color\":\"black\"},\"showarrow\":false,\"text\":\"0.17%\",\"x\":3,\"y\":4},{\"font\":{\"color\":\"black\"},\"showarrow\":false,\"text\":\"95.75%\",\"x\":4,\"y\":4}]},                        {\"responsive\": true}                    ).then(function(){\n",
       "                            \n",
       "var gd = document.getElementById('6803274d-733a-4152-92ee-3ee6d81cf87d');\n",
       "var x = new MutationObserver(function (mutations, observer) {{\n",
       "        var display = window.getComputedStyle(gd).display;\n",
       "        if (!display || display === 'none') {{\n",
       "            console.log([gd, 'removed!']);\n",
       "            Plotly.purge(gd);\n",
       "            observer.disconnect();\n",
       "        }}\n",
       "}});\n",
       "\n",
       "// Listen for the removal of the full notebook cells\n",
       "var notebookContainer = gd.closest('#notebook-container');\n",
       "if (notebookContainer) {{\n",
       "    x.observe(notebookContainer, {childList: true});\n",
       "}}\n",
       "\n",
       "// Listen for the clearing of the current output cell\n",
       "var outputEl = gd.closest('.output');\n",
       "if (outputEl) {{\n",
       "    x.observe(outputEl, {childList: true});\n",
       "}}\n",
       "\n",
       "                        })                };                });            </script>        </div>"
      ]
     },
     "metadata": {},
     "output_type": "display_data"
    }
   ],
   "source": [
    "import plotly.graph_objects as go\n",
    "\n",
    "# Assuming you have a DataFrame 'close_matches' with 'class' and 'class_truth' columns\n",
    "conf_matrix_data = far_df[['class', 'class_truth']]\n",
    "\n",
    "# Compute the confusion matrix\n",
    "conf_matrix = pd.crosstab(conf_matrix_data['class_truth'], conf_matrix_data['class'], rownames=['True'], colnames=['Predicted'], normalize='index') * 100\n",
    "\n",
    "# Create a heatmap\n",
    "fig = go.Figure(data=go.Heatmap(\n",
    "    z=conf_matrix.values,\n",
    "    x=conf_matrix.columns,\n",
    "    y=conf_matrix.index,\n",
    "    colorscale='Blues',  # You can change the color scale as needed\n",
    "    hoverongaps=False,\n",
    "    zmin=0,\n",
    "    zmax=100,\n",
    "    colorbar=dict(\n",
    "        tickmode='array',\n",
    "        tickvals=[0, 25, 50, 75, 100],\n",
    "        ticktext=['0%', '25%', '50%', '75%', '100%'],\n",
    "        tickangle=-45,\n",
    "    )\n",
    "))\n",
    "\n",
    "# Add text annotations with percentage values\n",
    "annotations = []\n",
    "for i, true_class in enumerate(conf_matrix.index):\n",
    "    for j, pred_class in enumerate(conf_matrix.columns):\n",
    "        annotations.append(\n",
    "            dict(\n",
    "                x=pred_class,\n",
    "                y=true_class,\n",
    "                text=f'{conf_matrix.iloc[i, j]:.2f}%',  # Format as percentage with two decimal places\n",
    "                showarrow=False,\n",
    "                font=dict(color='black')  # Change the font color as needed\n",
    "            )\n",
    "        )\n",
    "\n",
    "fig.update_layout(\n",
    "    title='Confusion Matrix (Percentage) FAR AWAY INSTANCES',\n",
    "    xaxis_title='Predicted Class',\n",
    "    yaxis_title='True Class',\n",
    "    annotations=annotations\n",
    ")\n",
    "\n",
    "# Show the figure\n",
    "fig.show()\n"
   ]
  },
  {
   "cell_type": "code",
   "execution_count": null,
   "id": "bee01be3",
   "metadata": {},
   "outputs": [],
   "source": []
  }
 ],
 "metadata": {
  "kernelspec": {
   "display_name": "Python 3 (ipykernel)",
   "language": "python",
   "name": "python3"
  },
  "language_info": {
   "codemirror_mode": {
    "name": "ipython",
    "version": 3
   },
   "file_extension": ".py",
   "mimetype": "text/x-python",
   "name": "python",
   "nbconvert_exporter": "python",
   "pygments_lexer": "ipython3",
   "version": "3.10.12"
  }
 },
 "nbformat": 4,
 "nbformat_minor": 5
}
