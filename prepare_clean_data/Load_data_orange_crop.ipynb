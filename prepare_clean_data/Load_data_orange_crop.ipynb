{
 "cells": [
  {
   "cell_type": "code",
   "execution_count": null,
   "id": "c12bb22e-f5da-40f3-ae8d-30c986859d94",
   "metadata": {},
   "outputs": [],
   "source": [
    "import os\n",
    "from PIL import Image\n",
    "import pandas as pd"
   ]
  },
  {
   "cell_type": "code",
   "execution_count": null,
   "id": "eb4bd66f-03fb-4837-a714-7d7f84c8b2b2",
   "metadata": {},
   "outputs": [],
   "source": [
    "df = pd.read_csv(\"orange_cone.csv\")"
   ]
  },
  {
   "cell_type": "code",
   "execution_count": null,
   "id": "885a53ee-8b1d-4d56-8872-1c2acbde8180",
   "metadata": {},
   "outputs": [],
   "source": [
    "df.describe().loc[\"count\"]"
   ]
  },
  {
   "cell_type": "markdown",
   "id": "1be475d6-6c1c-4540-9dcd-8534159cf41a",
   "metadata": {},
   "source": [
    "##### 1. Current instances present in data are: 3842\n",
    "##### 2. CSV data instances are: 25991\n",
    "##### 3. CSV data instances required are: 16211"
   ]
  },
  {
   "cell_type": "code",
   "execution_count": null,
   "id": "60044c1a-6b0b-4d2a-8432-1898b048cd59",
   "metadata": {},
   "outputs": [],
   "source": [
    "df_o = df.iloc[-1264:].reset_index(drop=True)"
   ]
  },
  {
   "cell_type": "code",
   "execution_count": null,
   "id": "af21d0c5-63dd-4c52-834c-01198f303264",
   "metadata": {},
   "outputs": [],
   "source": [
    "df_o.describe().loc[\"count\"]"
   ]
  },
  {
   "cell_type": "code",
   "execution_count": null,
   "id": "582291f6-1845-4005-b1c5-62218f925ac3",
   "metadata": {},
   "outputs": [],
   "source": [
    "df_o.index"
   ]
  },
  {
   "cell_type": "markdown",
   "id": "5ba8fcac-47da-400b-9188-004631115e5a",
   "metadata": {},
   "source": [
    "### load image and crop image"
   ]
  },
  {
   "cell_type": "code",
   "execution_count": null,
   "id": "48c5440c-5e3f-4db7-979e-ea56f23ce441",
   "metadata": {},
   "outputs": [],
   "source": [
    "print(\"image path\", df_o.image_path[0])\n",
    "print(\"label path\", df_o.path[0])"
   ]
  },
  {
   "cell_type": "code",
   "execution_count": null,
   "id": "a696fc62-e854-4995-9591-1e107b76c10b",
   "metadata": {},
   "outputs": [],
   "source": [
    "def crop_and_save(image_path, label_path, box, img_output_folder, label_output_folder, class_label, counter):\n",
    "    img = Image.open(image_path)\n",
    "    cropped_img = img.crop(box)\n",
    "\n",
    "    # Get the new bounding box coordinates in the cropped image\n",
    "    new_box = (0, 0, box[2] - box[0], box[3] - box[1])\n",
    "    \n",
    "    # Create output folder if not exists\n",
    "    os.makedirs(img_output_folder, exist_ok=True)\n",
    "    os.makedirs(label_output_folder, exist_ok=True)\n",
    "    \n",
    "    # Save cropped image and labels to output folder\n",
    "    img_output_folder = os.path.join(img_output_folder, os.path.basename(image_path))\n",
    "    label_output_folder = os.path.join(label_output_folder, f\"{os.path.basename(image_path)}.txt\")\n",
    "\n",
    "    # Image new name.\n",
    "    image_new_name = img_new_name(img_output_folder, counter)\n",
    "    \n",
    "    cropped_img.save(image_new_name)\n",
    "\n",
    "    # Write new bounding box coordinates to a text file\n",
    "    text_file_path = label_output_folder\n",
    "    label_name_update = label_new_name(text_file_path, counter)\n",
    "    with open(text_file_path, 'w') as text_file:\n",
    "        text_file.write(f\"{class_label} {new_box[0]} {new_box[1]} {new_box[2]} {new_box[3]}\")\n",
    "    os.rename(text_file_path, label_name_update)\n",
    "\n",
    "    print(\"Saved image: \", image_new_name)\n",
    "    print(\"Saved label: \", label_name_update)\n",
    "\n",
    "def img_new_name(path, counter):\n",
    "    ext = os.path.basename(path).split(\".\")[-1]\n",
    "    dir_name = os.path.dirname(path)\n",
    "    parent_dir_name = os.path.basename(os.path.dirname(os.path.dirname(path)))\n",
    "    new_image_path = os.path.join(dir_name, str(parent_dir_name) +\"_\"+ str(counter) +\".\"+ str(ext))\n",
    "    return new_image_path\n",
    "\n",
    "def label_new_name(path, counter):\n",
    "    ext_1 = os.path.basename(path).split(\".\")[-1]\n",
    "    ext_2 = os.path.basename(path).split(\".\")[-2]\n",
    "    parent_dir_name = os.path.basename(os.path.dirname(os.path.dirname(path)))\n",
    "    dir_name = os.path.dirname(path)\n",
    "    new_label_path = os.path.join(dir_name, str(parent_dir_name) +\"_\"+ str(counter) +\"_\"+ str(ext_2) +\".\"+ str(ext_1))\n",
    "    return new_label_path"
   ]
  },
  {
   "cell_type": "code",
   "execution_count": null,
   "id": "e77bf47a-1610-4464-a989-71370fbea5cd",
   "metadata": {},
   "outputs": [],
   "source": [
    "# Specify output folder for cropped images and labels\n",
    "img_output_folder = 'orange_crop/images'\n",
    "label_output_folder = 'orange_crop/labels'\n",
    "\n",
    "# Iterate through rows and crop/save images\n",
    "for index, row in df_o.iterrows():\n",
    "    image_path = row['image_path']\n",
    "    label_path = row['path']\n",
    "    class_label = row[\"class_label\"]\n",
    "    box = (row['box_x1'], row['box_y1'], row['box_x2'], row['box_y2'])\n",
    "    \n",
    "    crop_and_save(image_path, label_path, box, img_output_folder, label_output_folder, class_label, index)\n",
    "    \n",
    "    print(\"Cropping and saving complete.\", index)"
   ]
  },
  {
   "cell_type": "markdown",
   "id": "9239ad0a-0f7c-4a33-8bdf-6d4a174d9f4e",
   "metadata": {},
   "source": [
    "#### Verify Bonding box on sample image"
   ]
  },
  {
   "cell_type": "code",
   "execution_count": null,
   "id": "5709cce6-006f-4888-96a3-f05d173f8bd0",
   "metadata": {},
   "outputs": [],
   "source": [
    "from PIL import Image, ImageDraw\n",
    "from IPython.display import display\n",
    "\n",
    "# Load the original image using Pillow\n",
    "original_image = Image.open('orange_crop/images/orange_crop_599.png')\n",
    "\n",
    "# Define the new bounding box coordinates\n",
    "x, y, width, height = 0, 0, 128, 160\n",
    "\n",
    "# Create a drawing object\n",
    "draw = ImageDraw.Draw(original_image)\n",
    "\n",
    "# Draw a thicker rectangle on the image\n",
    "draw.rectangle([x, y, x + width, y + height], outline=\"green\", width=10)\n",
    "\n",
    "\n",
    "# Display the image with the bounding box\n",
    "display(original_image)\n"
   ]
  },
  {
   "cell_type": "code",
   "execution_count": null,
   "id": "a67b72dc-ed16-445c-bfb9-9b54cc405f28",
   "metadata": {},
   "outputs": [],
   "source": []
  },
  {
   "cell_type": "code",
   "execution_count": null,
   "id": "788e453f-2bea-4e08-a0b6-ffcc937ecb42",
   "metadata": {},
   "outputs": [],
   "source": []
  }
 ],
 "metadata": {
  "kernelspec": {
   "display_name": "Python 3 (ipykernel)",
   "language": "python",
   "name": "python3"
  },
  "language_info": {
   "codemirror_mode": {
    "name": "ipython",
    "version": 3
   },
   "file_extension": ".py",
   "mimetype": "text/x-python",
   "name": "python",
   "nbconvert_exporter": "python",
   "pygments_lexer": "ipython3",
   "version": "3.10.12"
  }
 },
 "nbformat": 4,
 "nbformat_minor": 5
}
