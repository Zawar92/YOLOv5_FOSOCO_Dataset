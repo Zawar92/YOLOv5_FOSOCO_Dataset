{
 "cells": [
  {
   "cell_type": "code",
   "execution_count": null,
   "id": "cf4efb8f-bde6-479b-8764-281e702f01c9",
   "metadata": {},
   "outputs": [],
   "source": [
    "import os\n",
    "from IPython.display import display, Image, clear_output\n",
    "import time\n",
    "from PIL import Image\n",
    "\n",
    "folder_path = 'orange_crop/images'\n",
    "\n",
    "image_paths = [os.path.join(folder_path, file) for file in os.listdir(folder_path) if file.lower().endswith(('.png', '.jpg', '.jpeg', '.gif'))]\n",
    "\n",
    "image_paths.sort()\n",
    "\n",
    "def display_images(image_paths, width=400, height=400):\n",
    "    for image_path in image_paths:\n",
    "        img = Image.open(image_path)\n",
    "        # display(img.resize((width, height)))\n",
    "        display(img)\n",
    "        time.sleep(2)\n",
    "        clear_output(wait=True)\n",
    "display_images(image_paths, width=800, height=600)\n"
   ]
  },
  {
   "cell_type": "code",
   "execution_count": null,
   "id": "8fa50568-3203-49c8-8a17-8c9dbcbd87a5",
   "metadata": {},
   "outputs": [],
   "source": []
  }
 ],
 "metadata": {
  "kernelspec": {
   "display_name": "Python 3 (ipykernel)",
   "language": "python",
   "name": "python3"
  },
  "language_info": {
   "codemirror_mode": {
    "name": "ipython",
    "version": 3
   },
   "file_extension": ".py",
   "mimetype": "text/x-python",
   "name": "python",
   "nbconvert_exporter": "python",
   "pygments_lexer": "ipython3",
   "version": "3.10.12"
  }
 },
 "nbformat": 4,
 "nbformat_minor": 5
}
