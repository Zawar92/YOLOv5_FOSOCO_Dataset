{
 "cells": [
  {
   "cell_type": "code",
   "execution_count": null,
   "id": "6c71e647-fb76-4230-a2c6-bf3f751150d9",
   "metadata": {},
   "outputs": [],
   "source": [
    "import pandas as pd\n",
    "import os\n",
    "import json"
   ]
  },
  {
   "cell_type": "code",
   "execution_count": null,
   "id": "edaa3bec-9e7b-450c-bedf-7d3e047859a8",
   "metadata": {},
   "outputs": [],
   "source": [
    "def get_directories(folder_path):\n",
    "    directories = [d for d in os.listdir(folder_path) if os.path.isdir(os.path.join(folder_path, d))]\n",
    "    return directories"
   ]
  },
  {
   "cell_type": "code",
   "execution_count": null,
   "id": "6b9791a0-f3f2-4838-9fc6-99091a5d360f",
   "metadata": {},
   "outputs": [],
   "source": [
    "folder_path = './fsoco_bounding_boxes_train'\n",
    "directories = get_directories(folder_path)"
   ]
  },
  {
   "cell_type": "code",
   "execution_count": null,
   "id": "5376f070-3ea0-41f5-93ab-1b789d04e47b",
   "metadata": {},
   "outputs": [],
   "source": [
    "#print(directories)"
   ]
  },
  {
   "cell_type": "code",
   "execution_count": null,
   "id": "a98696fe-3e2d-4f8d-ac57-35f7857d34ee",
   "metadata": {},
   "outputs": [],
   "source": [
    "def get_labels_path(directories):\n",
    "    labels_path_list = []\n",
    "    for dir in directories:\n",
    "        labels_path = os.path.join(folder_path, dir + \"/ann\")\n",
    "        json_files = [os.path.join(labels_path, f) for f in os.listdir(labels_path) if f.endswith('.json')]\n",
    "        # print(dir, \"Len:\", len(json_files))\n",
    "        labels_path_list.extend(json_files)\n",
    "    # print(\"Total Length:\", len(labels_path_list))\n",
    "    return labels_path_list"
   ]
  },
  {
   "cell_type": "code",
   "execution_count": null,
   "id": "65cc8529-54ca-4142-bc14-06f8b8e4e5ec",
   "metadata": {},
   "outputs": [],
   "source": [
    "JSON_LABELS_PATH = get_labels_path(directories)\n",
    "print(\"length\", len(JSON_LABELS_PATH))"
   ]
  },
  {
   "cell_type": "code",
   "execution_count": null,
   "id": "3a99b6a0-1b33-4efa-860c-cbf247b5c007",
   "metadata": {},
   "outputs": [],
   "source": [
    "def read_labels_data(json_files):\n",
    "    data = []\n",
    "    for json_file in json_files:\n",
    "        # new_pair = {\"path_to_file\" : str(json_file)}\n",
    "        with open(json_file, 'r') as f:\n",
    "            json_data = json.load(f)\n",
    "            # objects_collected = json_data[\"objects\"]\n",
    "            objects_collected = [d.update({\"path_to_file\" : str(json_file)}) or d for d in json_data[\"objects\"]]\n",
    "            # objects_collected.append(new_pair)\n",
    "            data.append(objects_collected)\n",
    "    return data"
   ]
  },
  {
   "cell_type": "code",
   "execution_count": null,
   "id": "42ce0c3f-3cb1-4c4a-885f-69318f88bc18",
   "metadata": {},
   "outputs": [],
   "source": [
    "labels_json_objects = read_labels_data(JSON_LABELS_PATH)"
   ]
  },
  {
   "cell_type": "code",
   "execution_count": null,
   "id": "25d7ceaf-3216-4333-b142-7fbf71f9709e",
   "metadata": {},
   "outputs": [],
   "source": [
    "# labels_json_objects[0]"
   ]
  },
  {
   "cell_type": "code",
   "execution_count": null,
   "id": "4ab2ff2d-f213-49c7-83fd-0562e5aa8c0e",
   "metadata": {},
   "outputs": [],
   "source": [
    "def get_required_objects(data_list):\n",
    "    data_collection = []\n",
    "    for items in data_list: \n",
    "        for obj in items:\n",
    "            data_collection.append([ obj[\"classTitle\"], obj[\"points\"][\"exterior\"][0][0], obj[\"points\"][\"exterior\"][0][1], obj[\"points\"][\"exterior\"][1][0], obj[\"points\"][\"exterior\"][1][1], obj[\"path_to_file\"] ])\n",
    "    return data_collection"
   ]
  },
  {
   "cell_type": "code",
   "execution_count": null,
   "id": "5526da4e-c74c-403b-9346-f5fec236751d",
   "metadata": {},
   "outputs": [],
   "source": [
    "data = get_required_objects(labels_json_objects)"
   ]
  },
  {
   "cell_type": "code",
   "execution_count": null,
   "id": "c1f1d3a9-dd77-47cf-9c25-8e2884df4c0f",
   "metadata": {},
   "outputs": [],
   "source": [
    "def replace_ann_with_img(path):\n",
    "    return path.replace('ann', 'img').replace('.json', '')"
   ]
  },
  {
   "cell_type": "markdown",
   "id": "3a6f4746-3fc0-4f50-bcd2-9c69fa1dcc7d",
   "metadata": {},
   "source": [
    "# Data Frame"
   ]
  },
  {
   "cell_type": "code",
   "execution_count": null,
   "id": "af01038d-b48c-4c36-bb4b-dc1de840621d",
   "metadata": {},
   "outputs": [],
   "source": [
    "columns = ['name', 'box_x1', 'box_y1', 'box_x2', 'box_y2', 'path']\n",
    "df = pd.DataFrame(data, columns=columns)"
   ]
  },
  {
   "cell_type": "code",
   "execution_count": null,
   "id": "70c12e1c-1525-4fba-bebb-2617e3bd732e",
   "metadata": {},
   "outputs": [],
   "source": [
    "print(df.head(2))\n",
    "print(\"Shape:\", df.shape)"
   ]
  },
  {
   "cell_type": "code",
   "execution_count": null,
   "id": "f588290b-022e-4921-88d3-a0b3d657070a",
   "metadata": {},
   "outputs": [],
   "source": [
    "print(df.name.unique())"
   ]
  },
  {
   "cell_type": "markdown",
   "id": "1cc54932-cd8c-4083-b68e-943fce9f29ff",
   "metadata": {},
   "source": [
    "### Transform"
   ]
  },
  {
   "cell_type": "code",
   "execution_count": null,
   "id": "cb1e234a-6339-43ad-9ff7-048203894ae5",
   "metadata": {},
   "outputs": [],
   "source": [
    "df['name'] = df['name'].astype(\"string\")\n",
    "df['path'] = df['path'].astype(\"string\")"
   ]
  },
  {
   "cell_type": "code",
   "execution_count": null,
   "id": "516c281d-4f2f-4326-9b2f-e4541ebb260a",
   "metadata": {},
   "outputs": [],
   "source": [
    "df.dtypes"
   ]
  },
  {
   "cell_type": "markdown",
   "id": "6d2f289a-3bff-4c2d-a070-ae91c950c917",
   "metadata": {},
   "source": [
    "## yellow_cone"
   ]
  },
  {
   "cell_type": "code",
   "execution_count": null,
   "id": "edabafb1-a1a0-4fb8-af18-0904ef8278cf",
   "metadata": {},
   "outputs": [],
   "source": [
    "yellow_cone_df = df[df['name'] == 'yellow_cone']\n",
    "yellow_cone_df[\"class_label\"] = 4\n",
    "yellow_cone_df['image_path'] = yellow_cone_df['path'].apply(replace_ann_with_img)"
   ]
  },
  {
   "cell_type": "code",
   "execution_count": null,
   "id": "65ee0b17-8db0-45ba-8328-10c8b0bf8bfe",
   "metadata": {},
   "outputs": [],
   "source": [
    "print(yellow_cone_df.name.unique())\n",
    "print(yellow_cone_df.describe(include='all').loc[\"count\"])"
   ]
  },
  {
   "cell_type": "code",
   "execution_count": null,
   "id": "e7ef674b-8ade-4731-b420-3f269b0929fc",
   "metadata": {},
   "outputs": [],
   "source": [
    "# Save to CSV.\n",
    "yellow_cone_df.to_csv('yellow_cone.csv', index=False)"
   ]
  },
  {
   "cell_type": "markdown",
   "id": "c14bf5df-653a-4729-b276-260c6727edee",
   "metadata": {},
   "source": [
    "### blue_cone"
   ]
  },
  {
   "cell_type": "code",
   "execution_count": null,
   "id": "79976ce0-7657-4567-8df0-32eb841f52a5",
   "metadata": {},
   "outputs": [],
   "source": [
    "blue_cone_df = df[df['name'] == 'blue_cone']\n",
    "blue_cone_df[\"class_label\"] = 0\n",
    "blue_cone_df['image_path'] = blue_cone_df['path'].apply(replace_ann_with_img)"
   ]
  },
  {
   "cell_type": "code",
   "execution_count": null,
   "id": "22c9aa9e-2075-4705-8231-eb74b86e46d7",
   "metadata": {},
   "outputs": [],
   "source": [
    "print(blue_cone_df.name.unique())\n",
    "print(blue_cone_df.describe(include='all').loc[\"count\"])"
   ]
  },
  {
   "cell_type": "code",
   "execution_count": null,
   "id": "165c0468-f3e5-499d-96dc-c106229d5e23",
   "metadata": {},
   "outputs": [],
   "source": [
    "# Save to CSV.\n",
    "blue_cone_df.to_csv('blue_cone.csv', index=False)"
   ]
  },
  {
   "cell_type": "markdown",
   "id": "ce4da08d-db8f-455e-824f-c8885f6614d4",
   "metadata": {},
   "source": [
    "### large_orange_cone"
   ]
  },
  {
   "cell_type": "code",
   "execution_count": null,
   "id": "f653f847-95ae-475b-9322-a5dfc4279a4e",
   "metadata": {},
   "outputs": [],
   "source": [
    "large_orange_cone_df = df[df['name'] == 'large_orange_cone']\n",
    "large_orange_cone_df[\"class_label\"] = 1\n",
    "large_orange_cone_df['image_path'] = large_orange_cone_df['path'].apply(replace_ann_with_img)"
   ]
  },
  {
   "cell_type": "code",
   "execution_count": null,
   "id": "4f329731-98b0-4950-b444-b0e7e44fa599",
   "metadata": {},
   "outputs": [],
   "source": [
    "print(large_orange_cone_df.name.unique())\n",
    "print(large_orange_cone_df.describe(include='all').loc[\"count\"])"
   ]
  },
  {
   "cell_type": "code",
   "execution_count": null,
   "id": "c45efa89-ebe8-4546-b514-85b5b28c524f",
   "metadata": {},
   "outputs": [],
   "source": [
    "# Save to CSV.\n",
    "large_orange_cone_df.to_csv('large_orange_cone.csv', index=False)"
   ]
  },
  {
   "cell_type": "markdown",
   "id": "11b15afe-6e98-498d-8d5a-09b07b8c32a4",
   "metadata": {},
   "source": [
    "### orange_cone"
   ]
  },
  {
   "cell_type": "code",
   "execution_count": null,
   "id": "bcd487e2-08a7-4356-8bea-84784e8e09b8",
   "metadata": {},
   "outputs": [],
   "source": [
    "orange_cone_df = df[df['name'] == 'orange_cone']\n",
    "orange_cone_df[\"class_label\"] = 2\n",
    "orange_cone_df['image_path'] = orange_cone_df['path'].apply(replace_ann_with_img)"
   ]
  },
  {
   "cell_type": "code",
   "execution_count": null,
   "id": "c156e24d-9186-4153-ae96-63e0552d77ea",
   "metadata": {},
   "outputs": [],
   "source": [
    "print(orange_cone_df.name.unique())\n",
    "print(orange_cone_df.describe(include='all').loc[\"count\"])"
   ]
  },
  {
   "cell_type": "code",
   "execution_count": null,
   "id": "fb9541ad-59ef-4b11-b62f-e60fc07e93cd",
   "metadata": {},
   "outputs": [],
   "source": [
    "# Save to CSV.\n",
    "orange_cone_df.to_csv('orange_cone.csv', index=False)"
   ]
  },
  {
   "cell_type": "markdown",
   "id": "a59bd03b-1912-416d-b811-77bb110838df",
   "metadata": {},
   "source": [
    "### unknown_cone"
   ]
  },
  {
   "cell_type": "code",
   "execution_count": null,
   "id": "0e50c473-ddd1-4261-9761-4547371b4d58",
   "metadata": {},
   "outputs": [],
   "source": [
    "unknown_cone_df = df[df['name'] == 'unknown_cone']\n",
    "unknown_cone_df[\"class_label\"] = 3\n",
    "unknown_cone_df['image_path'] = unknown_cone_df['path'].apply(replace_ann_with_img)"
   ]
  },
  {
   "cell_type": "code",
   "execution_count": null,
   "id": "db35955a-ea53-4ca3-8df8-02da9ce275f1",
   "metadata": {},
   "outputs": [],
   "source": [
    "print(unknown_cone_df.name.unique())\n",
    "print(unknown_cone_df.describe(include='all').loc[\"count\"])"
   ]
  },
  {
   "cell_type": "code",
   "execution_count": null,
   "id": "7dbf1311-bdf4-4651-8991-9ddc68562cf6",
   "metadata": {},
   "outputs": [],
   "source": [
    "# Save to CSV.\n",
    "unknown_cone_df.to_csv('unknown_cone.csv', index=False)"
   ]
  },
  {
   "cell_type": "code",
   "execution_count": null,
   "id": "382ab56a-45d5-4375-9cac-fc4ab541a6e0",
   "metadata": {},
   "outputs": [],
   "source": []
  }
 ],
 "metadata": {
  "kernelspec": {
   "display_name": "Python 3 (ipykernel)",
   "language": "python",
   "name": "python3"
  },
  "language_info": {
   "codemirror_mode": {
    "name": "ipython",
    "version": 3
   },
   "file_extension": ".py",
   "mimetype": "text/x-python",
   "name": "python",
   "nbconvert_exporter": "python",
   "pygments_lexer": "ipython3",
   "version": "3.10.12"
  }
 },
 "nbformat": 4,
 "nbformat_minor": 5
}
