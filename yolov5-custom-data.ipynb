{
 "cells": [
  {
   "cell_type": "markdown",
   "metadata": {},
   "source": [
    "# Preprocessing\n",
    " > **1. CUDA Setup**. --> Look at **README.md**\n",
    " \n",
    " > **2. Yolov5 Setup** --> **setup.ipynb**\n",
    " \n",
    " > **3. Preparing data**  --> For data preprocessing look at **data_preprocessing.ipynb** notebook."
   ]
  },
  {
   "cell_type": "markdown",
   "metadata": {
    "papermill": {
     "duration": 0.008698,
     "end_time": "2022-06-29T17:55:25.222695",
     "exception": false,
     "start_time": "2022-06-29T17:55:25.213997",
     "status": "completed"
    },
    "tags": []
   },
   "source": [
    "# Import libraries"
   ]
  },
  {
   "cell_type": "code",
   "execution_count": 1,
   "metadata": {
    "ExecuteTime": {
     "end_time": "2023-11-28T21:58:50.515297Z",
     "start_time": "2023-11-28T21:58:48.430301Z"
    },
    "papermill": {
     "duration": 2.483532,
     "end_time": "2022-06-29T17:55:27.733029",
     "exception": false,
     "start_time": "2022-06-29T17:55:25.249497",
     "status": "completed"
    },
    "tags": []
   },
   "outputs": [],
   "source": [
    "import torch\n",
    "from yolov5 import utils\n",
    "import torch\n",
    "from IPython import display\n",
    "from IPython.display import clear_output\n",
    "from pathlib import Path\n",
    "import yaml\n",
    "import matplotlib.pyplot as plt\n",
    "import matplotlib.image as mpimg\n",
    "import glob\n",
    "import io\n",
    "import os\n",
    "import cv2\n",
    "import json\n",
    "import shutil\n",
    "import numpy as np\n",
    "from sklearn.model_selection import train_test_split\n",
    "\n",
    "%matplotlib inline"
   ]
  },
  {
   "cell_type": "markdown",
   "metadata": {
    "papermill": {
     "duration": 0.006901,
     "end_time": "2022-06-29T17:55:10.000517",
     "exception": false,
     "start_time": "2022-06-29T17:55:09.993616",
     "status": "completed"
    },
    "tags": []
   },
   "source": [
    "# Initialize Static Hyperparameters."
   ]
  },
  {
   "cell_type": "code",
   "execution_count": 2,
   "metadata": {
    "ExecuteTime": {
     "end_time": "2023-11-28T21:58:54.329450Z",
     "start_time": "2023-11-28T21:58:54.323849Z"
    },
    "papermill": {
     "duration": 0.022968,
     "end_time": "2022-06-29T17:55:10.045179",
     "exception": false,
     "start_time": "2022-06-29T17:55:10.022211",
     "status": "completed"
    },
    "tags": []
   },
   "outputs": [],
   "source": [
    "PROJECT_NAME = \"yolov5_train\"\n",
    "BASE_MODEL = \"yolov5m6.pt\"\n",
    "TRAIN_BATCH = 50\n",
    "TRAIN_EPOCHS = 100\n",
    "VAL_BATCH = 50"
   ]
  },
  {
   "cell_type": "code",
   "execution_count": null,
   "metadata": {
    "ExecuteTime": {
     "end_time": "2023-11-26T20:10:38.145924Z",
     "start_time": "2023-11-26T20:10:38.143837Z"
    },
    "papermill": {
     "duration": 0.016207,
     "end_time": "2022-06-29T17:55:27.776130",
     "exception": false,
     "start_time": "2022-06-29T17:55:27.759923",
     "status": "completed"
    },
    "tags": []
   },
   "outputs": [],
   "source": [
    "IMAGES_PATH = \"yolov5/data/train/images\"\n",
    "LABELS_PATH = \"yolov5/data/train/labels\"\n",
    "NOTES_PATH = \"yolov5/data/data.json\""
   ]
  },
  {
   "cell_type": "markdown",
   "metadata": {
    "papermill": {
     "duration": 0.008801,
     "end_time": "2022-06-29T17:55:37.203164",
     "exception": false,
     "start_time": "2022-06-29T17:55:37.194363",
     "status": "completed"
    },
    "tags": []
   },
   "source": [
    "# Train."
   ]
  },
  {
   "cell_type": "code",
   "execution_count": null,
   "metadata": {
    "ExecuteTime": {
     "end_time": "2023-11-26T20:10:52.270633Z",
     "start_time": "2023-11-26T20:10:52.141920Z"
    },
    "papermill": {
     "duration": 0.686094,
     "end_time": "2022-06-29T17:55:37.898146",
     "exception": false,
     "start_time": "2022-06-29T17:55:37.212052",
     "status": "completed"
    },
    "tags": []
   },
   "outputs": [],
   "source": [
    "# Delete old results if exists\n",
    "wildcard = f\"{PROJECT_NAME}/feature_extraction*\"\n",
    "! rm -r $wildcard"
   ]
  },
  {
   "cell_type": "code",
   "execution_count": null,
   "metadata": {
    "ExecuteTime": {
     "end_time": "2023-11-26T20:37:08.790349Z",
     "start_time": "2023-11-26T20:10:53.307881Z"
    },
    "papermill": {
     "duration": 3044.885428,
     "end_time": "2022-06-29T18:46:22.792944",
     "exception": false,
     "start_time": "2022-06-29T17:55:37.907516",
     "status": "completed"
    },
    "scrolled": true,
    "tags": []
   },
   "outputs": [],
   "source": [
    "! python3.10 yolov5/train.py --batch $TRAIN_BATCH --epochs $TRAIN_EPOCHS --data \"data.yaml\" --weights $BASE_MODEL --project $PROJECT_NAME --name 'feature_extraction' --cache --freeze 12"
   ]
  },
  {
   "cell_type": "markdown",
   "metadata": {
    "papermill": {
     "duration": 0.324157,
     "end_time": "2022-06-29T18:46:23.388631",
     "exception": false,
     "start_time": "2022-06-29T18:46:23.064474",
     "status": "completed"
    },
    "tags": []
   },
   "source": [
    "# Validation"
   ]
  },
  {
   "cell_type": "code",
   "execution_count": null,
   "metadata": {
    "ExecuteTime": {
     "end_time": "2023-11-26T22:16:41.685273Z",
     "start_time": "2023-11-26T22:16:41.554012Z"
    },
    "papermill": {
     "duration": 1.017769,
     "end_time": "2022-06-29T18:46:24.675605",
     "exception": false,
     "start_time": "2022-06-29T18:46:23.657836",
     "status": "completed"
    },
    "tags": []
   },
   "outputs": [],
   "source": [
    "# Delete old results\n",
    "wildcard = f\"{PROJECT_NAME}/validation_on_test_data*\"\n",
    "! rm -r $wildcard"
   ]
  },
  {
   "cell_type": "code",
   "execution_count": null,
   "metadata": {
    "ExecuteTime": {
     "end_time": "2023-11-26T22:17:08.486117Z",
     "start_time": "2023-11-26T22:16:43.852813Z"
    },
    "papermill": {
     "duration": 17.556236,
     "end_time": "2022-06-29T18:46:42.500659",
     "exception": false,
     "start_time": "2022-06-29T18:46:24.944423",
     "status": "completed"
    },
    "tags": []
   },
   "outputs": [],
   "source": [
    "WEIGHTS_BEST = f\"{PROJECT_NAME}/feature_extraction/weights/best.pt\"\n",
    "! python3.10 yolov5/val.py --weights $WEIGHTS_BEST --batch $VAL_BATCH --data 'data.yaml' --task test --project $PROJECT_NAME --name 'validation_on_test_data' --augment"
   ]
  },
  {
   "cell_type": "markdown",
   "metadata": {
    "papermill": {
     "duration": 0.267085,
     "end_time": "2022-06-29T18:46:43.033553",
     "exception": false,
     "start_time": "2022-06-29T18:46:42.766468",
     "status": "completed"
    },
    "tags": []
   },
   "source": [
    "# Test."
   ]
  },
  {
   "cell_type": "code",
   "execution_count": null,
   "metadata": {
    "ExecuteTime": {
     "end_time": "2023-11-26T23:19:23.508768Z",
     "start_time": "2023-11-26T23:19:23.388078Z"
    },
    "papermill": {
     "duration": 1.188124,
     "end_time": "2022-06-29T18:46:44.489858",
     "exception": false,
     "start_time": "2022-06-29T18:46:43.301734",
     "status": "completed"
    },
    "tags": []
   },
   "outputs": [],
   "source": [
    "# Delete old results\n",
    "wildcard = f\"{PROJECT_NAME}/detect_test*\"\n",
    "! rm -r $wildcard"
   ]
  },
  {
   "cell_type": "code",
   "execution_count": null,
   "metadata": {
    "ExecuteTime": {
     "end_time": "2023-11-26T23:19:43.738022Z",
     "start_time": "2023-11-26T23:19:25.106638Z"
    },
    "papermill": {
     "duration": 11.349649,
     "end_time": "2022-06-29T18:46:56.118947",
     "exception": false,
     "start_time": "2022-06-29T18:46:44.769298",
     "status": "completed"
    },
    "tags": []
   },
   "outputs": [],
   "source": [
    "! python3.10 yolov5/detect.py --weights $WEIGHTS_BEST --conf 0.6 --source 'yolov5/data/test/images' --project $PROJECT_NAME --name 'detect_test' --augment --line=3"
   ]
  },
  {
   "cell_type": "markdown",
   "metadata": {},
   "source": [
    "# Inference"
   ]
  },
  {
   "cell_type": "code",
   "execution_count": 7,
   "metadata": {
    "ExecuteTime": {
     "end_time": "2023-11-28T22:02:51.873307Z",
     "start_time": "2023-11-28T22:02:24.117645Z"
    }
   },
   "outputs": [
    {
     "name": "stdout",
     "output_type": "stream",
     "text": [
      "\u001b[34m\u001b[1mdetect: \u001b[0mweights=['yolov5_train/feature_extraction/weights/best.pt'], source=yolov5/data/test/images, data=yolov5/data/coco128.yaml, imgsz=[640, 640], conf_thres=0.4, iou_thres=0.45, max_det=1000, device=, view_img=False, save_txt=False, save_csv=False, save_conf=False, save_crop=False, nosave=False, classes=None, agnostic_nms=False, augment=False, visualize=False, update=False, project=yolov5/runs/detect, name=exp, exist_ok=False, line_thickness=3, hide_labels=False, hide_conf=False, half=False, dnn=False, vid_stride=1\n",
      "fatal: cannot change to '/home/zawar/Documents/Alexander': No such file or directory\n",
      "YOLOv5 🚀 2023-11-25 Python-3.10.0 torch-2.1.0+cu121 CPU\n",
      "\n",
      "Fusing layers... \n",
      "Model summary: 276 layers, 35272008 parameters, 0 gradients, 48.9 GFLOPs\n",
      "image 1/100 /home/zawar/Documents/Alexander Lampe/V2_testing/yolov5/data/test/images/amz_00001_jpg.rf.e25719c853c23a3e272654b8e784c8ed.jpg: 512x640 8 blue_cones, 2 orange_cones, 7 yellow_cones, 224.1ms\n",
      "image 2/100 /home/zawar/Documents/Alexander Lampe/V2_testing/yolov5/data/test/images/amz_00004_jpg.rf.074783d1ee87812974357cd6d639169f.jpg: 512x640 13 blue_cones, 8 yellow_cones, 190.1ms\n",
      "image 3/100 /home/zawar/Documents/Alexander Lampe/V2_testing/yolov5/data/test/images/amz_00016_jpg.rf.61738220b0b247d57032b4a9727c743b.jpg: 512x640 4 yellow_cones, 199.1ms\n",
      "image 4/100 /home/zawar/Documents/Alexander Lampe/V2_testing/yolov5/data/test/images/amz_00035_jpg.rf.d03ba280e583a5df9dbafa2ea49433d8.jpg: 512x640 3 blue_cones, 6 yellow_cones, 177.3ms\n",
      "image 5/100 /home/zawar/Documents/Alexander Lampe/V2_testing/yolov5/data/test/images/amz_00042_jpg.rf.4607417ec7964bf283cac7043121310d.jpg: 512x640 11 blue_cones, 10 yellow_cones, 201.6ms\n",
      "image 6/100 /home/zawar/Documents/Alexander Lampe/V2_testing/yolov5/data/test/images/amz_00058_jpg.rf.f5ec90b0ab206fe88eadde2f5c61834d.jpg: 384x640 16 blue_cones, 8 yellow_cones, 141.8ms\n",
      "image 7/100 /home/zawar/Documents/Alexander Lampe/V2_testing/yolov5/data/test/images/amz_00072_jpg.rf.410f5e1f357e40caf2e7434c1212b764.jpg: 384x640 5 blue_cones, 2 yellow_cones, 138.0ms\n",
      "image 8/100 /home/zawar/Documents/Alexander Lampe/V2_testing/yolov5/data/test/images/amz_00075_jpg.rf.d91eae61a9b4c2c5bc80cbe9253dfce6.jpg: 384x640 6 blue_cones, 3 yellow_cones, 256.5ms\n",
      "image 9/100 /home/zawar/Documents/Alexander Lampe/V2_testing/yolov5/data/test/images/amz_00082_jpg.rf.a50040df38d4e69e63b154dd9ae874cf.jpg: 384x640 4 blue_cones, 2 yellow_cones, 166.8ms\n",
      "image 10/100 /home/zawar/Documents/Alexander Lampe/V2_testing/yolov5/data/test/images/amz_00086_jpg.rf.93f8c42ab0ae269609e080a314411306.jpg: 384x640 5 blue_cones, 3 yellow_cones, 152.3ms\n",
      "image 11/100 /home/zawar/Documents/Alexander Lampe/V2_testing/yolov5/data/test/images/amz_00105_jpg.rf.a55782757964e7f10dc709e58e2be681.jpg: 384x640 8 blue_cones, 2 orange_cones, 9 yellow_cones, 150.7ms\n",
      "image 12/100 /home/zawar/Documents/Alexander Lampe/V2_testing/yolov5/data/test/images/amz_00131_jpg.rf.e7621139be258f72d125b9865f2c815a.jpg: 384x640 9 blue_cones, 6 yellow_cones, 151.4ms\n",
      "image 13/100 /home/zawar/Documents/Alexander Lampe/V2_testing/yolov5/data/test/images/amz_00137_jpg.rf.43421ef11c6518eb5a98decf93ae345d.jpg: 384x640 12 blue_cones, 6 yellow_cones, 150.8ms\n",
      "image 14/100 /home/zawar/Documents/Alexander Lampe/V2_testing/yolov5/data/test/images/amz_00141_jpg.rf.cfab2f7d2e09fcdf026f734a4291567a.jpg: 384x640 9 blue_cones, 5 yellow_cones, 151.2ms\n",
      "image 15/100 /home/zawar/Documents/Alexander Lampe/V2_testing/yolov5/data/test/images/amz_00164_jpg.rf.ce11b40e1d1b8090df7fdec2a34035d7.jpg: 384x640 11 blue_cones, 5 large_orange_cones, 2 orange_cones, 10 yellow_cones, 151.6ms\n",
      "image 16/100 /home/zawar/Documents/Alexander Lampe/V2_testing/yolov5/data/test/images/amz_00184_jpg.rf.a3dd59f055c4471724d039e7d3fed4a0.jpg: 384x640 7 blue_cones, 6 yellow_cones, 149.6ms\n",
      "image 17/100 /home/zawar/Documents/Alexander Lampe/V2_testing/yolov5/data/test/images/amz_00196_jpg.rf.5277c4255edb7ac6f4a8ae1b4f14c99f.jpg: 384x640 3 blue_cones, 3 yellow_cones, 155.3ms\n",
      "image 18/100 /home/zawar/Documents/Alexander Lampe/V2_testing/yolov5/data/test/images/amz_00208_jpg.rf.b57f37248504ffca9f4f210ad9df7b6e.jpg: 384x640 15 blue_cones, 2 large_orange_cones, 17 yellow_cones, 153.7ms\n",
      "image 19/100 /home/zawar/Documents/Alexander Lampe/V2_testing/yolov5/data/test/images/amz_00232_png.rf.9abf0040a582daf12703e2d6bfcb6eb0.jpg: 384x640 3 blue_cones, 178.3ms\n",
      "image 20/100 /home/zawar/Documents/Alexander Lampe/V2_testing/yolov5/data/test/images/amz_00247_png.rf.b97b75fed1cd40fe457222cb09ea62eb.jpg: 384x640 3 yellow_cones, 151.0ms\n",
      "image 21/100 /home/zawar/Documents/Alexander Lampe/V2_testing/yolov5/data/test/images/amz_00261_png.rf.950fb0e214679f9987b24565e85b9568.jpg: 384x640 1 large_orange_cone, 9 orange_cones, 151.0ms\n",
      "image 22/100 /home/zawar/Documents/Alexander Lampe/V2_testing/yolov5/data/test/images/amz_00270_png.rf.0ff9b41c2bb6dbc71e1ee963e99199a2.jpg: 384x640 4 blue_cones, 5 yellow_cones, 149.1ms\n",
      "image 23/100 /home/zawar/Documents/Alexander Lampe/V2_testing/yolov5/data/test/images/amz_00294_png.rf.6fffd616d160fc7ad65c1da51b35a8a2.jpg: 384x640 5 blue_cones, 1 orange_cone, 5 yellow_cones, 152.5ms\n",
      "image 24/100 /home/zawar/Documents/Alexander Lampe/V2_testing/yolov5/data/test/images/amz_00295_png.rf.3977571b41120ce571b08e627bbd3551.jpg: 384x640 4 blue_cones, 3 orange_cones, 4 yellow_cones, 150.4ms\n",
      "image 25/100 /home/zawar/Documents/Alexander Lampe/V2_testing/yolov5/data/test/images/amz_00308_jpg.rf.8cc7fc3ead2e91a10c1401a1da54d2ed.jpg: 576x640 6 blue_cones, 1 orange_cone, 8 yellow_cones, 223.8ms\n",
      "image 26/100 /home/zawar/Documents/Alexander Lampe/V2_testing/yolov5/data/test/images/amz_00320_jpg.rf.879c356afc9d597dc2603d9b1d77036f.jpg: 576x640 2 blue_cones, 2 yellow_cones, 192.5ms\n",
      "image 27/100 /home/zawar/Documents/Alexander Lampe/V2_testing/yolov5/data/test/images/amz_00332_jpg.rf.b750273640fc32e5c61147156b0b0484.jpg: 576x640 2 blue_cones, 1 yellow_cone, 211.7ms\n",
      "image 28/100 /home/zawar/Documents/Alexander Lampe/V2_testing/yolov5/data/test/images/amz_00340_jpg.rf.070595c854de42fe53e60a97fea9a871.jpg: 576x640 3 blue_cones, 1 orange_cone, 2 yellow_cones, 214.6ms\n",
      "image 29/100 /home/zawar/Documents/Alexander Lampe/V2_testing/yolov5/data/test/images/amz_00345_jpg.rf.210a516182f94c7f5f7eb27686cf7426.jpg: 576x640 3 blue_cones, 1 large_orange_cone, 2 orange_cones, 4 yellow_cones, 211.9ms\n",
      "image 30/100 /home/zawar/Documents/Alexander Lampe/V2_testing/yolov5/data/test/images/amz_00350_jpg.rf.9f807aa3a997c17d3c23ad6718c79fce.jpg: 576x640 2 blue_cones, 211.5ms\n",
      "image 31/100 /home/zawar/Documents/Alexander Lampe/V2_testing/yolov5/data/test/images/amz_00351_jpg.rf.54dad189d49c27daa158501277f69a94.jpg: 576x640 1 blue_cone, 1 large_orange_cone, 1 orange_cone, 3 yellow_cones, 211.9ms\n",
      "image 32/100 /home/zawar/Documents/Alexander Lampe/V2_testing/yolov5/data/test/images/amz_00352_jpg.rf.dfbb10730cea12b0ba0f8be520e37ef9.jpg: 576x640 2 blue_cones, 1 orange_cone, 3 yellow_cones, 196.4ms\n",
      "image 33/100 /home/zawar/Documents/Alexander Lampe/V2_testing/yolov5/data/test/images/amz_00357_jpg.rf.3050d89c4a7a4c6b0bc7328d70306334.jpg: 576x640 2 yellow_cones, 196.9ms\n",
      "image 34/100 /home/zawar/Documents/Alexander Lampe/V2_testing/yolov5/data/test/images/amz_00363_jpg.rf.a566cec50eddbba26b8330123768e222.jpg: 576x640 1 blue_cone, 1 yellow_cone, 211.8ms\n",
      "image 35/100 /home/zawar/Documents/Alexander Lampe/V2_testing/yolov5/data/test/images/amz_00364_jpg.rf.656522d55ac52097bbed0dc8339eb3b9.jpg: 576x640 1 blue_cone, 228.1ms\n",
      "image 36/100 /home/zawar/Documents/Alexander Lampe/V2_testing/yolov5/data/test/images/amz_00367_jpg.rf.bffa88ef9722eff0d054e068c946d67e.jpg: 576x640 2 blue_cones, 2 orange_cones, 1 yellow_cone, 201.3ms\n",
      "image 37/100 /home/zawar/Documents/Alexander Lampe/V2_testing/yolov5/data/test/images/amz_00425_jpg.rf.68368a09a1a160e3d0eb60ca7930f3c2.jpg: 576x640 3 blue_cones, 3 yellow_cones, 193.8ms\n",
      "image 38/100 /home/zawar/Documents/Alexander Lampe/V2_testing/yolov5/data/test/images/amz_00467_jpg.rf.3c26159f2ad9625aba0aa5298d484108.jpg: 576x640 1 blue_cone, 1 yellow_cone, 212.4ms\n",
      "image 39/100 /home/zawar/Documents/Alexander Lampe/V2_testing/yolov5/data/test/images/amz_00470_jpg.rf.4162f4957d99041766c7962e8ccb8a65.jpg: 576x640 14 blue_cones, 4 orange_cones, 9 yellow_cones, 211.1ms\n"
     ]
    },
    {
     "name": "stdout",
     "output_type": "stream",
     "text": [
      "image 40/100 /home/zawar/Documents/Alexander Lampe/V2_testing/yolov5/data/test/images/amz_00472_jpg.rf.9f11f0917d2dcba6c684302ec5a95c28.jpg: 576x640 11 blue_cones, 6 orange_cones, 11 yellow_cones, 219.7ms\n",
      "image 41/100 /home/zawar/Documents/Alexander Lampe/V2_testing/yolov5/data/test/images/amz_00475_jpg.rf.be54dbefeaa5752cae786337e32db89f.jpg: 576x640 10 blue_cones, 1 large_orange_cone, 3 orange_cones, 8 yellow_cones, 197.2ms\n",
      "image 42/100 /home/zawar/Documents/Alexander Lampe/V2_testing/yolov5/data/test/images/amz_00483_jpg.rf.0a392c0874d4e39f1a8d16aed18d0544.jpg: 576x640 11 blue_cones, 6 orange_cones, 5 yellow_cones, 294.7ms\n",
      "image 43/100 /home/zawar/Documents/Alexander Lampe/V2_testing/yolov5/data/test/images/amz_00487_jpg.rf.3b406c54ddd056a85b554c6a6f3f7ba4.jpg: 576x640 8 blue_cones, 1 large_orange_cone, 4 orange_cones, 7 yellow_cones, 258.5ms\n",
      "image 44/100 /home/zawar/Documents/Alexander Lampe/V2_testing/yolov5/data/test/images/amz_00494_jpg.rf.381a51861f4fdc3e1a3ec1edbc4c958b.jpg: 576x640 5 blue_cones, 2 orange_cones, 5 yellow_cones, 372.4ms\n",
      "image 45/100 /home/zawar/Documents/Alexander Lampe/V2_testing/yolov5/data/test/images/amz_00520_jpg.rf.f123b8180203b7a1f746c6a476fbd873.jpg: 576x640 9 blue_cones, 3 large_orange_cones, 4 orange_cones, 8 yellow_cones, 248.1ms\n",
      "image 46/100 /home/zawar/Documents/Alexander Lampe/V2_testing/yolov5/data/test/images/amz_00525_jpg.rf.15cec46da2d17410be2fa72dd3227c1a.jpg: 576x640 5 blue_cones, 1 large_orange_cone, 3 orange_cones, 9 yellow_cones, 193.1ms\n",
      "image 47/100 /home/zawar/Documents/Alexander Lampe/V2_testing/yolov5/data/test/images/amz_00538_jpg.rf.8042406a7b6d84b939eab496c4351566.jpg: 576x640 1 blue_cone, 1 orange_cone, 1 yellow_cone, 194.4ms\n",
      "image 48/100 /home/zawar/Documents/Alexander Lampe/V2_testing/yolov5/data/test/images/amz_00561_jpg.rf.53ff2fe61bd78ce126ab2bfb16380c6a.jpg: 576x640 6 blue_cones, 1 orange_cone, 5 yellow_cones, 224.0ms\n",
      "image 49/100 /home/zawar/Documents/Alexander Lampe/V2_testing/yolov5/data/test/images/amz_00568_jpg.rf.99e08353afe1c3af379e2e92ae42710f.jpg: 576x640 8 blue_cones, 1 large_orange_cone, 4 orange_cones, 5 yellow_cones, 201.3ms\n",
      "image 50/100 /home/zawar/Documents/Alexander Lampe/V2_testing/yolov5/data/test/images/amz_00569_jpg.rf.6063a22b6a7543a5e06c6006fdb76f7b.jpg: 576x640 9 blue_cones, 4 orange_cones, 10 yellow_cones, 193.6ms\n",
      "image 51/100 /home/zawar/Documents/Alexander Lampe/V2_testing/yolov5/data/test/images/amz_00602_jpg.rf.22fc12480ff1c3058c75211c8d176470.jpg: 384x640 3 blue_cones, 147.7ms\n",
      "image 52/100 /home/zawar/Documents/Alexander Lampe/V2_testing/yolov5/data/test/images/amz_00607_jpg.rf.a268e27ec867f7bc62fef1b38c94f047.jpg: 384x640 2 blue_cones, 453.0ms\n",
      "image 53/100 /home/zawar/Documents/Alexander Lampe/V2_testing/yolov5/data/test/images/amz_00618_jpg.rf.a8799ffe7d1a1d91eadb3cf6139c34ad.jpg: 384x640 1 blue_cone, 135.3ms\n",
      "image 54/100 /home/zawar/Documents/Alexander Lampe/V2_testing/yolov5/data/test/images/amz_00646_jpg.rf.b6ed628ae0ea9d81c0dba610c16b3e2d.jpg: 384x640 1 blue_cone, 1 orange_cone, 368.4ms\n",
      "image 55/100 /home/zawar/Documents/Alexander Lampe/V2_testing/yolov5/data/test/images/amz_00668_png.rf.ad2a276e1e0a1fc9011ac38641937fb9.jpg: 384x640 2 blue_cones, 189.8ms\n",
      "image 56/100 /home/zawar/Documents/Alexander Lampe/V2_testing/yolov5/data/test/images/amz_00669_png.rf.89e20ea6f8a6d5d49a6a976f75ccbfbd.jpg: 384x640 3 blue_cones, 147.6ms\n",
      "image 57/100 /home/zawar/Documents/Alexander Lampe/V2_testing/yolov5/data/test/images/amz_00676_png.rf.7096cf594f7387ebf48083059e8ae32a.jpg: 384x640 4 blue_cones, 154.1ms\n",
      "image 58/100 /home/zawar/Documents/Alexander Lampe/V2_testing/yolov5/data/test/images/amz_00684_png.rf.71078befd92eb5e5c534167e12590e5a.jpg: 384x640 6 blue_cones, 18 yellow_cones, 176.1ms\n",
      "image 59/100 /home/zawar/Documents/Alexander Lampe/V2_testing/yolov5/data/test/images/amz_00686_png.rf.723a5ee98e85ef4ae9fdbb0d71d52342.jpg: 384x640 11 blue_cones, 21 yellow_cones, 150.7ms\n",
      "image 60/100 /home/zawar/Documents/Alexander Lampe/V2_testing/yolov5/data/test/images/amz_00688_png.rf.8e1f87251d097a9bc9b63495970df3c4.jpg: 384x640 10 blue_cones, 17 yellow_cones, 141.4ms\n",
      "image 61/100 /home/zawar/Documents/Alexander Lampe/V2_testing/yolov5/data/test/images/amz_00695_png.rf.245ba5d0f3d9bd0c743b61b3b34d2193.jpg: 384x640 4 blue_cones, 138.6ms\n",
      "image 62/100 /home/zawar/Documents/Alexander Lampe/V2_testing/yolov5/data/test/images/amz_00722_png.rf.c9f2621fddc13d7c8f17eadf1cfbb6a3.jpg: 384x640 8 blue_cones, 9 yellow_cones, 150.5ms\n",
      "image 63/100 /home/zawar/Documents/Alexander Lampe/V2_testing/yolov5/data/test/images/amz_00731_png.rf.3e61344b7ed92219e5dfe3b03fde45d8.jpg: 384x640 12 blue_cones, 3 yellow_cones, 136.3ms\n",
      "image 64/100 /home/zawar/Documents/Alexander Lampe/V2_testing/yolov5/data/test/images/amz_00735_png.rf.6c1aec4e8df1179ca97ae7740ae0804a.jpg: 384x640 6 blue_cones, 4 yellow_cones, 134.6ms\n",
      "image 65/100 /home/zawar/Documents/Alexander Lampe/V2_testing/yolov5/data/test/images/amz_00748_png.rf.98c06ac0d5ad1f09384987d39b88f4cb.jpg: 384x640 9 blue_cones, 10 yellow_cones, 144.5ms\n",
      "image 66/100 /home/zawar/Documents/Alexander Lampe/V2_testing/yolov5/data/test/images/amz_00753_png.rf.81767391c5e57018d8d7529851facc3a.jpg: 384x640 8 blue_cones, 5 yellow_cones, 382.3ms\n",
      "image 67/100 /home/zawar/Documents/Alexander Lampe/V2_testing/yolov5/data/test/images/amz_00765_png.rf.1b5363987ffd9dc1b8216a9d0b394987.jpg: 384x640 6 blue_cones, 10 yellow_cones, 143.4ms\n",
      "image 68/100 /home/zawar/Documents/Alexander Lampe/V2_testing/yolov5/data/test/images/amz_00812_png.rf.879d45264ba8326ccde7798dd9450260.jpg: 256x640 6 blue_cones, 1 yellow_cone, 186.3ms\n",
      "image 69/100 /home/zawar/Documents/Alexander Lampe/V2_testing/yolov5/data/test/images/amz_00818_png.rf.75998d2eeb72939169be9d78ca82602d.jpg: 256x640 4 blue_cones, 1 orange_cone, 188.8ms\n",
      "image 70/100 /home/zawar/Documents/Alexander Lampe/V2_testing/yolov5/data/test/images/amz_00829_png.rf.be7be682ef780e631531e96b13bcb5fa.jpg: 256x640 5 blue_cones, 107.0ms\n",
      "image 71/100 /home/zawar/Documents/Alexander Lampe/V2_testing/yolov5/data/test/images/amz_00844_png.rf.a5f3a20b60abe50b654a42efde102a1c.jpg: 256x640 2 blue_cones, 3 large_orange_cones, 4 orange_cones, 137.1ms\n",
      "image 72/100 /home/zawar/Documents/Alexander Lampe/V2_testing/yolov5/data/test/images/amz_00845_png.rf.bba6f5ff7f377b34da9d44e22f79bd86.jpg: 256x640 1 large_orange_cone, 4 orange_cones, 153.0ms\n",
      "image 73/100 /home/zawar/Documents/Alexander Lampe/V2_testing/yolov5/data/test/images/amz_00876_png.rf.80e0f8ab48d87b59fdeb80a03edb5bdb.jpg: 256x640 1 blue_cone, 1 orange_cone, 3 yellow_cones, 110.6ms\n",
      "image 74/100 /home/zawar/Documents/Alexander Lampe/V2_testing/yolov5/data/test/images/amz_00884_png.rf.789193f490b73da05a7dd795acc00a83.jpg: 256x640 1 orange_cone, 5 yellow_cones, 106.8ms\n",
      "image 75/100 /home/zawar/Documents/Alexander Lampe/V2_testing/yolov5/data/test/images/amz_00890_png.rf.bb2a53c21938217a5815846ff0ba5a09.jpg: 256x640 4 yellow_cones, 106.3ms\n",
      "image 76/100 /home/zawar/Documents/Alexander Lampe/V2_testing/yolov5/data/test/images/amz_00907_png.rf.4e95d1a98f098fa7385d808825eeb3a9.jpg: 256x640 5 orange_cones, 108.6ms\n",
      "image 77/100 /home/zawar/Documents/Alexander Lampe/V2_testing/yolov5/data/test/images/amz_00927_png.rf.4f6e04495358d7db53bf5abb9c21a244.jpg: 256x640 8 blue_cones, 2 large_orange_cones, 2 yellow_cones, 107.1ms\n",
      "image 78/100 /home/zawar/Documents/Alexander Lampe/V2_testing/yolov5/data/test/images/amz_00928_png.rf.3568d9a8042ac5588dc9ce2c6f50b132.jpg: 256x640 8 blue_cones, 1 large_orange_cone, 2 yellow_cones, 109.7ms\n",
      "image 79/100 /home/zawar/Documents/Alexander Lampe/V2_testing/yolov5/data/test/images/amz_00933_png.rf.33fb9cd93d7e8b6e2cb72285ac8bf632.jpg: 256x640 10 blue_cones, 2 large_orange_cones, 1 yellow_cone, 106.1ms\n",
      "image 80/100 /home/zawar/Documents/Alexander Lampe/V2_testing/yolov5/data/test/images/amz_00952_png.rf.e29ae81dca72aaaf55473c434385ec16.jpg: 256x640 14 blue_cones, 8 yellow_cones, 121.7ms\n",
      "image 81/100 /home/zawar/Documents/Alexander Lampe/V2_testing/yolov5/data/test/images/amz_00957_png.rf.4e8393b5fcbaaafb367ab1869f5768e6.jpg: 256x640 8 blue_cones, 7 yellow_cones, 109.3ms\n",
      "image 82/100 /home/zawar/Documents/Alexander Lampe/V2_testing/yolov5/data/test/images/amz_00966_png.rf.e2851071b79358b22af638729dd1cfd8.jpg: 256x640 5 blue_cones, 111.2ms\n"
     ]
    },
    {
     "name": "stdout",
     "output_type": "stream",
     "text": [
      "image 83/100 /home/zawar/Documents/Alexander Lampe/V2_testing/yolov5/data/test/images/amz_00968_png.rf.ed479186686641152db23c0129cef01a.jpg: 256x640 3 blue_cones, 113.1ms\n",
      "image 84/100 /home/zawar/Documents/Alexander Lampe/V2_testing/yolov5/data/test/images/amz_00971_png.rf.c36b9b08bf6e8ad88cbf20100299a809.jpg: 256x640 2 blue_cones, 105.8ms\n",
      "image 85/100 /home/zawar/Documents/Alexander Lampe/V2_testing/yolov5/data/test/images/amz_00987_png.rf.29a94331cc2992ef4ad38e14c781f8aa.jpg: 256x640 2 blue_cones, 104.5ms\n",
      "image 86/100 /home/zawar/Documents/Alexander Lampe/V2_testing/yolov5/data/test/images/amz_00991_png.rf.8a5f96977ffce43cb42a52a90994ccfe.jpg: 256x640 2 blue_cones, 103.6ms\n",
      "image 87/100 /home/zawar/Documents/Alexander Lampe/V2_testing/yolov5/data/test/images/amz_01003_png.rf.36f072121f9b61a064a5c77033efb38c.jpg: 256x640 3 blue_cones, 121.6ms\n",
      "image 88/100 /home/zawar/Documents/Alexander Lampe/V2_testing/yolov5/data/test/images/amz_01021_png.rf.e09faef4a46c877b5a4c89f8bc78ce85.jpg: 256x640 13 blue_cones, 5 yellow_cones, 103.3ms\n",
      "image 89/100 /home/zawar/Documents/Alexander Lampe/V2_testing/yolov5/data/test/images/amz_01031_png.rf.0c6051793774bcf2bb9ad98c5692a967.jpg: 256x640 8 blue_cones, 1 yellow_cone, 96.1ms\n",
      "image 90/100 /home/zawar/Documents/Alexander Lampe/V2_testing/yolov5/data/test/images/amz_01038_png.rf.c7efea644985a7215e92e0ff1d33f9d8.jpg: 256x640 3 blue_cones, 106.4ms\n",
      "image 91/100 /home/zawar/Documents/Alexander Lampe/V2_testing/yolov5/data/test/images/amz_01042_png.rf.979badf2bb7c117fc208edf27264316e.jpg: 256x640 2 blue_cones, 107.3ms\n",
      "image 92/100 /home/zawar/Documents/Alexander Lampe/V2_testing/yolov5/data/test/images/amz_01056_png.rf.b275c01853fae00e78da08dd86c8d694.jpg: 256x640 9 blue_cones, 6 yellow_cones, 104.7ms\n",
      "image 93/100 /home/zawar/Documents/Alexander Lampe/V2_testing/yolov5/data/test/images/amz_01062_png.rf.ec1c00d61b4a05885b61f8740c177a47.jpg: 256x640 9 blue_cones, 5 yellow_cones, 104.3ms\n",
      "image 94/100 /home/zawar/Documents/Alexander Lampe/V2_testing/yolov5/data/test/images/amz_01064_png.rf.32d69251e060c577b75fbebb4e1e584c.jpg: 256x640 8 blue_cones, 5 yellow_cones, 103.4ms\n",
      "image 95/100 /home/zawar/Documents/Alexander Lampe/V2_testing/yolov5/data/test/images/amz_01084_png.rf.18d09942d86863a057c141b2722d8bea.jpg: 256x640 2 blue_cones, 102.9ms\n",
      "image 96/100 /home/zawar/Documents/Alexander Lampe/V2_testing/yolov5/data/test/images/amz_01096_png.rf.7ea5e8fb754f2f7698390b8760696951.jpg: 256x640 2 blue_cones, 97.8ms\n",
      "image 97/100 /home/zawar/Documents/Alexander Lampe/V2_testing/yolov5/data/test/images/amz_01145_png.rf.bf306b5e2638f3e3c405deb7493d3820.jpg: 256x640 2 blue_cones, 108.0ms\n",
      "image 98/100 /home/zawar/Documents/Alexander Lampe/V2_testing/yolov5/data/test/images/amz_01151_png.rf.ea5d26da41725ffa28adf2fbe5f0267f.jpg: 256x640 1 blue_cone, 106.1ms\n",
      "image 99/100 /home/zawar/Documents/Alexander Lampe/V2_testing/yolov5/data/test/images/amz_01177_png.rf.b79e642be8f7a78f469488e119996806.jpg: 256x640 5 blue_cones, 2 yellow_cones, 104.2ms\n",
      "image 100/100 /home/zawar/Documents/Alexander Lampe/V2_testing/yolov5/data/test/images/amz_01188_png.rf.0314fdc427b9a8b5fc6ea9ed385187d2.jpg: 256x640 11 blue_cones, 1 large_orange_cone, 8 yellow_cones, 104.8ms\n",
      "Speed: 1.0ms pre-process, 167.8ms inference, 0.7ms NMS per image at shape (1, 3, 640, 640)\n",
      "Results saved to \u001b[1myolov5/runs/detect/exp\u001b[0m\n"
     ]
    }
   ],
   "source": [
    "WEIGHTS_BEST = f\"{PROJECT_NAME}/feature_extraction/weights/best.pt\"\n",
    "!python3.10 yolov5/detect.py --source 'yolov5/data/test/images' --weights $WEIGHTS_BEST --conf-thres 0.4"
   ]
  },
  {
   "cell_type": "code",
   "execution_count": null,
   "metadata": {
    "ExecuteTime": {
     "end_time": "2023-11-26T23:20:35.834782Z",
     "start_time": "2023-11-26T23:20:35.832075Z"
    },
    "papermill": {
     "duration": 0.281718,
     "end_time": "2022-06-29T18:46:56.678286",
     "exception": false,
     "start_time": "2022-06-29T18:46:56.396568",
     "status": "completed"
    },
    "tags": []
   },
   "outputs": [],
   "source": [
    "def read_images(dirpath):\n",
    "    images = []\n",
    "    for img_filename in os.listdir(dirpath):\n",
    "        images.append(mpimg.imread(f\"{dirpath}/{img_filename}\"))\n",
    "    return images"
   ]
  },
  {
   "cell_type": "code",
   "execution_count": null,
   "metadata": {
    "ExecuteTime": {
     "end_time": "2023-11-26T23:20:37.164332Z",
     "start_time": "2023-11-26T23:20:37.152473Z"
    },
    "papermill": {
     "duration": 0.343036,
     "end_time": "2022-06-29T18:46:57.294323",
     "exception": false,
     "start_time": "2022-06-29T18:46:56.951287",
     "status": "completed"
    },
    "tags": []
   },
   "outputs": [],
   "source": [
    "def label_test_images(test_images_path, test_labels_path, classes):\n",
    "    test_images = os.listdir(test_images_path)\n",
    "    labeled_images = []\n",
    "\n",
    "    for idx, test_image_filename in enumerate(test_images):\n",
    "        image = mpimg.imread(f\"{test_images_path}/{test_image_filename}\")\n",
    "\n",
    "        x_shape, y_shape = image.shape[1], image.shape[0]\n",
    "\n",
    "        test_label_filename = f\"{test_image_filename[:-4]}.txt\"\n",
    "\n",
    "        with open(f\"{test_labels_path}/{test_label_filename}\", \"r\") as f:\n",
    "            lines = f.readlines()\n",
    "\n",
    "            for line in lines:\n",
    "                # Parse line\n",
    "                box = line.split()\n",
    "                class_idx = box[0]\n",
    "\n",
    "                class_name = names[int(class_idx)]\n",
    "                x_center, y_center, box_w, box_h = int(float(box[1])*x_shape), int(float(box[2])*y_shape), int(float(box[3])*x_shape), int(float(box[3])*y_shape)\n",
    "                x1, y1, x2, y2 = x_center-int(box_w/2), y_center-int(box_h/2), x_center+int(box_w/2), y_center+int(box_h/2)\n",
    "\n",
    "                cv2.rectangle(image, (x1, y1), (x2, y2), (0, 0, 255), 3)\n",
    "                cv2.putText(image, class_name, (x1, y1), cv2.FONT_HERSHEY_SIMPLEX, 0.9, (0, 0, 255), 3)\n",
    "\n",
    "        labeled_images.append(image)\n",
    "\n",
    "    return labeled_images\n"
   ]
  },
  {
   "cell_type": "code",
   "execution_count": null,
   "metadata": {
    "ExecuteTime": {
     "end_time": "2023-11-26T23:20:41.674954Z",
     "start_time": "2023-11-26T23:20:41.670096Z"
    }
   },
   "outputs": [],
   "source": [
    "yaml_file_path = \"yolov5/data/data.yaml\"\n",
    "names = []\n",
    "with open(os.path.join(os.getcwd(), yaml_file_path), 'r') as file:\n",
    "    try:\n",
    "        data = yaml.safe_load(file)\n",
    "        names.extend(data[\"names\"])\n",
    "        print(\"YAML file content:\", data)\n",
    "    except yaml.YAMLError as e:\n",
    "        print(\"Error reading YAML file:\", e)\n",
    "        \n",
    "print(\"names\", names)"
   ]
  },
  {
   "cell_type": "code",
   "execution_count": null,
   "metadata": {
    "ExecuteTime": {
     "end_time": "2023-11-26T23:20:49.245990Z",
     "start_time": "2023-11-26T23:20:43.756315Z"
    },
    "papermill": {
     "duration": 1.337203,
     "end_time": "2022-06-29T18:46:58.907998",
     "exception": false,
     "start_time": "2022-06-29T18:46:57.570795",
     "status": "completed"
    },
    "tags": []
   },
   "outputs": [],
   "source": [
    "detect_path = f\"{PROJECT_NAME}/detect_test\"\n",
    "test_images_path = f\"yolov5/data/test/images\"\n",
    "test_labels_path = f\"yolov5/data/test/labels\"\n",
    "\n",
    "detected_images = read_images(detect_path)\n",
    "test_labeled_images = label_test_images(test_images_path, test_labels_path, classes=names)\n",
    "\n",
    "stacked_images = [np.hstack([detected_images[idx], test_labeled_images[idx]]) for idx in range(len(detected_images))]"
   ]
  },
  {
   "cell_type": "code",
   "execution_count": null,
   "metadata": {
    "ExecuteTime": {
     "end_time": "2023-11-26T23:21:38.361765Z",
     "start_time": "2023-11-26T23:20:50.123820Z"
    },
    "papermill": {
     "duration": 11.682689,
     "end_time": "2022-06-29T18:47:10.880221",
     "exception": false,
     "start_time": "2022-06-29T18:46:59.197532",
     "status": "completed"
    },
    "tags": []
   },
   "outputs": [],
   "source": [
    "for image in stacked_images:\n",
    "    fig = plt.figure(figsize=(40, 15))\n",
    "    ax1 = fig.add_subplot(2,2,1)\n",
    "    ax1.imshow(image)"
   ]
  },
  {
   "cell_type": "markdown",
   "metadata": {
    "papermill": {
     "duration": 0.358482,
     "end_time": "2022-06-29T18:47:11.591433",
     "exception": false,
     "start_time": "2022-06-29T18:47:11.232951",
     "status": "completed"
    },
    "tags": []
   },
   "source": [
    "# Save model"
   ]
  },
  {
   "cell_type": "markdown",
   "metadata": {
    "papermill": {
     "duration": 0.353186,
     "end_time": "2022-06-29T18:47:12.341083",
     "exception": false,
     "start_time": "2022-06-29T18:47:11.987897",
     "status": "completed"
    },
    "tags": []
   },
   "source": [
    ">  - **PROJECT_FOLDER{yolov5_train}/feature_extraction/weights/best.pt**\n",
    "\n",
    ">  - **best.pt** will be used to load it in your project to predict."
   ]
  },
  {
   "cell_type": "code",
   "execution_count": null,
   "metadata": {},
   "outputs": [],
   "source": []
  }
 ],
 "metadata": {
  "hide_input": false,
  "kernelspec": {
   "display_name": "Python 3",
   "language": "python",
   "name": "python3"
  },
  "language_info": {
   "codemirror_mode": {
    "name": "ipython",
    "version": 3
   },
   "file_extension": ".py",
   "mimetype": "text/x-python",
   "name": "python",
   "nbconvert_exporter": "python",
   "pygments_lexer": "ipython3",
   "version": "3.7.7"
  },
  "latex_envs": {
   "LaTeX_envs_menu_present": true,
   "autoclose": false,
   "autocomplete": true,
   "bibliofile": "biblio.bib",
   "cite_by": "apalike",
   "current_citInitial": 1,
   "eqLabelWithNumbers": true,
   "eqNumInitial": 1,
   "hotkeys": {
    "equation": "Ctrl-E",
    "itemize": "Ctrl-I"
   },
   "labels_anchors": false,
   "latex_user_defs": false,
   "report_style_numbering": false,
   "user_envs_cfg": false
  },
  "nbTranslate": {
   "displayLangs": [
    "*"
   ],
   "hotkey": "alt-t",
   "langInMainMenu": true,
   "sourceLang": "en",
   "targetLang": "fr",
   "useGoogleTranslate": true
  },
  "papermill": {
   "default_parameters": {},
   "duration": 3131.508917,
   "end_time": "2022-06-29T18:47:13.519249",
   "environment_variables": {},
   "exception": null,
   "input_path": "__notebook__.ipynb",
   "output_path": "__notebook__.ipynb",
   "parameters": {},
   "start_time": "2022-06-29T17:55:02.010332",
   "version": "2.3.4"
  },
  "toc": {
   "base_numbering": 1,
   "nav_menu": {},
   "number_sections": true,
   "sideBar": true,
   "skip_h1_title": false,
   "title_cell": "Table of Contents",
   "title_sidebar": "Contents",
   "toc_cell": false,
   "toc_position": {},
   "toc_section_display": true,
   "toc_window_display": false
  }
 },
 "nbformat": 4,
 "nbformat_minor": 5
}
