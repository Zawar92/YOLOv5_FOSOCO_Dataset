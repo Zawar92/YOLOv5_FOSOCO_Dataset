{
 "cells": [
  {
   "cell_type": "markdown",
   "metadata": {},
   "source": [
    "# Convert data to yolov5 Pytorch format\n",
    "\n",
    "> **1. Set path for your data that you want to prepare.**\n",
    "\n",
    "> **2. Break data in Train,test, validation data.**\n",
    "\n",
    "> **3. Move to respected folders.**\n",
    "\n",
    "> **4. Read .json file and prepare .yaml file accordingly.**"
   ]
  },
  {
   "cell_type": "code",
   "execution_count": null,
   "metadata": {
    "ExecuteTime": {
     "end_time": "2023-11-26T00:39:05.372824Z",
     "start_time": "2023-11-26T00:39:05.350379Z"
    }
   },
   "outputs": [],
   "source": [
    "import os\n",
    "import json\n",
    "import yaml\n",
    "import shutil\n",
    "from sklearn.model_selection import train_test_split"
   ]
  },
  {
   "cell_type": "code",
   "execution_count": null,
   "metadata": {
    "ExecuteTime": {
     "end_time": "2023-11-26T00:35:05.630332Z",
     "start_time": "2023-11-26T00:35:05.624674Z"
    }
   },
   "outputs": [],
   "source": [
    "IMAGES_PATH = \"./data_testing/images\"\n",
    "LABELS_PATH = \"./data_testing/labels\"\n",
    "NOTES_PATH = \"./data_testing/data.json\""
   ]
  },
  {
   "cell_type": "code",
   "execution_count": null,
   "metadata": {
    "ExecuteTime": {
     "end_time": "2023-11-26T00:35:05.780136Z",
     "start_time": "2023-11-26T00:35:05.746217Z"
    }
   },
   "outputs": [],
   "source": [
    "# Read labels\n",
    "labels = os.listdir(LABELS_PATH)\n",
    "\n",
    "# Split data\n",
    "train, test = train_test_split(labels, test_size=0.15, shuffle=True)\n",
    "valid, test = train_test_split(test, test_size=0.2)\n",
    "\n",
    "print(f\"train: {len(train)}; valid: {len(valid)}; test: {len(test)}\")"
   ]
  },
  {
   "cell_type": "code",
   "execution_count": null,
   "metadata": {
    "ExecuteTime": {
     "end_time": "2023-11-26T00:35:40.522082Z",
     "start_time": "2023-11-26T00:35:40.518851Z"
    }
   },
   "outputs": [],
   "source": [
    "os.makedirs(\"./data_testing/v1/test/images\")\n",
    "os.makedirs(\"./data_testing/v1/test/labels\")\n",
    "os.makedirs(\"./data_testing/v1/train/images\")\n",
    "os.makedirs(\"./data_testing/v1/train/labels\")\n",
    "os.makedirs(\"./data_testing/v1/valid/images\")\n",
    "os.makedirs(\"./data_testing/v1/valid/labels\")"
   ]
  },
  {
   "cell_type": "code",
   "execution_count": null,
   "metadata": {
    "ExecuteTime": {
     "end_time": "2023-11-26T00:36:41.027159Z",
     "start_time": "2023-11-26T00:36:41.011288Z"
    }
   },
   "outputs": [],
   "source": [
    "def move_files_to_dir(files, dirname):\n",
    "    for label_filename in files:\n",
    "        print(label_filename)\n",
    "        image_filename = f\"{label_filename[:-4]}.jpg\"\n",
    "        print(f\"{IMAGES_PATH}/{image_filename}\")\n",
    "        shutil.copy(f\"{IMAGES_PATH}/{image_filename}\", f\"{dirname}/images/{image_filename}\")\n",
    "        shutil.copy(f\"{LABELS_PATH}/{label_filename}\", f\"{dirname}/labels/{label_filename}\")\n",
    "\n",
    "# Move splits to folders\n",
    "move_files_to_dir(train, \"./data_testing/v1/train\")\n",
    "move_files_to_dir(test, \"./data_testing/v1/test\")\n",
    "move_files_to_dir(valid, \"./data_testing/v1/valid\")"
   ]
  },
  {
   "cell_type": "code",
   "execution_count": null,
   "metadata": {
    "ExecuteTime": {
     "end_time": "2023-11-26T00:38:41.107340Z",
     "start_time": "2023-11-26T00:38:41.102480Z"
    }
   },
   "outputs": [],
   "source": [
    "descr_darknet = json.load(open(NOTES_PATH))\n",
    "\n",
    "train_path = \"./data/train/images\"\n",
    "test_path = \"./data/test/images\"\n",
    "valid_path = \"./data/valid/images\"\n",
    "\n",
    "nc = len(descr_darknet[\"categories\"])\n",
    "names = [category for category in descr_darknet[\"categories\"]]\n",
    "\n",
    "print(\n",
    "    f\"train: {train_path}\\n\"\n",
    "    f\"test: {test_path}\\n\"\n",
    "    f\"val: {valid_path}\\n\\n\"\n",
    "    f\"nc: {nc}\\n\"\n",
    "    f\"names: {names}\",\n",
    ")"
   ]
  },
  {
   "cell_type": "code",
   "execution_count": null,
   "metadata": {
    "ExecuteTime": {
     "end_time": "2023-11-26T00:40:12.987628Z",
     "start_time": "2023-11-26T00:40:12.980818Z"
    }
   },
   "outputs": [],
   "source": [
    "with open(\"./data_testing/data.yaml\", \"w\") as file:\n",
    "    yaml.dump({\n",
    "        \"train\": train_path,\n",
    "        \"test\": test_path,\n",
    "        \"val\": valid_path,\n",
    "        \"nc\": nc,\n",
    "        \"names\": [f'{name}' for name in names]\n",
    "    }, stream=file, default_flow_style=None)"
   ]
  },
  {
   "cell_type": "code",
   "execution_count": null,
   "metadata": {},
   "outputs": [],
   "source": []
  }
 ],
 "metadata": {
  "hide_input": false,
  "kernelspec": {
   "display_name": "Python 3",
   "language": "python",
   "name": "python3"
  },
  "language_info": {
   "codemirror_mode": {
    "name": "ipython",
    "version": 3
   },
   "file_extension": ".py",
   "mimetype": "text/x-python",
   "name": "python",
   "nbconvert_exporter": "python",
   "pygments_lexer": "ipython3",
   "version": "3.7.7"
  },
  "latex_envs": {
   "LaTeX_envs_menu_present": true,
   "autoclose": false,
   "autocomplete": true,
   "bibliofile": "biblio.bib",
   "cite_by": "apalike",
   "current_citInitial": 1,
   "eqLabelWithNumbers": true,
   "eqNumInitial": 1,
   "hotkeys": {
    "equation": "Ctrl-E",
    "itemize": "Ctrl-I"
   },
   "labels_anchors": false,
   "latex_user_defs": false,
   "report_style_numbering": false,
   "user_envs_cfg": false
  },
  "nbTranslate": {
   "displayLangs": [
    "*"
   ],
   "hotkey": "alt-t",
   "langInMainMenu": true,
   "sourceLang": "en",
   "targetLang": "fr",
   "useGoogleTranslate": true
  }
 },
 "nbformat": 4,
 "nbformat_minor": 4
}
